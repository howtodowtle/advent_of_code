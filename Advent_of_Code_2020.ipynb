{
 "cells": [
  {
   "cell_type": "markdown",
   "metadata": {},
   "source": [
    "# Setup"
   ]
  },
  {
   "cell_type": "code",
   "execution_count": 135,
   "metadata": {},
   "outputs": [
    {
     "name": "stdout",
     "output_type": "stream",
     "text": [
      "[NbConvertApp] Converting notebook Advent_of_Code_2020.ipynb to python\n",
      "[NbConvertApp] ERROR | Notebook JSON is invalid: 'false' is not of type 'boolean'\n",
      "\n",
      "Failed validating 'type' in code_cell['properties']['metadata']['properties']['collapsed']:\n",
      "\n",
      "On instance['cells'][6]['metadata']['collapsed']:\n",
      "'false'\n",
      "--- Logging error ---\n",
      "Traceback (most recent call last):\n",
      "  File \"/Users/howtodowtle/opt/miniconda3/envs/main/lib/python3.7/site-packages/nbconvert/exporters/exporter.py\", line 318, in _preprocess\n",
      "    nbformat.validate(nbc, relax_add_props=True)\n",
      "  File \"/Users/howtodowtle/opt/miniconda3/envs/main/lib/python3.7/site-packages/nbformat/validator.py\", line 277, in validate\n",
      "    raise error\n",
      "nbformat.validator.NotebookValidationError: 'false' is not of type 'boolean'\n",
      "\n",
      "Failed validating 'type' in code_cell['properties']['metadata']['properties']['collapsed']:\n",
      "\n",
      "On instance['cells'][6]['metadata']['collapsed']:\n",
      "'false'\n",
      "\n",
      "During handling of the above exception, another exception occurred:\n",
      "\n",
      "Traceback (most recent call last):\n",
      "  File \"/Users/howtodowtle/opt/miniconda3/envs/main/lib/python3.7/logging/__init__.py\", line 1025, in emit\n",
      "    msg = self.format(record)\n",
      "  File \"/Users/howtodowtle/opt/miniconda3/envs/main/lib/python3.7/logging/__init__.py\", line 869, in format\n",
      "    return fmt.format(record)\n",
      "  File \"/Users/howtodowtle/opt/miniconda3/envs/main/lib/python3.7/site-packages/traitlets/config/application.py\", line 117, in format\n",
      "    return super(LevelFormatter, self).format(record)\n",
      "  File \"/Users/howtodowtle/opt/miniconda3/envs/main/lib/python3.7/logging/__init__.py\", line 608, in format\n",
      "    record.message = record.getMessage()\n",
      "  File \"/Users/howtodowtle/opt/miniconda3/envs/main/lib/python3.7/logging/__init__.py\", line 369, in getMessage\n",
      "    msg = msg % self.args\n",
      "TypeError: not all arguments converted during string formatting\n",
      "Call stack:\n",
      "  File \"/Users/howtodowtle/opt/miniconda3/envs/main/bin/jupyter-nbconvert\", line 11, in <module>\n",
      "    sys.exit(main())\n",
      "  File \"/Users/howtodowtle/opt/miniconda3/envs/main/lib/python3.7/site-packages/jupyter_core/application.py\", line 270, in launch_instance\n",
      "    return super(JupyterApp, cls).launch_instance(argv=argv, **kwargs)\n",
      "  File \"/Users/howtodowtle/opt/miniconda3/envs/main/lib/python3.7/site-packages/traitlets/config/application.py\", line 664, in launch_instance\n",
      "    app.start()\n",
      "  File \"/Users/howtodowtle/opt/miniconda3/envs/main/lib/python3.7/site-packages/nbconvert/nbconvertapp.py\", line 340, in start\n",
      "    self.convert_notebooks()\n",
      "  File \"/Users/howtodowtle/opt/miniconda3/envs/main/lib/python3.7/site-packages/nbconvert/nbconvertapp.py\", line 510, in convert_notebooks\n",
      "    self.convert_single_notebook(notebook_filename)\n",
      "  File \"/Users/howtodowtle/opt/miniconda3/envs/main/lib/python3.7/site-packages/nbconvert/nbconvertapp.py\", line 481, in convert_single_notebook\n",
      "    output, resources = self.export_single_notebook(notebook_filename, resources, input_buffer=input_buffer)\n",
      "  File \"/Users/howtodowtle/opt/miniconda3/envs/main/lib/python3.7/site-packages/nbconvert/nbconvertapp.py\", line 410, in export_single_notebook\n",
      "    output, resources = self.exporter.from_filename(notebook_filename, resources=resources)\n",
      "  File \"/Users/howtodowtle/opt/miniconda3/envs/main/lib/python3.7/site-packages/nbconvert/exporters/exporter.py\", line 179, in from_filename\n",
      "    return self.from_file(f, resources=resources, **kw)\n",
      "  File \"/Users/howtodowtle/opt/miniconda3/envs/main/lib/python3.7/site-packages/nbconvert/exporters/exporter.py\", line 197, in from_file\n",
      "    return self.from_notebook_node(nbformat.read(file_stream, as_version=4), resources=resources, **kw)\n",
      "  File \"/Users/howtodowtle/opt/miniconda3/envs/main/lib/python3.7/site-packages/nbconvert/exporters/templateexporter.py\", line 307, in from_notebook_node\n",
      "    nb_copy, resources = super(TemplateExporter, self).from_notebook_node(nb, resources, **kw)\n",
      "  File \"/Users/howtodowtle/opt/miniconda3/envs/main/lib/python3.7/site-packages/nbconvert/exporters/exporter.py\", line 139, in from_notebook_node\n",
      "    nb_copy, resources = self._preprocess(nb_copy, resources)\n",
      "  File \"/Users/howtodowtle/opt/miniconda3/envs/main/lib/python3.7/site-packages/nbconvert/exporters/exporter.py\", line 321, in _preprocess\n",
      "    preprocessor)\n",
      "Message: 'Notebook is invalid after preprocessor {}'\n",
      "Arguments: (<nbconvert.preprocessors.tagremove.TagRemovePreprocessor object at 0x7fada4af1b10>,)\n",
      "Traceback (most recent call last):\n",
      "  File \"/Users/howtodowtle/opt/miniconda3/envs/main/bin/jupyter-nbconvert\", line 11, in <module>\n",
      "    sys.exit(main())\n",
      "  File \"/Users/howtodowtle/opt/miniconda3/envs/main/lib/python3.7/site-packages/jupyter_core/application.py\", line 270, in launch_instance\n",
      "    return super(JupyterApp, cls).launch_instance(argv=argv, **kwargs)\n",
      "  File \"/Users/howtodowtle/opt/miniconda3/envs/main/lib/python3.7/site-packages/traitlets/config/application.py\", line 664, in launch_instance\n",
      "    app.start()\n",
      "  File \"/Users/howtodowtle/opt/miniconda3/envs/main/lib/python3.7/site-packages/nbconvert/nbconvertapp.py\", line 340, in start\n",
      "    self.convert_notebooks()\n",
      "  File \"/Users/howtodowtle/opt/miniconda3/envs/main/lib/python3.7/site-packages/nbconvert/nbconvertapp.py\", line 510, in convert_notebooks\n",
      "    self.convert_single_notebook(notebook_filename)\n",
      "  File \"/Users/howtodowtle/opt/miniconda3/envs/main/lib/python3.7/site-packages/nbconvert/nbconvertapp.py\", line 481, in convert_single_notebook\n",
      "    output, resources = self.export_single_notebook(notebook_filename, resources, input_buffer=input_buffer)\n",
      "  File \"/Users/howtodowtle/opt/miniconda3/envs/main/lib/python3.7/site-packages/nbconvert/nbconvertapp.py\", line 410, in export_single_notebook\n",
      "    output, resources = self.exporter.from_filename(notebook_filename, resources=resources)\n",
      "  File \"/Users/howtodowtle/opt/miniconda3/envs/main/lib/python3.7/site-packages/nbconvert/exporters/exporter.py\", line 179, in from_filename\n",
      "    return self.from_file(f, resources=resources, **kw)\n",
      "  File \"/Users/howtodowtle/opt/miniconda3/envs/main/lib/python3.7/site-packages/nbconvert/exporters/exporter.py\", line 197, in from_file\n",
      "    return self.from_notebook_node(nbformat.read(file_stream, as_version=4), resources=resources, **kw)\n",
      "  File \"/Users/howtodowtle/opt/miniconda3/envs/main/lib/python3.7/site-packages/nbconvert/exporters/templateexporter.py\", line 307, in from_notebook_node\n",
      "    nb_copy, resources = super(TemplateExporter, self).from_notebook_node(nb, resources, **kw)\n",
      "  File \"/Users/howtodowtle/opt/miniconda3/envs/main/lib/python3.7/site-packages/nbconvert/exporters/exporter.py\", line 139, in from_notebook_node\n",
      "    nb_copy, resources = self._preprocess(nb_copy, resources)\n",
      "  File \"/Users/howtodowtle/opt/miniconda3/envs/main/lib/python3.7/site-packages/nbconvert/exporters/exporter.py\", line 318, in _preprocess\n",
      "    nbformat.validate(nbc, relax_add_props=True)\n",
      "  File \"/Users/howtodowtle/opt/miniconda3/envs/main/lib/python3.7/site-packages/nbformat/validator.py\", line 277, in validate\n",
      "    raise error\n",
      "nbformat.validator.NotebookValidationError: 'false' is not of type 'boolean'\n",
      "\n",
      "Failed validating 'type' in code_cell['properties']['metadata']['properties']['collapsed']:\n",
      "\n",
      "On instance['cells'][6]['metadata']['collapsed']:\n",
      "'false'\n"
     ]
    }
   ],
   "source": [
    "! jupyter nbconvert --to python Advent_of_Code_2020.ipynb"
   ]
  },
  {
   "cell_type": "code",
   "execution_count": 736,
   "metadata": {},
   "outputs": [],
   "source": [
    "! mkdir -p inputs"
   ]
  },
  {
   "cell_type": "code",
   "execution_count": 1,
   "metadata": {},
   "outputs": [],
   "source": [
    "def put_away_input(inp, day, overwrite=False):\n",
    "    import os\n",
    "    filename = f\"inputs/inp_day_{day}.txt\"\n",
    "    if os.path.exists(filename):\n",
    "        print(f\"{filename} exists. Overwrite? (y/n)\")\n",
    "        overwrite = input() == \"y\"\n",
    "        if not overwrite:\n",
    "            print(\"Not overwriting existing file.\")            \n",
    "            return\n",
    "    print(f\"Writing {filename}.\")\n",
    "    with open(filename, \"w\") as f:\n",
    "        f.write(inp)"
   ]
  },
  {
   "cell_type": "code",
   "execution_count": 19,
   "metadata": {},
   "outputs": [],
   "source": [
    "def read_input(day):\n",
    "    filename = f\"inputs/inp_day_{day}.txt\"\n",
    "    with open(filename, \"r\") as f:\n",
    "        inp = f.read()\n",
    "    print(f\"Reading {filename}.\")\n",
    "    return inp"
   ]
  },
  {
   "cell_type": "markdown",
   "metadata": {},
   "source": [
    "# 1"
   ]
  },
  {
   "cell_type": "code",
   "execution_count": 5,
   "metadata": {},
   "outputs": [],
   "source": [
    "day = 1\n",
    "#put_away_input(inp, day)\n",
    "inp = read_input(day)"
   ]
  },
  {
   "cell_type": "markdown",
   "metadata": {},
   "source": [
    "## 1.1"
   ]
  },
  {
   "cell_type": "code",
   "execution_count": 6,
   "metadata": {},
   "outputs": [],
   "source": [
    "import itertools as it"
   ]
  },
  {
   "cell_type": "code",
   "execution_count": 7,
   "metadata": {},
   "outputs": [],
   "source": [
    "def aoc_1_1(inp=inp, sum_is=2020):\n",
    "    list_of_numbers = [int(n) for n in inp.splitlines()]\n",
    "    check = lambda x, y: x + y == sum_is\n",
    "    for pair in it.permutations(list_of_numbers, 2):\n",
    "        if check(*pair):\n",
    "            print(*pair)\n",
    "            return pair[0] * pair[1]\n",
    "    print(\"No combination found!\")\n",
    "    return None"
   ]
  },
  {
   "cell_type": "code",
   "execution_count": 8,
   "metadata": {},
   "outputs": [
    {
     "name": "stdout",
     "output_type": "stream",
     "text": [
      "456 1564\n"
     ]
    },
    {
     "data": {
      "text/plain": [
       "713184"
      ]
     },
     "execution_count": 8,
     "metadata": {},
     "output_type": "execute_result"
    }
   ],
   "source": [
    "aoc_1_1()"
   ]
  },
  {
   "cell_type": "markdown",
   "metadata": {},
   "source": [
    "## 1.2"
   ]
  },
  {
   "cell_type": "code",
   "execution_count": 9,
   "metadata": {},
   "outputs": [],
   "source": [
    "def multiply_nums(nums):\n",
    "    product = 1\n",
    "    for num in nums:\n",
    "        product *= num\n",
    "    return product"
   ]
  },
  {
   "cell_type": "code",
   "execution_count": 10,
   "metadata": {},
   "outputs": [],
   "source": [
    "def aoc_1_2(inp=inp, n_numbers=3, sum_is=2020):\n",
    "    list_of_numbers = [int(n) for n in inp.splitlines()]\n",
    "    check = lambda nums: sum(nums) == sum_is\n",
    "    for nums in it.permutations(list_of_numbers, n_numbers):\n",
    "        if check(nums):\n",
    "            print(*nums)\n",
    "            return multiply_nums(nums)\n",
    "    print(\"No combination found!\")\n",
    "    return None"
   ]
  },
  {
   "cell_type": "code",
   "execution_count": 11,
   "metadata": {},
   "outputs": [
    {
     "name": "stdout",
     "output_type": "stream",
     "text": [
      "764 857 399\n"
     ]
    },
    {
     "data": {
      "text/plain": [
       "261244452"
      ]
     },
     "execution_count": 11,
     "metadata": {},
     "output_type": "execute_result"
    }
   ],
   "source": [
    "aoc_1_2()"
   ]
  },
  {
   "cell_type": "markdown",
   "metadata": {},
   "source": [
    "# 2"
   ]
  },
  {
   "cell_type": "code",
   "execution_count": 12,
   "metadata": {},
   "outputs": [],
   "source": [
    "day = 2\n",
    "#put_away_input(inp, day)\n",
    "inp = read_input(day)"
   ]
  },
  {
   "cell_type": "markdown",
   "metadata": {},
   "source": [
    "## 2.1"
   ]
  },
  {
   "cell_type": "code",
   "execution_count": 13,
   "metadata": {},
   "outputs": [],
   "source": [
    "import re"
   ]
  },
  {
   "cell_type": "code",
   "execution_count": 14,
   "metadata": {},
   "outputs": [],
   "source": [
    "def parse_line(line):\n",
    "    min_ = int(line.split(\"-\")[0])\n",
    "    max_ = int(re.findall(r\"\\d+-(\\d+) \\w: \\w+\", line)[0])\n",
    "    letter = re.findall(r\"\\d+-\\d+ (\\w): \\w+\", line)[0]\n",
    "    passwd = re.findall(r\"\\d+-\\d+ \\w: (\\w+)\", line)[0]\n",
    "    return min_, max_, letter, passwd"
   ]
  },
  {
   "cell_type": "code",
   "execution_count": 15,
   "metadata": {},
   "outputs": [],
   "source": [
    "def check_line(line):\n",
    "    min_, max_, letter, passwd = parse_line(line)\n",
    "    this_many = passwd.count(letter)\n",
    "    return min_ <= this_many <= max_"
   ]
  },
  {
   "cell_type": "code",
   "execution_count": 16,
   "metadata": {},
   "outputs": [],
   "source": [
    "def aoc_2_1(inp=inp):\n",
    "    lines = inp.splitlines()\n",
    "    return sum(check_line(line) for line in lines)"
   ]
  },
  {
   "cell_type": "code",
   "execution_count": 17,
   "metadata": {},
   "outputs": [
    {
     "data": {
      "text/plain": [
       "439"
      ]
     },
     "execution_count": 17,
     "metadata": {},
     "output_type": "execute_result"
    }
   ],
   "source": [
    "aoc_2_1()"
   ]
  },
  {
   "cell_type": "markdown",
   "metadata": {},
   "source": [
    "## 2.2"
   ]
  },
  {
   "cell_type": "code",
   "execution_count": 18,
   "metadata": {},
   "outputs": [],
   "source": [
    "def check_line_2(line):\n",
    "    pos1, pos2, letter, passwd = parse_line(line)\n",
    "    lp1, lp2 = (passwd[pos1 - 1] == letter), (passwd[pos2 - 1] == letter)\n",
    "    return (lp1 or lp2) and not (lp1 and lp2)"
   ]
  },
  {
   "cell_type": "code",
   "execution_count": 19,
   "metadata": {},
   "outputs": [],
   "source": [
    "def aoc_2_2(inp=inp):\n",
    "    lines = inp.splitlines()\n",
    "    return sum(check_line_2(line) for line in lines)"
   ]
  },
  {
   "cell_type": "code",
   "execution_count": 20,
   "metadata": {},
   "outputs": [
    {
     "data": {
      "text/plain": [
       "584"
      ]
     },
     "execution_count": 20,
     "metadata": {},
     "output_type": "execute_result"
    }
   ],
   "source": [
    "aoc_2_2()"
   ]
  },
  {
   "cell_type": "markdown",
   "metadata": {},
   "source": [
    "# 3"
   ]
  },
  {
   "cell_type": "code",
   "execution_count": 21,
   "metadata": {},
   "outputs": [],
   "source": [
    "day = 3\n",
    "#put_away_input(inp, day)\n",
    "inp = read_input(day)"
   ]
  },
  {
   "cell_type": "markdown",
   "metadata": {},
   "source": [
    "## 3.1"
   ]
  },
  {
   "cell_type": "code",
   "execution_count": 22,
   "metadata": {},
   "outputs": [],
   "source": [
    "import itertools as it"
   ]
  },
  {
   "cell_type": "code",
   "execution_count": 23,
   "metadata": {},
   "outputs": [],
   "source": [
    "def aoc_3_1(inp=inp, debug=False):\n",
    "    lines = (it.cycle(l) for l in inp.splitlines())\n",
    "    path, idx = [], 0\n",
    "    for line in lines:\n",
    "        if debug:\n",
    "            print(f\"Index: {idx}\")\n",
    "        [next(line) for _ in range(idx)]  # consume rows\n",
    "        path.append(next(line))\n",
    "        idx += 3\n",
    "    return path.count(\"#\")"
   ]
  },
  {
   "cell_type": "code",
   "execution_count": 24,
   "metadata": {},
   "outputs": [
    {
     "data": {
      "text/plain": [
       "200"
      ]
     },
     "execution_count": 24,
     "metadata": {},
     "output_type": "execute_result"
    }
   ],
   "source": [
    "aoc_3_1()"
   ]
  },
  {
   "cell_type": "markdown",
   "metadata": {},
   "source": [
    "## 3.2"
   ]
  },
  {
   "cell_type": "code",
   "execution_count": 25,
   "metadata": {},
   "outputs": [],
   "source": [
    "test_inp = \"\"\"..##.......\n",
    "#...#...#..\n",
    ".#....#..#.\n",
    "..#.#...#.#\n",
    ".#...##..#.\n",
    "..#.##.....\n",
    ".#.#.#....#\n",
    ".#........#\n",
    "#.##...#...\n",
    "#...##....#\n",
    ".#..#...#.#\"\"\""
   ]
  },
  {
   "cell_type": "code",
   "execution_count": 26,
   "metadata": {},
   "outputs": [],
   "source": [
    "def aoc_3_2_helper(right=3, down=1, inp=inp, debug=False):\n",
    "    lines = (it.cycle(l) for l in inp.splitlines())\n",
    "    path, idx = [], 0\n",
    "    while True:\n",
    "        try:\n",
    "            line = next(lines)\n",
    "            [next(line) for _ in range(idx)]  # consume rows\n",
    "            path.append(next(line))\n",
    "            idx += right\n",
    "            [next(lines) for _ in range(down - 1)]  # consume cols\n",
    "        except StopIteration:\n",
    "            break\n",
    "    return path.count(\"#\")"
   ]
  },
  {
   "cell_type": "code",
   "execution_count": 27,
   "metadata": {},
   "outputs": [],
   "source": [
    "def aoc_3_2(rights=(1, 3, 5, 7, 1), downs=(1, 1, 1, 1, 2), inp=inp, debug=False):\n",
    "    assert len(rights) == len(downs), \"not the same number of downs & rights!\"\n",
    "    product = 1\n",
    "    for r, d in zip(rights, downs):\n",
    "        trees = aoc_3_2_helper(right=r, down=d, inp=inp)\n",
    "        if debug:\n",
    "            print(f\"Right {r}, down {d}: {trees:3}.\")\n",
    "        product *= trees\n",
    "    return product"
   ]
  },
  {
   "cell_type": "code",
   "execution_count": 28,
   "metadata": {},
   "outputs": [
    {
     "name": "stdout",
     "output_type": "stream",
     "text": [
      "Right 1, down 1:   2.\n",
      "Right 3, down 1:   7.\n",
      "Right 5, down 1:   3.\n",
      "Right 7, down 1:   4.\n",
      "Right 1, down 2:   2.\n"
     ]
    },
    {
     "data": {
      "text/plain": [
       "336"
      ]
     },
     "execution_count": 28,
     "metadata": {},
     "output_type": "execute_result"
    }
   ],
   "source": [
    "aoc_3_2(inp=test_inp, debug=True)"
   ]
  },
  {
   "cell_type": "code",
   "execution_count": 29,
   "metadata": {},
   "outputs": [
    {
     "name": "stdout",
     "output_type": "stream",
     "text": [
      "Right 1, down 1:  66.\n",
      "Right 3, down 1: 200.\n",
      "Right 5, down 1:  76.\n",
      "Right 7, down 1:  81.\n",
      "Right 1, down 2:  46.\n"
     ]
    },
    {
     "data": {
      "text/plain": [
       "3737923200"
      ]
     },
     "execution_count": 29,
     "metadata": {},
     "output_type": "execute_result"
    }
   ],
   "source": [
    "aoc_3_2(inp=inp, debug=True)"
   ]
  },
  {
   "cell_type": "markdown",
   "metadata": {},
   "source": [
    "# 4"
   ]
  },
  {
   "cell_type": "code",
   "execution_count": 30,
   "metadata": {},
   "outputs": [],
   "source": [
    "day = 4\n",
    "#put_away_input(inp, day)\n",
    "inp = read_input(day)"
   ]
  },
  {
   "cell_type": "markdown",
   "metadata": {},
   "source": [
    "## 4.1"
   ]
  },
  {
   "cell_type": "code",
   "execution_count": 31,
   "metadata": {},
   "outputs": [],
   "source": [
    "test_inp = \"\"\"ecl:gry pid:860033327 eyr:2020 hcl:#fffffd\n",
    "byr:1937 iyr:2017 cid:147 hgt:183cm\n",
    "\n",
    "iyr:2013 ecl:amb cid:350 eyr:2023 pid:028048884\n",
    "hcl:#cfa07d byr:1929\n",
    "\n",
    "hcl:#ae17e1 iyr:2013\n",
    "eyr:2024\n",
    "ecl:brn pid:760753108 byr:1931\n",
    "hgt:179cm\n",
    "\n",
    "hcl:#cfa07d eyr:2025 pid:166559648\n",
    "iyr:2011 ecl:brn hgt:59in\"\"\""
   ]
  },
  {
   "cell_type": "code",
   "execution_count": 32,
   "metadata": {},
   "outputs": [],
   "source": [
    "KEYS = set((\"byr\", \"iyr\", \"eyr\", \"hgt\", \"hcl\", \"ecl\", \"pid\", \"cid\"))"
   ]
  },
  {
   "cell_type": "code",
   "execution_count": 33,
   "metadata": {},
   "outputs": [],
   "source": [
    "OPT_KEYS = set((\"cid\",))"
   ]
  },
  {
   "cell_type": "code",
   "execution_count": 34,
   "metadata": {},
   "outputs": [],
   "source": [
    "REQ_KEYS = KEYS.difference(OPT_KEYS)"
   ]
  },
  {
   "cell_type": "code",
   "execution_count": 35,
   "metadata": {},
   "outputs": [
    {
     "data": {
      "text/plain": [
       "({'byr', 'cid', 'ecl', 'eyr', 'hcl', 'hgt', 'iyr', 'pid'},\n",
       " {'cid'},\n",
       " {'byr', 'ecl', 'eyr', 'hcl', 'hgt', 'iyr', 'pid'})"
      ]
     },
     "execution_count": 35,
     "metadata": {},
     "output_type": "execute_result"
    }
   ],
   "source": [
    "KEYS, OPT_KEYS, REQ_KEYS"
   ]
  },
  {
   "cell_type": "code",
   "execution_count": 36,
   "metadata": {},
   "outputs": [],
   "source": [
    "def split_inp(inp=inp):\n",
    "    yield from inp.split(\"\\n\\n\")"
   ]
  },
  {
   "cell_type": "code",
   "execution_count": 37,
   "metadata": {},
   "outputs": [],
   "source": [
    "def check_passport(pp):\n",
    "    return all([f\"{k}:\" in pp for k in REQ_KEYS])"
   ]
  },
  {
   "cell_type": "code",
   "execution_count": 38,
   "metadata": {},
   "outputs": [],
   "source": [
    "def aoc_4_1(inp=inp):\n",
    "    return sum(check_passport(pp) for pp in split_inp(inp))"
   ]
  },
  {
   "cell_type": "code",
   "execution_count": 39,
   "metadata": {},
   "outputs": [
    {
     "data": {
      "text/plain": [
       "182"
      ]
     },
     "execution_count": 39,
     "metadata": {},
     "output_type": "execute_result"
    }
   ],
   "source": [
    "aoc_4_1()"
   ]
  },
  {
   "cell_type": "markdown",
   "metadata": {},
   "source": [
    "## 4.2"
   ]
  },
  {
   "cell_type": "code",
   "execution_count": 40,
   "metadata": {},
   "outputs": [],
   "source": [
    "from functools import partial"
   ]
  },
  {
   "cell_type": "code",
   "execution_count": 41,
   "metadata": {},
   "outputs": [],
   "source": [
    "import re"
   ]
  },
  {
   "cell_type": "code",
   "execution_count": 42,
   "metadata": {},
   "outputs": [],
   "source": [
    "REQ_KEYS = (\"byr\", \"ecl\", \"eyr\", \"hcl\", \"hgt\", \"iyr\", \"pid\")"
   ]
  },
  {
   "cell_type": "code",
   "execution_count": 43,
   "metadata": {},
   "outputs": [],
   "source": [
    "ECLS = (\"amb\", \"blu\", \"brn\", \"gry\", \"grn\", \"hzl\", \"oth\")"
   ]
  },
  {
   "cell_type": "code",
   "execution_count": 44,
   "metadata": {},
   "outputs": [],
   "source": [
    "def year_check(y, miny, maxy, digits=4):\n",
    "    try:\n",
    "        return len(y) == digits and miny <= int(y) <= maxy\n",
    "    except:\n",
    "        return False"
   ]
  },
  {
   "cell_type": "code",
   "execution_count": 45,
   "metadata": {},
   "outputs": [],
   "source": [
    "def check_height(hgt):\n",
    "    if len(hgt) > 5 or len(hgt) < 4:\n",
    "        return False\n",
    "    val, unit = hgt[:-2], hgt[-2:]\n",
    "    if unit not in (\"cm\", \"in\"):\n",
    "        return False\n",
    "    try:\n",
    "        val = int(val)\n",
    "    except:\n",
    "        return False\n",
    "    if unit == \"cm\":\n",
    "        return 150 <= val <= 193\n",
    "    else:\n",
    "        return 59 <= val <= 76"
   ]
  },
  {
   "cell_type": "code",
   "execution_count": 46,
   "metadata": {},
   "outputs": [],
   "source": [
    "RULES = {\n",
    "    \"byr\": partial(year_check, miny=1920, maxy=2002),\n",
    "    \"iyr\": partial(year_check, miny=2010, maxy=2020),\n",
    "    \"eyr\": partial(year_check, miny=2020, maxy=2030),\n",
    "    \"hgt\": check_height,\n",
    "    \"hcl\": lambda hcl: re.fullmatch(r\"#[\\da-f]{6}\", hcl) is not None,\n",
    "    \"ecl\": lambda ecl: ecl in ECLS,\n",
    "    \"pid\": lambda pid: re.fullmatch(r\"\\d{9}\", pid) is not None,\n",
    "}"
   ]
  },
  {
   "cell_type": "code",
   "execution_count": 47,
   "metadata": {},
   "outputs": [],
   "source": [
    "def parse_passport(pp):\n",
    "    pp += \" \"  # append whitespace so regex is easy\n",
    "    pp_dict = {key: re.findall(fr\"{key}:(.*?)\\s\", pp)[0]\n",
    "               for key in REQ_KEYS}\n",
    "    return pp_dict"
   ]
  },
  {
   "cell_type": "code",
   "execution_count": 48,
   "metadata": {},
   "outputs": [],
   "source": [
    "def check_passport_2(pp):\n",
    "    if check_passport(pp) is False:\n",
    "        return False\n",
    "    fields = parse_passport(pp)\n",
    "    assert set(RULES.keys()) == set(fields.keys()), \"fields and rules don't match!\"\n",
    "    return all(RULES[field](value) for field, value in fields.items())"
   ]
  },
  {
   "cell_type": "code",
   "execution_count": 49,
   "metadata": {},
   "outputs": [],
   "source": [
    "def aoc_4_2(inp=inp):\n",
    "    return sum(check_passport_2(pp) for pp in split_inp(inp))"
   ]
  },
  {
   "cell_type": "code",
   "execution_count": 50,
   "metadata": {},
   "outputs": [
    {
     "data": {
      "text/plain": [
       "109"
      ]
     },
     "execution_count": 50,
     "metadata": {},
     "output_type": "execute_result"
    }
   ],
   "source": [
    "aoc_4_2()"
   ]
  },
  {
   "cell_type": "markdown",
   "metadata": {
    "jupyter": {
     "outputs_hidden": true
    }
   },
   "source": [
    "# 5"
   ]
  },
  {
   "cell_type": "code",
   "execution_count": 51,
   "metadata": {},
   "outputs": [],
   "source": [
    "day = 5\n",
    "#put_away_input(inp, day)\n",
    "inp = read_input(day)"
   ]
  },
  {
   "cell_type": "markdown",
   "metadata": {},
   "source": [
    "## 5.1"
   ]
  },
  {
   "cell_type": "markdown",
   "metadata": {},
   "source": [
    "```\n",
    "BFFFBBFRRR: row 70, column 7, seat ID 567.\n",
    "FFFBBBFRRR: row 14, column 7, seat ID 119.\n",
    "BBFFBBFRLL: row 102, column 4, seat ID 820.\n",
    "```"
   ]
  },
  {
   "cell_type": "code",
   "execution_count": 52,
   "metadata": {},
   "outputs": [],
   "source": [
    "test_inp = \"\"\"BFFFBBFRRR\n",
    "FFFBBBFRRR\n",
    "BBFFBBFRLL\"\"\""
   ]
  },
  {
   "cell_type": "code",
   "execution_count": 53,
   "metadata": {},
   "outputs": [],
   "source": [
    "def split_line(line: str):\n",
    "    row_b, col_b = line[:-3], line[-3:]\n",
    "    return row_b, col_b"
   ]
  },
  {
   "cell_type": "code",
   "execution_count": 54,
   "metadata": {},
   "outputs": [],
   "source": [
    "def map_to_bin(s, map_0=\"L\", map_1=\"R\"):\n",
    "    remapped = s.replace(map_0, \"0\").replace(map_1, \"1\")\n",
    "    return int(remapped, 2)"
   ]
  },
  {
   "cell_type": "code",
   "execution_count": 55,
   "metadata": {},
   "outputs": [],
   "source": [
    "def calc_seat_num(line):\n",
    "    row_b, col_b = split_line(line)\n",
    "    row, col = map_to_bin(row_b, \"F\", \"B\"), map_to_bin(col_b)\n",
    "    return row * 8 + col"
   ]
  },
  {
   "cell_type": "code",
   "execution_count": 56,
   "metadata": {},
   "outputs": [],
   "source": [
    "def aoc_5_1(inp=inp):\n",
    "    return max(calc_seat_num(line) for line in inp.splitlines())"
   ]
  },
  {
   "cell_type": "code",
   "execution_count": 57,
   "metadata": {},
   "outputs": [
    {
     "data": {
      "text/plain": [
       "928"
      ]
     },
     "execution_count": 57,
     "metadata": {},
     "output_type": "execute_result"
    }
   ],
   "source": [
    "aoc_5_1()"
   ]
  },
  {
   "cell_type": "markdown",
   "metadata": {},
   "source": [
    "## 5.2"
   ]
  },
  {
   "cell_type": "code",
   "execution_count": 58,
   "metadata": {},
   "outputs": [],
   "source": [
    "def all_seats(inp):\n",
    "    return (calc_seat_num(line) for line in inp.splitlines())"
   ]
  },
  {
   "cell_type": "code",
   "execution_count": 59,
   "metadata": {},
   "outputs": [],
   "source": [
    "def aoc_5_2(inp=inp):\n",
    "    seat_list = list(all_seats(inp))\n",
    "    min_seat, max_seat = min(seat_list), max(seat_list)\n",
    "    my_seat = [seat for seat in range(min_seat, max_seat + 1) if seat not in seat_list][0]\n",
    "    return my_seat"
   ]
  },
  {
   "cell_type": "code",
   "execution_count": 60,
   "metadata": {},
   "outputs": [
    {
     "data": {
      "text/plain": [
       "610"
      ]
     },
     "execution_count": 60,
     "metadata": {},
     "output_type": "execute_result"
    }
   ],
   "source": [
    "aoc_5_2()"
   ]
  },
  {
   "cell_type": "markdown",
   "metadata": {},
   "source": [
    "# 6"
   ]
  },
  {
   "cell_type": "code",
   "execution_count": 61,
   "metadata": {},
   "outputs": [],
   "source": [
    "day = 6\n",
    "#put_away_input(inp, day)\n",
    "inp = read_input(day)"
   ]
  },
  {
   "cell_type": "markdown",
   "metadata": {},
   "source": [
    "## 6.1"
   ]
  },
  {
   "cell_type": "code",
   "execution_count": 62,
   "metadata": {},
   "outputs": [],
   "source": [
    "from string import ascii_lowercase as letters"
   ]
  },
  {
   "cell_type": "code",
   "execution_count": 63,
   "metadata": {},
   "outputs": [
    {
     "data": {
      "text/plain": [
       "'abcdefghijklmnopqrstuvwxyz'"
      ]
     },
     "execution_count": 63,
     "metadata": {},
     "output_type": "execute_result"
    }
   ],
   "source": [
    "letters"
   ]
  },
  {
   "cell_type": "code",
   "execution_count": 64,
   "metadata": {},
   "outputs": [],
   "source": [
    "def split_inp(inp=inp):\n",
    "    yield from inp.split(\"\\n\\n\")"
   ]
  },
  {
   "cell_type": "code",
   "execution_count": 65,
   "metadata": {},
   "outputs": [],
   "source": [
    "def aoc_6_1(inp=inp):\n",
    "    return sum(ltr in grp \n",
    "               for ltr in letters\n",
    "               for grp in split_inp(inp))"
   ]
  },
  {
   "cell_type": "code",
   "execution_count": 66,
   "metadata": {},
   "outputs": [
    {
     "data": {
      "text/plain": [
       "6335"
      ]
     },
     "execution_count": 66,
     "metadata": {},
     "output_type": "execute_result"
    }
   ],
   "source": [
    "aoc_6_1()"
   ]
  },
  {
   "cell_type": "markdown",
   "metadata": {},
   "source": [
    "## 6.2"
   ]
  },
  {
   "cell_type": "code",
   "execution_count": 67,
   "metadata": {},
   "outputs": [],
   "source": [
    "def split_group(grp):\n",
    "    return grp.splitlines()"
   ]
  },
  {
   "cell_type": "code",
   "execution_count": 68,
   "metadata": {},
   "outputs": [],
   "source": [
    "def calc_group(grp):\n",
    "    return sum(all([letter in person for person in split_group(grp)]) \n",
    "               for letter in letters)"
   ]
  },
  {
   "cell_type": "code",
   "execution_count": 69,
   "metadata": {},
   "outputs": [],
   "source": [
    "def aoc_6_2(inp=inp):\n",
    "    return sum(calc_group(grp) for grp in split_inp(inp))"
   ]
  },
  {
   "cell_type": "code",
   "execution_count": 70,
   "metadata": {},
   "outputs": [
    {
     "data": {
      "text/plain": [
       "3392"
      ]
     },
     "execution_count": 70,
     "metadata": {},
     "output_type": "execute_result"
    }
   ],
   "source": [
    "aoc_6_2()"
   ]
  },
  {
   "cell_type": "markdown",
   "metadata": {},
   "source": [
    "# 7"
   ]
  },
  {
   "cell_type": "code",
   "execution_count": 71,
   "metadata": {},
   "outputs": [],
   "source": [
    "day = 7\n",
    "# put_away_input(inp, day)\n",
    "inp = read_input(day)"
   ]
  },
  {
   "cell_type": "markdown",
   "metadata": {},
   "source": [
    "## 7.1"
   ]
  },
  {
   "cell_type": "code",
   "execution_count": 72,
   "metadata": {},
   "outputs": [],
   "source": [
    "test_inp_1 = \"\"\"light red bags contain 1 bright white bag, 2 muted yellow bags.\n",
    "dark orange bags contain 3 bright white bags, 4 muted yellow bags.\n",
    "bright white bags contain 1 shiny gold bag.\n",
    "muted yellow bags contain 2 shiny gold bags, 9 faded blue bags.\n",
    "shiny gold bags contain 1 dark olive bag, 2 vibrant plum bags.\n",
    "dark olive bags contain 3 faded blue bags, 4 dotted black bags.\n",
    "vibrant plum bags contain 5 faded blue bags, 6 dotted black bags.\n",
    "faded blue bags contain no other bags.\n",
    "dotted black bags contain no other bags.\"\"\""
   ]
  },
  {
   "cell_type": "code",
   "execution_count": 73,
   "metadata": {},
   "outputs": [],
   "source": [
    "import re"
   ]
  },
  {
   "cell_type": "code",
   "execution_count": 74,
   "metadata": {},
   "outputs": [],
   "source": [
    "COL = \"shiny gold\""
   ]
  },
  {
   "cell_type": "code",
   "execution_count": 75,
   "metadata": {},
   "outputs": [],
   "source": [
    "def parse_inside_bags(inside_bags):\n",
    "    inside_bag_tuples = re.findall(r\"(\\d+) (.+?) bag\", inside_bags)\n",
    "    return {color: int(n) for n, color in inside_bag_tuples}"
   ]
  },
  {
   "cell_type": "code",
   "execution_count": 76,
   "metadata": {},
   "outputs": [],
   "source": [
    "def parse_line(line: str):\n",
    "    \"\"\"in: line (str),\n",
    "    out: outside bag (str), potential inside bags (dict {str: int})\"\"\"\n",
    "    outside_bag, inside_bags = line.split(\" bags contain \")\n",
    "    inside_dict = parse_inside_bags(inside_bags)\n",
    "    return outside_bag, inside_dict"
   ]
  },
  {
   "cell_type": "code",
   "execution_count": 77,
   "metadata": {},
   "outputs": [],
   "source": [
    "def parse_all_lines(inp, verbose=False):\n",
    "    all_lines = [parse_line(line) for line in inp.splitlines()]\n",
    "    outside, inside = zip(*all_lines)\n",
    "    colors = set(color for color in outside)\n",
    "    for inside_dict in inside:\n",
    "        colors |= set([color for color in inside_dict])\n",
    "    if verbose: print(f\"Found {len(colors)} unique colors.\")\n",
    "    return colors, outside, inside"
   ]
  },
  {
   "cell_type": "code",
   "execution_count": 78,
   "metadata": {},
   "outputs": [],
   "source": [
    "def create_parent_dict(colors, outside, inside):\n",
    "    parent_dict = {color: set() for color in colors}\n",
    "    for out_col, in_cols in zip(outside, inside):\n",
    "        for in_col in in_cols:\n",
    "            parent_dict[in_col].add(out_col)\n",
    "    return parent_dict"
   ]
  },
  {
   "cell_type": "code",
   "execution_count": 79,
   "metadata": {},
   "outputs": [],
   "source": [
    "def aoc_7_1(inp=inp):\n",
    "    global COL\n",
    "    parent_dict = create_parent_dict(*parse_all_lines(inp))\n",
    "    can_be_inside = set(parent_dict[COL])\n",
    "    print(f\"{COL} can be directly in {can_be_inside}...\")\n",
    "    checked = set()\n",
    "    while can_be_inside:\n",
    "        to_check = can_be_inside.pop()\n",
    "        if to_check in checked:\n",
    "            continue\n",
    "        can_be_inside |= set(parent_dict[to_check])\n",
    "        checked.add(to_check)\n",
    "    print(f\"... and indirectly in {len(checked)} bag styles.\")\n",
    "    return len(checked)"
   ]
  },
  {
   "cell_type": "code",
   "execution_count": 80,
   "metadata": {},
   "outputs": [
    {
     "name": "stdout",
     "output_type": "stream",
     "text": [
      "shiny gold can be directly in {'bright white', 'muted yellow'}...\n",
      "... and indirectly in 4 bag styles.\n"
     ]
    },
    {
     "data": {
      "text/plain": [
       "4"
      ]
     },
     "execution_count": 80,
     "metadata": {},
     "output_type": "execute_result"
    }
   ],
   "source": [
    "aoc_7_1(test_inp_1)"
   ]
  },
  {
   "cell_type": "code",
   "execution_count": 81,
   "metadata": {},
   "outputs": [
    {
     "name": "stdout",
     "output_type": "stream",
     "text": [
      "shiny gold can be directly in {'clear red', 'clear indigo', 'dark gold', 'bright chartreuse', 'bright red', 'dim red', 'plaid plum', 'muted gray', 'clear plum', 'striped olive'}...\n",
      "... and indirectly in 372 bag styles.\n"
     ]
    },
    {
     "data": {
      "text/plain": [
       "372"
      ]
     },
     "execution_count": 81,
     "metadata": {},
     "output_type": "execute_result"
    }
   ],
   "source": [
    "aoc_7_1()"
   ]
  },
  {
   "cell_type": "markdown",
   "metadata": {},
   "source": [
    "## 7.2"
   ]
  },
  {
   "cell_type": "code",
   "execution_count": 82,
   "metadata": {},
   "outputs": [],
   "source": [
    "test_inp_2 = \"\"\"shiny gold bags contain 2 dark red bags.\n",
    "dark red bags contain 2 dark orange bags.\n",
    "dark orange bags contain 2 dark yellow bags.\n",
    "dark yellow bags contain 2 dark green bags.\n",
    "dark green bags contain 2 dark blue bags.\n",
    "dark blue bags contain 2 dark violet bags.\n",
    "dark violet bags contain no other bags.\"\"\""
   ]
  },
  {
   "cell_type": "code",
   "execution_count": 83,
   "metadata": {},
   "outputs": [],
   "source": [
    "def aoc_7_2(inp=inp, verbose=False):\n",
    "    global COL\n",
    "    colors, outside, inside = parse_all_lines(inp)\n",
    "    out_in = dict(zip(outside, inside))\n",
    "    \n",
    "    def get_number(color, num, out_in=out_in, verbose=False):\n",
    "        contents = out_in.get(color)\n",
    "        if verbose: print(f\"We have {num} {color} bags.\")\n",
    "        if contents:\n",
    "            if verbose: print(f\"{color:20} is in out_in, it's contents are:\\n{contents}.\")\n",
    "            bags_inside = num + sum([num * get_number(inside_col, inside_num) \n",
    "                                     for inside_col, inside_num in contents.items()])\n",
    "            if verbose: print(f\"# bags inside {color}: {bags_inside}.\")\n",
    "            return bags_inside\n",
    "        if verbose: print(f\"Empty.\")\n",
    "        return num\n",
    "    \n",
    "    return get_number(COL, 1) - 1  # subtract shiny gold bag itself"
   ]
  },
  {
   "cell_type": "code",
   "execution_count": 84,
   "metadata": {},
   "outputs": [],
   "source": [
    "assert aoc_7_2(test_inp_1) == 32"
   ]
  },
  {
   "cell_type": "code",
   "execution_count": 85,
   "metadata": {},
   "outputs": [],
   "source": [
    "assert aoc_7_2(test_inp_2) == 126"
   ]
  },
  {
   "cell_type": "code",
   "execution_count": 86,
   "metadata": {},
   "outputs": [
    {
     "data": {
      "text/plain": [
       "8015"
      ]
     },
     "execution_count": 86,
     "metadata": {},
     "output_type": "execute_result"
    }
   ],
   "source": [
    "aoc_7_2()"
   ]
  },
  {
   "cell_type": "markdown",
   "metadata": {},
   "source": [
    "# 8"
   ]
  },
  {
   "cell_type": "code",
   "execution_count": 87,
   "metadata": {},
   "outputs": [],
   "source": [
    "day = 8\n",
    "# put_away_input(inp, day)\n",
    "inp = read_input(day)"
   ]
  },
  {
   "cell_type": "markdown",
   "metadata": {},
   "source": [
    "## 8.1"
   ]
  },
  {
   "cell_type": "code",
   "execution_count": 88,
   "metadata": {},
   "outputs": [],
   "source": [
    "test_inp = \"\"\"nop +0\n",
    "acc +1\n",
    "jmp +4\n",
    "acc +3\n",
    "jmp -3\n",
    "acc -99\n",
    "acc +1\n",
    "jmp -4\n",
    "acc +6\"\"\""
   ]
  },
  {
   "cell_type": "code",
   "execution_count": 89,
   "metadata": {},
   "outputs": [],
   "source": [
    "def split_instruction(inst):\n",
    "    op = inst[:3]\n",
    "    val = int(inst.split(\" \")[-1])\n",
    "    return op, val"
   ]
  },
  {
   "cell_type": "code",
   "execution_count": 90,
   "metadata": {},
   "outputs": [],
   "source": [
    "def read_code(inp):\n",
    "    return tuple(split_instruction(inst)\n",
    "                 for inst in inp.splitlines())"
   ]
  },
  {
   "cell_type": "code",
   "execution_count": 91,
   "metadata": {},
   "outputs": [],
   "source": [
    "def aoc_8_1(inp=inp, verbose=False):\n",
    "\n",
    "    code = read_code(inp)\n",
    "    visited = set()\n",
    "    acc, idx = 0, 0\n",
    "\n",
    "    while True:\n",
    "        if idx in visited:\n",
    "            return acc\n",
    "        visited.add(idx)\n",
    "        op, val = code[idx]\n",
    "        acc += val if op == \"acc\" else 0\n",
    "        idx += val if op == \"jmp\" else 1\n",
    "        if verbose:\n",
    "            print(f\"[{op:} {val:2}] - accumulator now at {acc}, jumping to idx {idx}.\")"
   ]
  },
  {
   "cell_type": "code",
   "execution_count": 92,
   "metadata": {},
   "outputs": [
    {
     "name": "stdout",
     "output_type": "stream",
     "text": [
      "[nop  0] - accumulator now at 0, jumping to idx 1.\n",
      "[acc  1] - accumulator now at 1, jumping to idx 2.\n",
      "[jmp  4] - accumulator now at 1, jumping to idx 6.\n",
      "[acc  1] - accumulator now at 2, jumping to idx 7.\n",
      "[jmp -4] - accumulator now at 2, jumping to idx 3.\n",
      "[acc  3] - accumulator now at 5, jumping to idx 4.\n",
      "[jmp -3] - accumulator now at 5, jumping to idx 1.\n"
     ]
    },
    {
     "data": {
      "text/plain": [
       "5"
      ]
     },
     "execution_count": 92,
     "metadata": {},
     "output_type": "execute_result"
    }
   ],
   "source": [
    "aoc_8_1(test_inp, verbose=True)"
   ]
  },
  {
   "cell_type": "code",
   "execution_count": 93,
   "metadata": {},
   "outputs": [],
   "source": [
    "assert aoc_8_1(test_inp) == 5"
   ]
  },
  {
   "cell_type": "code",
   "execution_count": 94,
   "metadata": {},
   "outputs": [
    {
     "data": {
      "text/plain": [
       "1727"
      ]
     },
     "execution_count": 94,
     "metadata": {},
     "output_type": "execute_result"
    }
   ],
   "source": [
    "aoc_8_1()"
   ]
  },
  {
   "cell_type": "markdown",
   "metadata": {},
   "source": [
    "## 8.2"
   ]
  },
  {
   "cell_type": "code",
   "execution_count": 95,
   "metadata": {},
   "outputs": [],
   "source": [
    "def split_instruction(inst, immutable=True):\n",
    "    op = inst[:3]\n",
    "    val = int(inst.split(\" \")[-1])\n",
    "    iter_func = tuple if immutable else list\n",
    "    return iter_func((op, val))"
   ]
  },
  {
   "cell_type": "code",
   "execution_count": 96,
   "metadata": {},
   "outputs": [],
   "source": [
    "def read_code(inp, immutable=True):\n",
    "    iter_func = tuple if immutable else list\n",
    "    return iter_func(split_instruction(inst, immutable)\n",
    "                     for inst in inp.splitlines())"
   ]
  },
  {
   "cell_type": "code",
   "execution_count": 97,
   "metadata": {},
   "outputs": [],
   "source": [
    "def is_finite(code):\n",
    "\n",
    "    visited = set()\n",
    "    acc, idx = 0, 0\n",
    "\n",
    "    while True:\n",
    "        if idx in visited:\n",
    "            return False, acc\n",
    "        if idx >= len(code):\n",
    "            return True, acc\n",
    "        visited.add(idx)\n",
    "        op, val = code[idx]\n",
    "        acc += val if op == \"acc\" else 0\n",
    "        idx += val if op == \"jmp\" else 1"
   ]
  },
  {
   "cell_type": "code",
   "execution_count": 98,
   "metadata": {},
   "outputs": [],
   "source": [
    "from copy import deepcopy"
   ]
  },
  {
   "cell_type": "code",
   "execution_count": 99,
   "metadata": {},
   "outputs": [],
   "source": [
    "def aoc_8_2(inp=inp):\n",
    "\n",
    "    og_code = read_code(inp, immutable=False)\n",
    "    for idx, (op, val) in enumerate(og_code):\n",
    "        if op == \"acc\":\n",
    "            continue\n",
    "        new_code = deepcopy(og_code)\n",
    "        new_code[idx][0] = \"jmp\" if op == \"nop\" else \"nop\"\n",
    "        finite, acc = is_finite(new_code)\n",
    "        if finite:\n",
    "            return acc"
   ]
  },
  {
   "cell_type": "code",
   "execution_count": 100,
   "metadata": {},
   "outputs": [
    {
     "data": {
      "text/plain": [
       "8"
      ]
     },
     "execution_count": 100,
     "metadata": {},
     "output_type": "execute_result"
    }
   ],
   "source": [
    "aoc_8_2(test_inp)"
   ]
  },
  {
   "cell_type": "code",
   "execution_count": 101,
   "metadata": {},
   "outputs": [
    {
     "data": {
      "text/plain": [
       "552"
      ]
     },
     "execution_count": 101,
     "metadata": {},
     "output_type": "execute_result"
    }
   ],
   "source": [
    "aoc_8_2()"
   ]
  },
  {
   "cell_type": "markdown",
   "metadata": {},
   "source": [
    "# 9"
   ]
  },
  {
   "cell_type": "code",
   "execution_count": 102,
   "metadata": {},
   "outputs": [],
   "source": [
    "day = 9\n",
    "# put_away_input(inp, day)\n",
    "inp = read_input(day)"
   ]
  },
  {
   "cell_type": "markdown",
   "metadata": {},
   "source": [
    "## 9.1"
   ]
  },
  {
   "cell_type": "code",
   "execution_count": 103,
   "metadata": {},
   "outputs": [],
   "source": [
    "test_inp = \"\"\"35\n",
    "20\n",
    "15\n",
    "25\n",
    "47\n",
    "40\n",
    "62\n",
    "55\n",
    "65\n",
    "95\n",
    "102\n",
    "117\n",
    "150\n",
    "182\n",
    "127\n",
    "219\n",
    "299\n",
    "277\n",
    "309\n",
    "576\"\"\""
   ]
  },
  {
   "cell_type": "code",
   "execution_count": 104,
   "metadata": {},
   "outputs": [],
   "source": [
    "import itertools as it"
   ]
  },
  {
   "cell_type": "code",
   "execution_count": 105,
   "metadata": {},
   "outputs": [],
   "source": [
    "def is_valid(n, previous_nums):\n",
    "    for nums in it.permutations(previous_nums, 2):\n",
    "        if sum(nums) == n:\n",
    "            return True\n",
    "    return False"
   ]
  },
  {
   "cell_type": "code",
   "execution_count": 106,
   "metadata": {},
   "outputs": [],
   "source": [
    "def aoc_9_1(inp=inp, preamble_len=25, verbose=False):\n",
    "    nums = tuple(int(n) for n in inp.splitlines())\n",
    "    if verbose:\n",
    "        print(nums)\n",
    "    for idx, n in enumerate(nums[preamble_len:]):\n",
    "        previous_nums = nums[idx : idx + preamble_len]\n",
    "        if verbose:\n",
    "            print(f\"n={n}. Checking from idx {idx} to idx {idx + preamble_len}: {previous_nums}.\")\n",
    "        if not is_valid(n, previous_nums):\n",
    "            return n"
   ]
  },
  {
   "cell_type": "code",
   "execution_count": 107,
   "metadata": {},
   "outputs": [
    {
     "name": "stdout",
     "output_type": "stream",
     "text": [
      "(35, 20, 15, 25, 47, 40, 62, 55, 65, 95, 102, 117, 150, 182, 127, 219, 299, 277, 309, 576)\n",
      "n=40. Checking from idx 0 to idx 5: (35, 20, 15, 25, 47).\n",
      "n=62. Checking from idx 1 to idx 6: (20, 15, 25, 47, 40).\n",
      "n=55. Checking from idx 2 to idx 7: (15, 25, 47, 40, 62).\n",
      "n=65. Checking from idx 3 to idx 8: (25, 47, 40, 62, 55).\n",
      "n=95. Checking from idx 4 to idx 9: (47, 40, 62, 55, 65).\n",
      "n=102. Checking from idx 5 to idx 10: (40, 62, 55, 65, 95).\n",
      "n=117. Checking from idx 6 to idx 11: (62, 55, 65, 95, 102).\n",
      "n=150. Checking from idx 7 to idx 12: (55, 65, 95, 102, 117).\n",
      "n=182. Checking from idx 8 to idx 13: (65, 95, 102, 117, 150).\n",
      "n=127. Checking from idx 9 to idx 14: (95, 102, 117, 150, 182).\n"
     ]
    },
    {
     "data": {
      "text/plain": [
       "127"
      ]
     },
     "execution_count": 107,
     "metadata": {},
     "output_type": "execute_result"
    }
   ],
   "source": [
    "aoc_9_1(test_inp, 5, verbose=True)"
   ]
  },
  {
   "cell_type": "code",
   "execution_count": 108,
   "metadata": {},
   "outputs": [
    {
     "data": {
      "text/plain": [
       "21806024"
      ]
     },
     "execution_count": 108,
     "metadata": {},
     "output_type": "execute_result"
    }
   ],
   "source": [
    "aoc_9_1()"
   ]
  },
  {
   "cell_type": "markdown",
   "metadata": {},
   "source": [
    "## 9.2"
   ]
  },
  {
   "cell_type": "code",
   "execution_count": 109,
   "metadata": {},
   "outputs": [],
   "source": [
    "NUM = aoc_9_1()"
   ]
  },
  {
   "cell_type": "code",
   "execution_count": 110,
   "metadata": {},
   "outputs": [],
   "source": [
    "TEST_NUM = aoc_9_1(test_inp, 5)"
   ]
  },
  {
   "cell_type": "code",
   "execution_count": 111,
   "metadata": {},
   "outputs": [],
   "source": [
    "def find_contiguous_nums(nums, invalid_num, verbose=False):\n",
    "    for start_idx, _ in enumerate(nums):\n",
    "        iter_nums = iter(nums[start_idx:])\n",
    "        cont_nums = []\n",
    "        try:\n",
    "            while sum(cont_nums) < invalid_num:\n",
    "                cont_nums.append(next(iter_nums))\n",
    "                if verbose:\n",
    "                    print(cont_nums, sum(cont_nums))\n",
    "                if sum(cont_nums) == invalid_num:\n",
    "                    return cont_nums\n",
    "        except StopIteration:\n",
    "            continue\n",
    "    return None"
   ]
  },
  {
   "cell_type": "code",
   "execution_count": 112,
   "metadata": {},
   "outputs": [],
   "source": [
    "def aoc_9_2(inp=inp, invalid_num=NUM, verbose=False):\n",
    "    nums = tuple(int(n) for n in inp.splitlines())\n",
    "    contiguous_nums = find_contiguous_nums(nums, invalid_num, verbose)\n",
    "    return min(contiguous_nums) + max(contiguous_nums)"
   ]
  },
  {
   "cell_type": "code",
   "execution_count": 113,
   "metadata": {},
   "outputs": [
    {
     "name": "stdout",
     "output_type": "stream",
     "text": [
      "[35] 35\n",
      "[35, 20] 55\n",
      "[35, 20, 15] 70\n",
      "[35, 20, 15, 25] 95\n",
      "[35, 20, 15, 25, 47] 142\n",
      "[20] 20\n",
      "[20, 15] 35\n",
      "[20, 15, 25] 60\n",
      "[20, 15, 25, 47] 107\n",
      "[20, 15, 25, 47, 40] 147\n",
      "[15] 15\n",
      "[15, 25] 40\n",
      "[15, 25, 47] 87\n",
      "[15, 25, 47, 40] 127\n"
     ]
    },
    {
     "data": {
      "text/plain": [
       "62"
      ]
     },
     "execution_count": 113,
     "metadata": {},
     "output_type": "execute_result"
    }
   ],
   "source": [
    "aoc_9_2(test_inp, TEST_NUM, True)"
   ]
  },
  {
   "cell_type": "code",
   "execution_count": 114,
   "metadata": {},
   "outputs": [
    {
     "data": {
      "text/plain": [
       "2986195"
      ]
     },
     "execution_count": 114,
     "metadata": {},
     "output_type": "execute_result"
    }
   ],
   "source": [
    "aoc_9_2()"
   ]
  },
  {
   "cell_type": "markdown",
   "metadata": {},
   "source": [
    "# 10"
   ]
  },
  {
   "cell_type": "code",
   "execution_count": 10,
   "metadata": {},
   "outputs": [
    {
     "name": "stdout",
     "output_type": "stream",
     "text": [
      "inputs/inp_day_10.txt exists. Overwrite? (y/n)\n"
     ]
    },
    {
     "name": "stdin",
     "output_type": "stream",
     "text": [
      " n\n"
     ]
    },
    {
     "name": "stdout",
     "output_type": "stream",
     "text": [
      "Not overwriting existing file.\n"
     ]
    }
   ],
   "source": [
    "day = 10\n",
    "# put_away_input(inp, day)\n",
    "inp = read_input(day)"
   ]
  },
  {
   "cell_type": "markdown",
   "metadata": {},
   "source": [
    "## 10.1"
   ]
  },
  {
   "cell_type": "code",
   "execution_count": 116,
   "metadata": {},
   "outputs": [],
   "source": [
    "test_inp_1 = \"\"\"16\n",
    "10\n",
    "15\n",
    "5\n",
    "1\n",
    "11\n",
    "7\n",
    "19\n",
    "6\n",
    "12\n",
    "4\"\"\""
   ]
  },
  {
   "cell_type": "code",
   "execution_count": 117,
   "metadata": {},
   "outputs": [],
   "source": [
    "test_inp_2 = \"\"\"28\n",
    "33\n",
    "18\n",
    "42\n",
    "31\n",
    "14\n",
    "46\n",
    "20\n",
    "48\n",
    "47\n",
    "24\n",
    "23\n",
    "49\n",
    "45\n",
    "19\n",
    "38\n",
    "39\n",
    "11\n",
    "1\n",
    "32\n",
    "25\n",
    "35\n",
    "8\n",
    "17\n",
    "7\n",
    "9\n",
    "4\n",
    "2\n",
    "34\n",
    "10\n",
    "3\"\"\""
   ]
  },
  {
   "cell_type": "code",
   "execution_count": 118,
   "metadata": {},
   "outputs": [],
   "source": [
    "def get_adapters(inp):\n",
    "    return sorted([int(a) for a in inp.splitlines()])"
   ]
  },
  {
   "cell_type": "code",
   "execution_count": 119,
   "metadata": {},
   "outputs": [],
   "source": [
    "def extend_adapters(adp):\n",
    "    return [0] + adp + [adp[-1] + 3]"
   ]
  },
  {
   "cell_type": "code",
   "execution_count": 120,
   "metadata": {},
   "outputs": [],
   "source": [
    "def get_diffs(adp, diff=1):\n",
    "    ext = extend_adapters(adp)\n",
    "    return sum(1 for idx, a1 in enumerate(ext[:-1])\n",
    "               if ext[idx+1] - a1 == diff)"
   ]
  },
  {
   "cell_type": "code",
   "execution_count": 121,
   "metadata": {},
   "outputs": [],
   "source": [
    "def aoc_10_1(inp=inp):\n",
    "    adp = get_adapters(inp)\n",
    "    return get_diffs(adp, 1) * get_diffs(adp, 3)"
   ]
  },
  {
   "cell_type": "code",
   "execution_count": 122,
   "metadata": {},
   "outputs": [
    {
     "data": {
      "text/plain": [
       "3000"
      ]
     },
     "execution_count": 122,
     "metadata": {},
     "output_type": "execute_result"
    }
   ],
   "source": [
    "aoc_10_1()"
   ]
  },
  {
   "cell_type": "markdown",
   "metadata": {},
   "source": [
    "## 10.2"
   ]
  },
  {
   "cell_type": "code",
   "execution_count": 123,
   "metadata": {},
   "outputs": [],
   "source": [
    "TEST_SOL_1, TEST_SOL_2 = 8, 19_208"
   ]
  },
  {
   "cell_type": "code",
   "execution_count": 124,
   "metadata": {},
   "outputs": [],
   "source": [
    "from functools import lru_cache"
   ]
  },
  {
   "cell_type": "code",
   "execution_count": 125,
   "metadata": {},
   "outputs": [],
   "source": [
    "from typing import *"
   ]
  },
  {
   "cell_type": "code",
   "execution_count": 126,
   "metadata": {},
   "outputs": [],
   "source": [
    "@lru_cache(200)\n",
    "def paths_to_n(n: int, chain: Tuple[int]) -> int:\n",
    "    \"\"\"Note: Chain must be immutable to be cached, so pass a tuple!\n",
    "    Will return 0 for any n < 0 (even if it were in chain).\"\"\"\n",
    "    if n not in chain:\n",
    "        return 0\n",
    "    if n == 0 or n == 1: # and n in chain (implicit)\n",
    "        return 1\n",
    "    if n == 2: # and n in chain\n",
    "        return 2 if 1 in chain else 1\n",
    "    return (  paths_to_n(n-3, chain)\n",
    "            + paths_to_n(n-2, chain)\n",
    "            + paths_to_n(n-1, chain))"
   ]
  },
  {
   "cell_type": "code",
   "execution_count": 127,
   "metadata": {},
   "outputs": [],
   "source": [
    "def aoc_10_2(inp=inp):\n",
    "    chain = extend_adapters(get_adapters(inp))\n",
    "    return paths_to_n(max(chain), tuple(chain))"
   ]
  },
  {
   "cell_type": "code",
   "execution_count": 128,
   "metadata": {},
   "outputs": [],
   "source": [
    "assert aoc_10_2(test_inp_1) == TEST_SOL_1"
   ]
  },
  {
   "cell_type": "code",
   "execution_count": 129,
   "metadata": {},
   "outputs": [],
   "source": [
    "assert aoc_10_2(test_inp_2) == TEST_SOL_2"
   ]
  },
  {
   "cell_type": "code",
   "execution_count": 130,
   "metadata": {},
   "outputs": [
    {
     "data": {
      "text/plain": [
       "193434623148032"
      ]
     },
     "execution_count": 130,
     "metadata": {},
     "output_type": "execute_result"
    }
   ],
   "source": [
    "aoc_10_2()"
   ]
  },
  {
   "cell_type": "markdown",
   "metadata": {},
   "source": [
    "# 11"
   ]
  },
  {
   "cell_type": "code",
   "execution_count": 8,
   "metadata": {},
   "outputs": [
    {
     "name": "stdout",
     "output_type": "stream",
     "text": [
      "Writing inputs/inp_day_11.txt.\n"
     ]
    }
   ],
   "source": [
    "day = 11\n",
    "# put_away_input(inp, day)\n",
    "inp = read_input(day)"
   ]
  },
  {
   "cell_type": "markdown",
   "metadata": {},
   "source": [
    "## 11.1"
   ]
  },
  {
   "cell_type": "code",
   "execution_count": 134,
   "metadata": {},
   "outputs": [],
   "source": [
    "TEST_INP = \"\"\"L.LL.LL.LL\n",
    "LLLLLLL.LL\n",
    "L.L.L..L..\n",
    "LLLL.LL.LL\n",
    "L.LL.LL.LL\n",
    "L.LLLLL.LL\n",
    "..L.L.....\n",
    "LLLLLLLLLL\n",
    "L.LLLLLL.L\n",
    "L.LLLLL.LL\"\"\""
   ]
  },
  {
   "cell_type": "code",
   "execution_count": 135,
   "metadata": {},
   "outputs": [],
   "source": [
    "TEST_SOL = 37"
   ]
  },
  {
   "cell_type": "code",
   "execution_count": 137,
   "metadata": {},
   "outputs": [],
   "source": [
    "import numpy as np"
   ]
  },
  {
   "cell_type": "code",
   "execution_count": 422,
   "metadata": {},
   "outputs": [],
   "source": [
    "from typing import *"
   ]
  },
  {
   "cell_type": "code",
   "execution_count": 439,
   "metadata": {},
   "outputs": [],
   "source": [
    "def transform_and_pad(inp: str) -> np.array:\n",
    "    mapping = {\"L\": -1, \".\": 0, \"#\": 1}\n",
    "    arr = [[mapping[k] for k in row]\n",
    "           for row in inp.splitlines()]\n",
    "    return np.pad(arr, 1)"
   ]
  },
  {
   "cell_type": "code",
   "execution_count": 298,
   "metadata": {},
   "outputs": [],
   "source": [
    "def check_one_element(pa: np.array, r: int, c: int) -> int:\n",
    "    \"\"\"Element-wise, quite inefficient. But not sure how to implement\n",
    "    these rules vectorized.\n",
    "    \"\"\"\n",
    "    el = pa[r, c].item()\n",
    "    if el == 0:\n",
    "        return 0\n",
    "    slice_ = pa[r - 1 : r + 2, c - 1 : c + 2]\n",
    "    if el == -1 and (slice_ < 1).all():\n",
    "        return 1\n",
    "    if el == 1 and (slice_ > 0).sum() > 4:  # > 4 b/c el is included in slice_\n",
    "        return -1\n",
    "    return el"
   ]
  },
  {
   "cell_type": "code",
   "execution_count": 306,
   "metadata": {},
   "outputs": [],
   "source": [
    "def loop_over_array_without_padding(nrows, ncols) -> Iterator:\n",
    "    for r in range(1, nrows - 1):\n",
    "        for c in range(1, ncols - 1):\n",
    "            yield (r, c)"
   ]
  },
  {
   "cell_type": "code",
   "execution_count": 307,
   "metadata": {},
   "outputs": [],
   "source": [
    "def check_matrix(pa: np.array) -> np.array:\n",
    "    pa_manipulated = pa.copy()\n",
    "    for r, c in loop_over_array_without_padding(*pa.shape):\n",
    "        pa_manipulated[r, c] = check_one_element(pa, r, c)\n",
    "    return pa_manipulated"
   ]
  },
  {
   "cell_type": "code",
   "execution_count": 302,
   "metadata": {},
   "outputs": [],
   "source": [
    "def do_one_iteration(pa_og: np.array) -> Tuple[np.array, bool]:\n",
    "    pa_manipulated = check_matrix(pa_og)\n",
    "    return pa_manipulated, (pa_manipulated == pa_og).all()"
   ]
  },
  {
   "cell_type": "code",
   "execution_count": 303,
   "metadata": {},
   "outputs": [],
   "source": [
    "def aoc_11_1(inp=inp):\n",
    "    padded_arr = transform_and_pad(inp)\n",
    "    stable = False\n",
    "    while not stable:\n",
    "        padded_arr, stable = do_one_iteration(padded_arr)\n",
    "    return (padded_arr > 0).sum()"
   ]
  },
  {
   "cell_type": "code",
   "execution_count": 304,
   "metadata": {},
   "outputs": [],
   "source": [
    "assert aoc_11_1(TEST_INP) == TEST_SOL"
   ]
  },
  {
   "cell_type": "code",
   "execution_count": 441,
   "metadata": {},
   "outputs": [
    {
     "name": "stdout",
     "output_type": "stream",
     "text": [
      "CPU times: user 5.58 s, sys: 0 ns, total: 5.58 s\n",
      "Wall time: 5.58 s\n"
     ]
    },
    {
     "data": {
      "text/plain": [
       "2243"
      ]
     },
     "execution_count": 441,
     "metadata": {},
     "output_type": "execute_result"
    }
   ],
   "source": [
    "%time aoc_11_1()  # slow"
   ]
  },
  {
   "cell_type": "markdown",
   "metadata": {},
   "source": [
    "## 11.2"
   ]
  },
  {
   "cell_type": "markdown",
   "metadata": {},
   "source": [
    "- no need to pad (but can keep it padded b/c not looping over padding an 0s are neutral anyway)\n",
    "- replace `slice_` with `visible_` (can be a flat array/list), replace 4 by 5, done.\n",
    "- visible:\n",
    "    - 8 lines of vision\n",
    "    - first non-zero element counts --> lazy evaluation"
   ]
  },
  {
   "cell_type": "code",
   "execution_count": 423,
   "metadata": {},
   "outputs": [],
   "source": [
    "TEST_SOL_2 = 26"
   ]
  },
  {
   "cell_type": "code",
   "execution_count": 424,
   "metadata": {},
   "outputs": [],
   "source": [
    "def evaluate_line_of_vision(a, r, c, delta_r, delta_c) -> int:\n",
    "    nrows, ncols = a.shape\n",
    "    seat = 0\n",
    "    while not seat:\n",
    "        r += delta_r\n",
    "        c += delta_c\n",
    "        if not (0 < r < nrows - 1 and 0 < c < ncols - 1):\n",
    "            return 0\n",
    "        seat = a[r, c]\n",
    "    return seat"
   ]
  },
  {
   "cell_type": "code",
   "execution_count": 425,
   "metadata": {},
   "outputs": [],
   "source": [
    "def seat_can_see(a, r, c):\n",
    "    return np.array([evaluate_line_of_vision(a, r, c, delta_r, delta_c)\n",
    "                     for delta_r, delta_c in range_over_lines_of_vision()])"
   ]
  },
  {
   "cell_type": "code",
   "execution_count": 426,
   "metadata": {},
   "outputs": [],
   "source": [
    "def range_over_lines_of_vision():\n",
    "    directions = (-1, 0, 1)\n",
    "    for delta_r in directions:\n",
    "        for delta_c in directions:\n",
    "            if not delta_r == delta_c == 0:\n",
    "                yield delta_r, delta_c"
   ]
  },
  {
   "cell_type": "code",
   "execution_count": 427,
   "metadata": {},
   "outputs": [],
   "source": [
    "def check_one_element_2(pa: np.array, r: int, c: int) -> int:\n",
    "    \"\"\"Element-wise, quite inefficient. But not sure how to implement\n",
    "    these rules vectorized.\n",
    "    \"\"\"\n",
    "    el = pa[r, c].item()\n",
    "    if el == 0:\n",
    "        return 0\n",
    "    seen_seats = seat_can_see(pa, r, c)\n",
    "    if el == -1 and (seen_seats < 1).all():\n",
    "        return 1\n",
    "    if el == 1 and (seen_seats > 0).sum() > 4:  # > 4 b/c el is not included in seen_seats\n",
    "        return -1\n",
    "    return el"
   ]
  },
  {
   "cell_type": "code",
   "execution_count": 428,
   "metadata": {},
   "outputs": [],
   "source": [
    "def check_matrix_2(pa: np.array) -> np.array:\n",
    "    pa_manipulated = pa.copy()\n",
    "    for r, c in loop_over_array_without_padding(*pa.shape):\n",
    "        pa_manipulated[r, c] = check_one_element_2(pa, r, c)\n",
    "    return pa_manipulated"
   ]
  },
  {
   "cell_type": "code",
   "execution_count": 429,
   "metadata": {},
   "outputs": [],
   "source": [
    "def do_one_iteration_2(pa_og: np.array) -> Tuple[np.array, bool]:\n",
    "    pa_manipulated = check_matrix_2(pa_og)\n",
    "    return pa_manipulated, (pa_manipulated == pa_og).all()"
   ]
  },
  {
   "cell_type": "code",
   "execution_count": 430,
   "metadata": {},
   "outputs": [],
   "source": [
    "def aoc_11_2(inp=inp):\n",
    "    padded_arr = transform_and_pad(inp)\n",
    "    stable = False\n",
    "    while not stable:\n",
    "        padded_arr, stable = do_one_iteration_2(padded_arr)\n",
    "    return (padded_arr > 0).sum()"
   ]
  },
  {
   "cell_type": "code",
   "execution_count": 431,
   "metadata": {},
   "outputs": [],
   "source": [
    "assert aoc_11_2(TEST_INP) == TEST_SOL_2"
   ]
  },
  {
   "cell_type": "code",
   "execution_count": 440,
   "metadata": {},
   "outputs": [
    {
     "name": "stdout",
     "output_type": "stream",
     "text": [
      "CPU times: user 13.4 s, sys: 0 ns, total: 13.4 s\n",
      "Wall time: 13.4 s\n"
     ]
    },
    {
     "data": {
      "text/plain": [
       "2027"
      ]
     },
     "execution_count": 440,
     "metadata": {},
     "output_type": "execute_result"
    }
   ],
   "source": [
    "%time aoc_11_2()  # slow"
   ]
  },
  {
   "cell_type": "markdown",
   "metadata": {},
   "source": [
    "## simplify & unify 10.1 & 10.2"
   ]
  },
  {
   "cell_type": "markdown",
   "metadata": {},
   "source": [
    "- keep strings, don't convert to array\n",
    "- use a `Counter`\n",
    "- refactor functions to work for both parts"
   ]
  },
  {
   "cell_type": "code",
   "execution_count": 442,
   "metadata": {},
   "outputs": [],
   "source": [
    "from collections import Counter"
   ]
  },
  {
   "cell_type": "code",
   "execution_count": 445,
   "metadata": {},
   "outputs": [],
   "source": [
    "Grid = List[List[str]]"
   ]
  },
  {
   "cell_type": "code",
   "execution_count": 504,
   "metadata": {},
   "outputs": [],
   "source": [
    "def process_seat(grid: Grid, r: int, c: int, part: int) -> int:\n",
    "    \"\"\"Element-wise, quite inefficient. But not sure how to implement\n",
    "    these rules vectorized.\n",
    "    \"\"\"\n",
    "    assert part in (1, 2), f\"Only parts 1 and 2 available, you passed part {part}.\"\n",
    "    \n",
    "    nrows, ncols = len(grid), len(grid[0])\n",
    "    \n",
    "    def direct_neighbor(grid, r, c, dr, dc):\n",
    "        return grid[r + dr][c + dc]\n",
    "    \n",
    "    def next_in_lov(grid, r, c, dr, dc):\n",
    "        s = \".\"\n",
    "        while s not in (\"#\", \"L\"):\n",
    "            r += dr\n",
    "            c += dc\n",
    "            if not (0 <= r < nrows and 0 <= c < ncols):\n",
    "                return \".\"\n",
    "            s = grid[r][c]\n",
    "        return s\n",
    "    \n",
    "    neighbor_func = next_in_lov if part == 2 else direct_neighbor\n",
    "    threshold = 5 if part == 2 else 4\n",
    "    \n",
    "    seat = grid[r][c]\n",
    "    \n",
    "    if seat == \".\":\n",
    "        return seat\n",
    "    \n",
    "    counts = Counter(neighbor_func(grid, r, c, dr, dc)\n",
    "                     for dr, dc in range_over_lines_of_vision()\n",
    "                     if 0 <= r + dr < nrows and 0 <= c + dc < ncols)\n",
    "    \n",
    "    if seat == \"L\" and counts[\"#\"] == 0:\n",
    "        return \"#\"\n",
    "    if seat == \"#\" and counts[\"#\"] >= threshold:\n",
    "        return \"L\"\n",
    "    return seat"
   ]
  },
  {
   "cell_type": "code",
   "execution_count": 505,
   "metadata": {},
   "outputs": [],
   "source": [
    "def do_one_iteration(grid: Grid, part: int) -> Tuple[Grid, bool]:\n",
    "    manipulated_grid = [[process_seat(grid, ri, ci, part)\n",
    "                         for ci, _ in enumerate(row)]\n",
    "                         for ri, row in enumerate(grid)]\n",
    "    return manipulated_grid, manipulated_grid == grid"
   ]
  },
  {
   "cell_type": "code",
   "execution_count": 506,
   "metadata": {},
   "outputs": [],
   "source": [
    "def aoc_11(inp=inp, part=1):\n",
    "    grid = [[seat for seat in row] for row in inp.splitlines()]\n",
    "    stable = False\n",
    "    while not stable:\n",
    "        grid, stable = do_one_iteration(grid, part)\n",
    "    return sum(row.count(\"#\") for row in grid)"
   ]
  },
  {
   "cell_type": "code",
   "execution_count": 509,
   "metadata": {},
   "outputs": [],
   "source": [
    "assert aoc_11(TEST_INP, part=1) == TEST_SOL"
   ]
  },
  {
   "cell_type": "code",
   "execution_count": 511,
   "metadata": {},
   "outputs": [],
   "source": [
    "assert aoc_11(TEST_INP, part=2) == TEST_SOL_2"
   ]
  },
  {
   "cell_type": "code",
   "execution_count": 512,
   "metadata": {},
   "outputs": [
    {
     "name": "stdout",
     "output_type": "stream",
     "text": [
      "CPU times: user 11.1 s, sys: 5.02 ms, total: 11.1 s\n",
      "Wall time: 11.1 s\n"
     ]
    },
    {
     "data": {
      "text/plain": [
       "2243"
      ]
     },
     "execution_count": 512,
     "metadata": {},
     "output_type": "execute_result"
    }
   ],
   "source": [
    "%time aoc_11(part=1)  # still slow"
   ]
  },
  {
   "cell_type": "code",
   "execution_count": 513,
   "metadata": {},
   "outputs": [
    {
     "name": "stdout",
     "output_type": "stream",
     "text": [
      "CPU times: user 11.4 s, sys: 0 ns, total: 11.4 s\n",
      "Wall time: 11.4 s\n"
     ]
    },
    {
     "data": {
      "text/plain": [
       "2027"
      ]
     },
     "execution_count": 513,
     "metadata": {},
     "output_type": "execute_result"
    }
   ],
   "source": [
    "%time aoc_11(part=2)  # still slow"
   ]
  },
  {
   "cell_type": "markdown",
   "metadata": {},
   "source": [
    "# 12"
   ]
  },
  {
   "cell_type": "code",
   "execution_count": 120,
   "metadata": {},
   "outputs": [],
   "source": [
    "day = 12\n",
    "# put_away_input(inp, day)\n",
    "inp = read_input(day)"
   ]
  },
  {
   "cell_type": "markdown",
   "metadata": {},
   "source": [
    "## 12.1"
   ]
  },
  {
   "cell_type": "code",
   "execution_count": 16,
   "metadata": {},
   "outputs": [],
   "source": [
    "from typing import *"
   ]
  },
  {
   "cell_type": "code",
   "execution_count": 35,
   "metadata": {},
   "outputs": [],
   "source": [
    "import itertools as it"
   ]
  },
  {
   "cell_type": "code",
   "execution_count": 13,
   "metadata": {},
   "outputs": [],
   "source": [
    "DIRS = (\"N\", \"E\", \"S\", \"W\")"
   ]
  },
  {
   "cell_type": "code",
   "execution_count": 32,
   "metadata": {},
   "outputs": [],
   "source": [
    "DEGS = (90, 180, 270)"
   ]
  },
  {
   "cell_type": "code",
   "execution_count": 33,
   "metadata": {},
   "outputs": [],
   "source": [
    "SIDES = (\"R\", \"L\")"
   ]
  },
  {
   "cell_type": "code",
   "execution_count": 97,
   "metadata": {},
   "outputs": [],
   "source": [
    "DIR_MAPPING = dict(zip(DIRS,((-1, 0), (0, 1), (1, 0), (0, -1))))"
   ]
  },
  {
   "cell_type": "code",
   "execution_count": 98,
   "metadata": {},
   "outputs": [
    {
     "data": {
      "text/plain": [
       "{'N': (-1, 0), 'E': (0, 1), 'S': (1, 0), 'W': (0, -1)}"
      ]
     },
     "execution_count": 98,
     "metadata": {},
     "output_type": "execute_result"
    }
   ],
   "source": [
    "DIR_MAPPING"
   ]
  },
  {
   "cell_type": "code",
   "execution_count": 81,
   "metadata": {},
   "outputs": [],
   "source": [
    "START_POS = 0, 0, \"E\""
   ]
  },
  {
   "cell_type": "code",
   "execution_count": 19,
   "metadata": {},
   "outputs": [],
   "source": [
    "# x: N is -, S is +\n",
    "# y: W is -, E is +\n",
    "# z: N is 0, E is 1, S is 2, W is 3"
   ]
  },
  {
   "cell_type": "code",
   "execution_count": 14,
   "metadata": {},
   "outputs": [],
   "source": [
    "TEST_INP = \"\"\"F10\n",
    "N3\n",
    "F7\n",
    "R90\n",
    "F11\n",
    "\"\"\""
   ]
  },
  {
   "cell_type": "code",
   "execution_count": 234,
   "metadata": {},
   "outputs": [],
   "source": [
    "from typing import Tuple"
   ]
  },
  {
   "cell_type": "code",
   "execution_count": 235,
   "metadata": {},
   "outputs": [],
   "source": [
    "Position = Tuple[int, int, str]  # NS, WE, orientation"
   ]
  },
  {
   "cell_type": "code",
   "execution_count": 236,
   "metadata": {},
   "outputs": [],
   "source": [
    "# def move(act: str, num: int, curr_pos: Tuple[int, int, str]) -> Tuple[int, int, str]:\n",
    "def move(act: str, num: int, curr_pos: Position) -> Position:\n",
    "    assert act in DIRS\n",
    "    x, y, z = curr_pos\n",
    "    if act == \"N\":\n",
    "        x -= num\n",
    "    elif act == \"S\":\n",
    "        x += num\n",
    "    elif act == \"W\":\n",
    "        y -= num\n",
    "    elif act == \"E\":\n",
    "        y += num\n",
    "    return x, y, z"
   ]
  },
  {
   "cell_type": "code",
   "execution_count": 162,
   "metadata": {},
   "outputs": [],
   "source": [
    "def change_dir(act: str, num: int, curr_pos: Position) -> Position:\n",
    "    assert act in SIDES\n",
    "    assert num in DEGS\n",
    "    dir_ = 1 if act == \"R\" else -1\n",
    "    x, y, z = curr_pos\n",
    "    z_idx = DIRS.index(z)\n",
    "    z_idx += dir_ * (num // 90)\n",
    "    z = DIRS[z_idx % 4]\n",
    "    return x, y, z"
   ]
  },
  {
   "cell_type": "code",
   "execution_count": 163,
   "metadata": {},
   "outputs": [],
   "source": [
    "def forward(act: str, num: int, curr_pos: Position) -> Position:\n",
    "    assert act == \"F\"\n",
    "    x, y, z = curr_pos\n",
    "    dx, dy = DIR_MAPPING[z]\n",
    "    x += dx * num\n",
    "    y += dy * num\n",
    "    return x, y, z"
   ]
  },
  {
   "cell_type": "code",
   "execution_count": 174,
   "metadata": {},
   "outputs": [],
   "source": [
    "def next_position(instr: str, curr_pos: Position) -> Position:\n",
    "    action, num = instr[:1], int(instr[1:])\n",
    "    if action in DIRS:\n",
    "        return move(action, num, curr_pos)\n",
    "    elif action in SIDES:\n",
    "        return change_dir(action, num, curr_pos)\n",
    "    elif action == \"F\":\n",
    "        return forward(action, num, curr_pos)"
   ]
  },
  {
   "cell_type": "code",
   "execution_count": 165,
   "metadata": {},
   "outputs": [],
   "source": [
    "def aoc_12_1(inp=inp):\n",
    "    pos = START_POS\n",
    "    for instr in inp.splitlines():\n",
    "        pos = next_position(instr, pos)\n",
    "    x, y, z = pos\n",
    "    return abs(x) + abs(y)"
   ]
  },
  {
   "cell_type": "code",
   "execution_count": 166,
   "metadata": {},
   "outputs": [],
   "source": [
    "assert aoc_12_1(TEST_INP) == 25"
   ]
  },
  {
   "cell_type": "code",
   "execution_count": 167,
   "metadata": {},
   "outputs": [
    {
     "data": {
      "text/plain": [
       "415"
      ]
     },
     "execution_count": 167,
     "metadata": {},
     "output_type": "execute_result"
    }
   ],
   "source": [
    "aoc_12_1()"
   ]
  },
  {
   "cell_type": "markdown",
   "metadata": {},
   "source": [
    "## 12.2"
   ]
  },
  {
   "cell_type": "code",
   "execution_count": 176,
   "metadata": {},
   "outputs": [],
   "source": [
    "START_WAYPOINT = (-1, 10)"
   ]
  },
  {
   "cell_type": "code",
   "execution_count": 170,
   "metadata": {},
   "outputs": [],
   "source": [
    "Coords = Tuple[int, int]"
   ]
  },
  {
   "cell_type": "code",
   "execution_count": 184,
   "metadata": {},
   "outputs": [],
   "source": [
    "def move_wp(act: str, num: int, ship: Coords, wp: Coords) -> Coords:\n",
    "    assert act in DIRS\n",
    "    wp_ns, wp_we = wp\n",
    "    if act == \"N\":\n",
    "        wp_ns -= num\n",
    "    elif act == \"S\":\n",
    "        wp_ns += num\n",
    "    elif act == \"W\":\n",
    "        wp_we -= num\n",
    "    elif act == \"E\":\n",
    "        wp_we += num\n",
    "    return ship, (wp_ns, wp_we)"
   ]
  },
  {
   "cell_type": "code",
   "execution_count": 223,
   "metadata": {},
   "outputs": [],
   "source": [
    "def rotate_wp(act: str, num: int, ship: Coords, wp: Coords) -> Coords:\n",
    "    assert act in SIDES\n",
    "    assert num in DEGS\n",
    "    wp_ns, wp_we = wp\n",
    "    dir_ = 1 if act == \"R\" else -1\n",
    "    if num == 90:\n",
    "        wp_ns, wp_we = dir_ * wp_we, dir_ * wp_ns * (-1)\n",
    "    elif num == 180:\n",
    "        wp_ns *= -1\n",
    "        wp_we *= -1\n",
    "    elif num == 270:\n",
    "        wp_ns, wp_we = dir_ * wp_we * (-1), dir_ * wp_ns\n",
    "    return ship, (wp_ns, wp_we)"
   ]
  },
  {
   "cell_type": "code",
   "execution_count": 224,
   "metadata": {},
   "outputs": [],
   "source": [
    "def towards_wp(act: str, num: int, ship: Coords, wp: Coords) -> Coords:\n",
    "    assert act == \"F\"\n",
    "    wp_ns, wp_we = wp\n",
    "    sh_ns, sh_we = ship\n",
    "    sh_ns += num * wp_ns\n",
    "    sh_we += num * wp_we\n",
    "    return (sh_ns, sh_we), (wp_ns, wp_we)"
   ]
  },
  {
   "cell_type": "code",
   "execution_count": 225,
   "metadata": {},
   "outputs": [],
   "source": [
    "def next_position_wp(instr: str, ship: Coords, wp: Coords) -> Coords:\n",
    "    action, num = instr[:1], int(instr[1:])\n",
    "    if action in DIRS:\n",
    "        return move_wp(action, num, ship, wp)\n",
    "    elif action in SIDES:\n",
    "        return rotate_wp(action, num, ship, wp)\n",
    "    elif action == \"F\":\n",
    "        return towards_wp(action, num, ship, wp)\n",
    "    raise"
   ]
  },
  {
   "cell_type": "code",
   "execution_count": 229,
   "metadata": {},
   "outputs": [],
   "source": [
    "def aoc_12_2(inp=inp):\n",
    "    ship, wp = START_POS[:2], START_WAYPOINT\n",
    "    for instr in inp.splitlines():\n",
    "        ship, wp = next_position_wp(instr, ship, wp)\n",
    "    x, y = ship\n",
    "    return abs(x) + abs(y)"
   ]
  },
  {
   "cell_type": "code",
   "execution_count": 230,
   "metadata": {},
   "outputs": [],
   "source": [
    "assert aoc_12_2(TEST_INP) == 286"
   ]
  },
  {
   "cell_type": "code",
   "execution_count": 231,
   "metadata": {},
   "outputs": [
    {
     "data": {
      "text/plain": [
       "29401"
      ]
     },
     "execution_count": 231,
     "metadata": {},
     "output_type": "execute_result"
    }
   ],
   "source": [
    "aoc_12_2()"
   ]
  },
  {
   "cell_type": "markdown",
   "metadata": {},
   "source": [
    "# 13"
   ]
  },
  {
   "cell_type": "code",
   "execution_count": 519,
   "metadata": {},
   "outputs": [],
   "source": [
    "day = 13\n",
    "#put_away_input(inp, day)\n",
    "inp = read_input(day)"
   ]
  },
  {
   "cell_type": "markdown",
   "metadata": {},
   "source": [
    "## 13.1"
   ]
  },
  {
   "cell_type": "code",
   "execution_count": 520,
   "metadata": {},
   "outputs": [],
   "source": [
    "from typing import *"
   ]
  },
  {
   "cell_type": "code",
   "execution_count": 521,
   "metadata": {},
   "outputs": [],
   "source": [
    "TEST_INP = \"\"\"939\n",
    "7,13,x,x,59,x,31,19\"\"\""
   ]
  },
  {
   "cell_type": "code",
   "execution_count": 522,
   "metadata": {},
   "outputs": [],
   "source": [
    "def parse_input(inp: str) -> Tuple[int, Tuple[int]]:\n",
    "    time, buses = inp.splitlines()\n",
    "    time = int(time)\n",
    "    buses = tuple(int(bus) for bus in buses.split(\",\") if bus != \"x\")\n",
    "    return time, buses"
   ]
  },
  {
   "cell_type": "code",
   "execution_count": 523,
   "metadata": {},
   "outputs": [],
   "source": [
    "time, buses = parse_input(TEST_INP)"
   ]
  },
  {
   "cell_type": "code",
   "execution_count": 524,
   "metadata": {},
   "outputs": [
    {
     "data": {
      "text/plain": [
       "(939, (7, 13, 59, 31, 19))"
      ]
     },
     "execution_count": 524,
     "metadata": {},
     "output_type": "execute_result"
    }
   ],
   "source": [
    "time, buses"
   ]
  },
  {
   "cell_type": "code",
   "execution_count": 525,
   "metadata": {},
   "outputs": [],
   "source": [
    "def find_next_bus(time: int, buses: Tuple[int]) -> Tuple[int, int]:\n",
    "    bustimes = {bus: (time // bus + 1) * bus for bus in buses}\n",
    "    next_bus = min(bustimes, key=bustimes.get)\n",
    "    return next_bus, bustimes[next_bus]"
   ]
  },
  {
   "cell_type": "code",
   "execution_count": 526,
   "metadata": {},
   "outputs": [],
   "source": [
    "def aoc_13_1(inp=inp):\n",
    "    time, buses = parse_input(inp)\n",
    "    next_bus, next_time = find_next_bus(time, buses)\n",
    "    return next_bus * (next_time - time)"
   ]
  },
  {
   "cell_type": "code",
   "execution_count": 527,
   "metadata": {},
   "outputs": [
    {
     "data": {
      "text/plain": [
       "295"
      ]
     },
     "execution_count": 527,
     "metadata": {},
     "output_type": "execute_result"
    }
   ],
   "source": [
    "aoc_13_1(TEST_INP)"
   ]
  },
  {
   "cell_type": "code",
   "execution_count": 528,
   "metadata": {},
   "outputs": [
    {
     "data": {
      "text/plain": [
       "2298"
      ]
     },
     "execution_count": 528,
     "metadata": {},
     "output_type": "execute_result"
    }
   ],
   "source": [
    "aoc_13_1()"
   ]
  },
  {
   "cell_type": "markdown",
   "metadata": {},
   "source": [
    "## 13.2"
   ]
  },
  {
   "cell_type": "markdown",
   "metadata": {},
   "source": [
    "Works, but slow and inefficient:"
   ]
  },
  {
   "cell_type": "code",
   "execution_count": 533,
   "metadata": {},
   "outputs": [],
   "source": [
    "# Buses = Tuple[Tuple[int, int]]\n",
    "\n",
    "\n",
    "# def parse_input_2(inp: str) -> Buses:\n",
    "#     _, buses = inp.splitlines()\n",
    "#     return tuple((timestamp, int(bus)) for timestamp, bus in enumerate(buses.split(\",\")) if bus != \"x\")\n",
    "\n",
    "\n",
    "# def it_works(buses: Buses, t: int) -> bool:\n",
    "#     return all((t + dt) % bus == 0 for dt, bus in buses)\n",
    "\n",
    "\n",
    "# def yield_candidates(buses: Buses) -> Iterator[int]:\n",
    "#     large_to_small = sorted(buses, key=lambda x: x[1])[::-1]\n",
    "#     d_0, bus_0 = large_to_small[0]\n",
    "#     i = 0\n",
    "#     while True:\n",
    "#         t = i * bus_0 - d_0\n",
    "#         if it_works(buses=large_to_small[1:], t=t):\n",
    "#             yield t\n",
    "#         i += 1\n",
    "\n",
    "\n",
    "# def aoc_13_2(inp=inp):\n",
    "#     buses = parse_input_2(inp)\n",
    "#     return next(yield_candidates(buses))"
   ]
  },
  {
   "cell_type": "code",
   "execution_count": 724,
   "metadata": {},
   "outputs": [],
   "source": [
    "from functools import reduce"
   ]
  },
  {
   "cell_type": "code",
   "execution_count": 725,
   "metadata": {},
   "outputs": [],
   "source": [
    "def parse_input_2(inp: str) -> Tuple[int, int]:\n",
    "    _, buses = inp.splitlines()\n",
    "    deltas, buses =  zip(*tuple((timestamp, int(bus)) for timestamp, bus in enumerate(buses.split(\",\")) if bus != \"x\"))\n",
    "    modulos = tuple(b-d if d else 0 for d, b in zip(deltas, buses))\n",
    "    return modulos, buses"
   ]
  },
  {
   "cell_type": "markdown",
   "metadata": {},
   "source": [
    "Next two cells from [rosettacode](https://rosettacode.org/wiki/Chinese_remainder_theorem#Python_3.6):"
   ]
  },
  {
   "cell_type": "code",
   "execution_count": 726,
   "metadata": {},
   "outputs": [],
   "source": [
    "def chinese_remainder(modulos, buses):\n",
    "    sum = 0\n",
    "    bus_product = reduce(lambda a, b: a * b, buses)\n",
    "    for m_i, b_i in zip(modulos, buses):\n",
    "        p = bus_product // b_i\n",
    "        sum += m_i * mul_inv(p, b_i) * p\n",
    "    return sum % bus_product"
   ]
  },
  {
   "cell_type": "code",
   "execution_count": 727,
   "metadata": {},
   "outputs": [],
   "source": [
    "def mul_inv(p, b):\n",
    "    if b == 1:\n",
    "        return 1\n",
    "    b0 = b\n",
    "    x0, x1 = 0, 1\n",
    "    while p > 1:\n",
    "        q = p // b\n",
    "        p, b = b, p % b\n",
    "        x0, x1 = x1 - q * x0, x0\n",
    "    if x1 < 0:\n",
    "        x1 += b0\n",
    "    return x1"
   ]
  },
  {
   "cell_type": "code",
   "execution_count": 728,
   "metadata": {},
   "outputs": [],
   "source": [
    "def aoc_13_2(inp=inp):\n",
    "    modulos, buses = parse_input_2(inp)\n",
    "    return chinese_remainder(modulos, buses)"
   ]
  },
  {
   "cell_type": "code",
   "execution_count": 730,
   "metadata": {},
   "outputs": [
    {
     "name": "stdout",
     "output_type": "stream",
     "text": [
      "15.3 µs ± 147 ns per loop (mean ± std. dev. of 7 runs, 100000 loops each)\n"
     ]
    }
   ],
   "source": [
    "%timeit aoc_13_2(TEST_INP)"
   ]
  },
  {
   "cell_type": "code",
   "execution_count": 732,
   "metadata": {},
   "outputs": [],
   "source": [
    "assert aoc_13_2(TEST_INP) == 1068781"
   ]
  },
  {
   "cell_type": "code",
   "execution_count": 733,
   "metadata": {},
   "outputs": [
    {
     "data": {
      "text/plain": [
       "783685719679632"
      ]
     },
     "execution_count": 733,
     "metadata": {},
     "output_type": "execute_result"
    }
   ],
   "source": [
    "aoc_13_2()"
   ]
  },
  {
   "cell_type": "markdown",
   "metadata": {},
   "source": [
    "# 14"
   ]
  },
  {
   "cell_type": "code",
   "execution_count": 740,
   "metadata": {},
   "outputs": [
    {
     "name": "stdout",
     "output_type": "stream",
     "text": [
      "Writing inputs/inp_day_14.txt.\n"
     ]
    }
   ],
   "source": [
    "day = 14\n",
    "# put_away_input(inp, day)\n",
    "inp = read_input(day)"
   ]
  },
  {
   "cell_type": "code",
   "execution_count": 741,
   "metadata": {},
   "outputs": [],
   "source": [
    "TEST_INP = \"\"\"mask = XXXXXXXXXXXXXXXXXXXXXXXXXXXXX1XXXX0X\n",
    "mem[8] = 11\n",
    "mem[7] = 101\n",
    "mem[8] = 0\"\"\""
   ]
  },
  {
   "cell_type": "markdown",
   "metadata": {},
   "source": [
    "## 14.1"
   ]
  },
  {
   "cell_type": "code",
   "execution_count": 742,
   "metadata": {},
   "outputs": [],
   "source": [
    "import re"
   ]
  },
  {
   "cell_type": "code",
   "execution_count": 874,
   "metadata": {},
   "outputs": [],
   "source": [
    "Mask = Tuple[int, int]"
   ]
  },
  {
   "cell_type": "code",
   "execution_count": 895,
   "metadata": {},
   "outputs": [],
   "source": [
    "def parse_mask(m: str) -> Mask:\n",
    "    \"\"\"Find the ints that we can use to manipulate bits\n",
    "    using bitwise 'and' to set bit to zero: n & zi\n",
    "    or bitwies 'or' to set a bit to one: n | oi.\n",
    "    \"\"\"\n",
    "    zm = m.replace(\"X\", \"1\")\n",
    "    om = m.replace(\"X\", \"0\")\n",
    "    zi, oi = int(zm, 2), int(om, 2)\n",
    "    return zi, oi"
   ]
  },
  {
   "cell_type": "code",
   "execution_count": 896,
   "metadata": {},
   "outputs": [],
   "source": [
    "def parse_inp(inp: str) -> Iterator[Tuple[Mask, int, int]]:\n",
    "    \"\"\"Two modes: mask mode yields (mask, None, None),\n",
    "    memory mode yields (None, pos, num).\n",
    "    \"\"\"\n",
    "    for line in inp.splitlines():\n",
    "        inst, val = line.split(\" = \")\n",
    "        is_mask = line.startswith(\"mask\")\n",
    "        mask = parse_mask(val) if is_mask else None\n",
    "        pos = None if is_mask else int(re.findall(r\"\\[(\\d+)\\]\", inst)[0])\n",
    "        num = None if is_mask else int(val)\n",
    "        yield (mask, pos, num)"
   ]
  },
  {
   "cell_type": "code",
   "execution_count": 897,
   "metadata": {},
   "outputs": [],
   "source": [
    "def apply_bitmask(mask: Mask, n: int) -> int:\n",
    "    \"\"\"Change the zero-bits, then change the one-bits.\"\"\"\n",
    "    zi, oi = mask\n",
    "    return n & zi | oi"
   ]
  },
  {
   "cell_type": "code",
   "execution_count": 891,
   "metadata": {},
   "outputs": [],
   "source": [
    "def aoc_14_1(inp: str = inp) -> int:\n",
    "    mem = {}\n",
    "    current_mask = None\n",
    "    for mask, pos, num in parse_inp(inp):\n",
    "        if mask is not None:\n",
    "            current_mask = mask\n",
    "            continue\n",
    "        mem[pos] = apply_bitmask(current_mask, num)\n",
    "    return sum(mem.values())"
   ]
  },
  {
   "cell_type": "code",
   "execution_count": 893,
   "metadata": {},
   "outputs": [],
   "source": [
    "assert aoc_14_1(TEST_INP) == 165"
   ]
  },
  {
   "cell_type": "code",
   "execution_count": 894,
   "metadata": {},
   "outputs": [
    {
     "data": {
      "text/plain": [
       "5902420735773"
      ]
     },
     "execution_count": 894,
     "metadata": {},
     "output_type": "execute_result"
    }
   ],
   "source": [
    "aoc_14_1()"
   ]
  },
  {
   "cell_type": "markdown",
   "metadata": {},
   "source": [
    "## 14.2"
   ]
  },
  {
   "cell_type": "code",
   "execution_count": 1001,
   "metadata": {},
   "outputs": [],
   "source": [
    "TEST_INP2 = \"\"\"mask = 000000000000000000000000000000X1001X\n",
    "mem[42] = 100\n",
    "mask = 00000000000000000000000000000000X0XX\n",
    "mem[26] = 1\"\"\""
   ]
  },
  {
   "cell_type": "code",
   "execution_count": 935,
   "metadata": {},
   "outputs": [],
   "source": [
    "import itertools as it"
   ]
  },
  {
   "cell_type": "code",
   "execution_count": 974,
   "metadata": {},
   "outputs": [],
   "source": [
    "Mask2 = Tuple[Tuple[int], int]"
   ]
  },
  {
   "cell_type": "code",
   "execution_count": 1185,
   "metadata": {},
   "outputs": [],
   "source": [
    "def parse_mask2(m: str) -> Mask2:\n",
    "    om = m.replace(\"X\", \"0\")\n",
    "    oi = int(om, 2)\n",
    "    xs = tuple(len(m) - idx - 1 for idx, val in enumerate(m) if val == \"X\")\n",
    "    return xs, oi"
   ]
  },
  {
   "cell_type": "code",
   "execution_count": 1186,
   "metadata": {},
   "outputs": [],
   "source": [
    "def parse_inp2(inp: str) -> Iterator[Mask2, int, int]:\n",
    "    \"\"\"Two modes: mask mode yields (mask, None, None),\n",
    "    memory mode yields (None, pos, num).\n",
    "    \"\"\"\n",
    "    for line in inp.splitlines():\n",
    "        inst, val = line.split(\" = \")\n",
    "        is_mask = line.startswith(\"mask\")\n",
    "        mask = parse_mask2(val) if is_mask else None\n",
    "        pos = None if is_mask else int(re.findall(r\"\\[(\\d+)\\]\", inst)[0])\n",
    "        num = None if is_mask else int(val)\n",
    "        yield (mask, pos, num)"
   ]
  },
  {
   "cell_type": "code",
   "execution_count": 1114,
   "metadata": {},
   "outputs": [],
   "source": [
    "def set_bit(value: int, bit: int) -> int:\n",
    "    return value | (1 << bit)"
   ]
  },
  {
   "cell_type": "code",
   "execution_count": 1115,
   "metadata": {},
   "outputs": [],
   "source": [
    "def clear_bit(value: int, bit: int) -> int:\n",
    "    return value & ~(1 << bit)"
   ]
  },
  {
   "cell_type": "code",
   "execution_count": 1179,
   "metadata": {},
   "outputs": [],
   "source": [
    "def apply_floats(xs: Tuple[int], n: int) -> Iterator[int]:\n",
    "    floats_can_be = tuple((0, 1) for _ in xs)\n",
    "    for combination in it.product(*floats_can_be):\n",
    "        for bit, value in zip(xs, combination):\n",
    "            n = set_bit(n, bit) if value == 1 else clear_bit(n, bit)\n",
    "        yield n"
   ]
  },
  {
   "cell_type": "code",
   "execution_count": 1180,
   "metadata": {},
   "outputs": [],
   "source": [
    "def apply_bitmask2(mask: Mask2, n: int) -> Iterator[int]:\n",
    "    \"\"\"Change the one-bits, then all combinations of floating bits.\"\"\"\n",
    "    xs, oi = mask\n",
    "    return apply_floats(xs, n | oi)"
   ]
  },
  {
   "cell_type": "code",
   "execution_count": 1181,
   "metadata": {},
   "outputs": [],
   "source": [
    "def aoc_14_2(inp: str = inp) -> int:\n",
    "    mem = {}\n",
    "    current_mask = None\n",
    "    for mask, pos, num in parse_inp2(inp):\n",
    "        if mask is not None:\n",
    "            current_mask = mask\n",
    "            continue\n",
    "        positions = apply_bitmask2(current_mask, pos)\n",
    "        for p in positions:\n",
    "            mem[p] = num\n",
    "    return sum(mem.values())"
   ]
  },
  {
   "cell_type": "code",
   "execution_count": 1182,
   "metadata": {},
   "outputs": [],
   "source": [
    "assert aoc_14_2(TEST_INP2) == 208"
   ]
  },
  {
   "cell_type": "code",
   "execution_count": 1184,
   "metadata": {},
   "outputs": [
    {
     "data": {
      "text/plain": [
       "3801988250775"
      ]
     },
     "execution_count": 1184,
     "metadata": {},
     "output_type": "execute_result"
    }
   ],
   "source": [
    "aoc_14_2()"
   ]
  },
  {
   "cell_type": "markdown",
   "metadata": {},
   "source": [
    "# 15"
   ]
  },
  {
   "cell_type": "code",
   "execution_count": 1206,
   "metadata": {},
   "outputs": [],
   "source": [
    "inp = \"\"\"0,3,1,6,7,5\"\"\""
   ]
  },
  {
   "cell_type": "code",
   "execution_count": 1207,
   "metadata": {},
   "outputs": [
    {
     "name": "stdout",
     "output_type": "stream",
     "text": [
      "Writing inputs/inp_day_15.txt.\n"
     ]
    }
   ],
   "source": [
    "day = 15\n",
    "# put_away_input(inp, day)\n",
    "inp = read_input(day)"
   ]
  },
  {
   "cell_type": "code",
   "execution_count": 1192,
   "metadata": {},
   "outputs": [],
   "source": [
    "EXAMPLES = \"\"\"\n",
    "    Given the starting numbers 1,3,2, the 2020th number spoken is 1.\n",
    "    Given the starting numbers 2,1,3, the 2020th number spoken is 10.\n",
    "    Given the starting numbers 1,2,3, the 2020th number spoken is 27.\n",
    "    Given the starting numbers 2,3,1, the 2020th number spoken is 78.\n",
    "    Given the starting numbers 3,2,1, the 2020th number spoken is 438.\n",
    "    Given the starting numbers 3,1,2, the 2020th number spoken is 1836.\n",
    "\"\"\""
   ]
  },
  {
   "cell_type": "markdown",
   "metadata": {},
   "source": [
    "## 15.1"
   ]
  },
  {
   "cell_type": "code",
   "execution_count": 1193,
   "metadata": {},
   "outputs": [],
   "source": [
    "import re"
   ]
  },
  {
   "cell_type": "code",
   "execution_count": 1226,
   "metadata": {},
   "outputs": [],
   "source": [
    "from collections import defaultdict"
   ]
  },
  {
   "cell_type": "code",
   "execution_count": 1214,
   "metadata": {},
   "outputs": [],
   "source": [
    "def parse_input(inp):\n",
    "    return tuple(int(x) for x in inp.split(\",\"))"
   ]
  },
  {
   "cell_type": "code",
   "execution_count": 1263,
   "metadata": {},
   "outputs": [],
   "source": [
    "def spoken(starting_nums):\n",
    "    \n",
    "    def register(num, last_spoken, turn):\n",
    "        last_spoken[num].append(turn)\n",
    "        turn += 1\n",
    "        return num, last_spoken, turn\n",
    "    \n",
    "    last_spoken = defaultdict(list)\n",
    "    turn = 1\n",
    "    \n",
    "    for num in starting_nums:\n",
    "        last_num, last_spoken, turn = register(num, last_spoken, turn)\n",
    "        yield num\n",
    "        \n",
    "    while True:\n",
    "        occurences = last_spoken[last_num]\n",
    "        if not occurences:\n",
    "            num = last_num\n",
    "            last_num, last_spoken, turn = register(num, last_spoken, turn)\n",
    "            yield num\n",
    "        else:\n",
    "            num = occurences[-1] - occurences[-2] if len(occurences) > 1 else 0\n",
    "            last_num, last_spoken, turn = register(num, last_spoken, turn)\n",
    "            yield num"
   ]
  },
  {
   "cell_type": "code",
   "execution_count": 1221,
   "metadata": {},
   "outputs": [],
   "source": [
    "def yield_examples():\n",
    "    starting_nums = tuple(parse_input(x) for x in re.findall(r\"starting numbers (.+), the 2020th\", EXAMPLES))\n",
    "    solutions = tuple(int(z) for z in re.findall(r\"spoken is (\\d+).\", EXAMPLES))\n",
    "    yield from zip(starting_nums, solutions)"
   ]
  },
  {
   "cell_type": "code",
   "execution_count": 1285,
   "metadata": {},
   "outputs": [],
   "source": [
    "for starting_nums, solution in yield_examples():\n",
    "    speak_numbers = spoken(starting_nums)\n",
    "    [next(speak_numbers) for _ in range(2019)]\n",
    "    assert next(speak_numbers) == solution"
   ]
  },
  {
   "cell_type": "code",
   "execution_count": 1283,
   "metadata": {},
   "outputs": [],
   "source": [
    "def aoc_15_1(inp=inp):\n",
    "    pi = parse_input(inp)\n",
    "    speak_numbers = spoken(pi)\n",
    "    [next(speak_numbers) for _ in range(2019)]\n",
    "    return next(speak_numbers)"
   ]
  },
  {
   "cell_type": "code",
   "execution_count": 1284,
   "metadata": {},
   "outputs": [
    {
     "data": {
      "text/plain": [
       "852"
      ]
     },
     "execution_count": 1284,
     "metadata": {},
     "output_type": "execute_result"
    }
   ],
   "source": [
    "aoc_15_1()"
   ]
  },
  {
   "cell_type": "markdown",
   "metadata": {},
   "source": [
    "## 15.2"
   ]
  },
  {
   "cell_type": "code",
   "execution_count": 1290,
   "metadata": {},
   "outputs": [],
   "source": [
    "from functools import partial"
   ]
  },
  {
   "cell_type": "code",
   "execution_count": 1286,
   "metadata": {},
   "outputs": [],
   "source": [
    "def aoc_15(part, inp=inp):\n",
    "    n = 2020 if part == 1 else 30_000_000\n",
    "    pi = parse_input(inp)\n",
    "    speak_numbers = spoken(pi)\n",
    "    [next(speak_numbers) for _ in range(n-1)]\n",
    "    return next(speak_numbers)"
   ]
  },
  {
   "cell_type": "code",
   "execution_count": 1288,
   "metadata": {},
   "outputs": [],
   "source": [
    "aoc_15_2 = partial(aoc_15, part=2)"
   ]
  },
  {
   "cell_type": "code",
   "execution_count": 1289,
   "metadata": {},
   "outputs": [
    {
     "data": {
      "text/plain": [
       "6007666"
      ]
     },
     "execution_count": 1289,
     "metadata": {},
     "output_type": "execute_result"
    }
   ],
   "source": [
    "aoc_15_2()"
   ]
  },
  {
   "cell_type": "markdown",
   "metadata": {},
   "source": [
    "# 16"
   ]
  },
  {
   "cell_type": "code",
   "execution_count": 3,
   "metadata": {},
   "outputs": [],
   "source": [
    "day = 16\n",
    "# put_away_input(inp, day)\n",
    "inp = read_input(day)"
   ]
  },
  {
   "cell_type": "code",
   "execution_count": 4,
   "metadata": {},
   "outputs": [],
   "source": [
    "TEST_INP = \"\"\"class: 1-3 or 5-7\n",
    "row: 6-11 or 33-44\n",
    "seat: 13-40 or 45-50\n",
    "\n",
    "your ticket:\n",
    "7,1,14\n",
    "\n",
    "nearby tickets:\n",
    "7,3,47\n",
    "40,4,50\n",
    "55,2,20\n",
    "38,6,12\"\"\""
   ]
  },
  {
   "cell_type": "markdown",
   "metadata": {},
   "source": [
    "## 16.1"
   ]
  },
  {
   "cell_type": "code",
   "execution_count": 5,
   "metadata": {},
   "outputs": [
    {
     "name": "stdout",
     "output_type": "stream",
     "text": [
      "Collecting dataclasses\n",
      "  Downloading dataclasses-0.6-py3-none-any.whl (14 kB)\n",
      "Installing collected packages: dataclasses\n",
      "Successfully installed dataclasses-0.6\n"
     ]
    }
   ],
   "source": [
    "! pip install dataclasses"
   ]
  },
  {
   "cell_type": "code",
   "execution_count": 6,
   "metadata": {},
   "outputs": [],
   "source": [
    "import itertools as it\n",
    "import re\n",
    "from dataclasses import dataclass\n",
    "from typing import *"
   ]
  },
  {
   "cell_type": "code",
   "execution_count": 7,
   "metadata": {},
   "outputs": [],
   "source": [
    "@dataclass\n",
    "class Rule:\n",
    "    name: str\n",
    "    bounds: Tuple[int]\n",
    "        \n",
    "    def __repr__(self):\n",
    "        lolo, lohi, hilo, hihi = self.bounds\n",
    "        return f\"{self.name:30}: {lolo:>3} <= n <= {lohi:<3} or {hilo:>3} <= n <= {hihi:<3}\"\n",
    "    \n",
    "    def check(self, n):\n",
    "        lolo, lohi, hilo, hihi = self.bounds\n",
    "        return lolo <= n <= lohi or hilo <= n <= hihi"
   ]
  },
  {
   "cell_type": "code",
   "execution_count": 8,
   "metadata": {},
   "outputs": [],
   "source": [
    "def parse_input(inp):\n",
    "    rules, my_ticket, other_tickets = inp.split(\"\\n\\n\")\n",
    "    \n",
    "    def extract_rule(line):\n",
    "        name = line.split(\": \")[0] \n",
    "        bounds = tuple(int(n) for n in re.findall(r\"\\d+\", line))    \n",
    "        return Rule(name, bounds)\n",
    "    \n",
    "    rules = tuple(extract_rule(l) for l in rules.splitlines())  # name: rule_func\n",
    "    my_ticket = tuple(int(x) for x in my_ticket.splitlines()[-1].split(\",\"))\n",
    "    other_tickets = tuple(tuple(int(x) for x in ticket.split(\",\"))\n",
    "                          for ticket in other_tickets.splitlines()[1:])\n",
    "    return rules, my_ticket, other_tickets"
   ]
  },
  {
   "cell_type": "code",
   "execution_count": 9,
   "metadata": {},
   "outputs": [],
   "source": [
    "def aoc_16_1(inp=inp):\n",
    "    rules, _, other_tickets = parse_input(inp)\n",
    "    fail_all_rules = tuple(n for n in it.chain(*other_tickets)\n",
    "                           if not any(rule.check(n) for rule in rules))\n",
    "    return sum(fail_all_rules)"
   ]
  },
  {
   "cell_type": "code",
   "execution_count": 10,
   "metadata": {},
   "outputs": [],
   "source": [
    "assert aoc_16_1(TEST_INP) == 71"
   ]
  },
  {
   "cell_type": "code",
   "execution_count": 11,
   "metadata": {},
   "outputs": [
    {
     "data": {
      "text/plain": [
       "21996"
      ]
     },
     "execution_count": 11,
     "metadata": {},
     "output_type": "execute_result"
    }
   ],
   "source": [
    "aoc_16_1()"
   ]
  },
  {
   "cell_type": "markdown",
   "metadata": {},
   "source": [
    "## 16.2"
   ]
  },
  {
   "cell_type": "code",
   "execution_count": 31,
   "metadata": {},
   "outputs": [],
   "source": [
    "TEST_INP2 = \"\"\"class: 0-1 or 4-19\n",
    "row: 0-5 or 8-19\n",
    "seat: 0-13 or 16-19\n",
    "\n",
    "your ticket:\n",
    "11,12,13\n",
    "\n",
    "nearby tickets:\n",
    "3,9,18\n",
    "15,1,5\n",
    "5,14,9\"\"\""
   ]
  },
  {
   "cell_type": "code",
   "execution_count": 122,
   "metadata": {},
   "outputs": [],
   "source": [
    "from functools import reduce"
   ]
  },
  {
   "cell_type": "code",
   "execution_count": 36,
   "metadata": {},
   "outputs": [],
   "source": [
    "def check_ticket(ticket, rules):\n",
    "    return all(any(rule.check(n) for rule in rules) for n in ticket)"
   ]
  },
  {
   "cell_type": "code",
   "execution_count": 79,
   "metadata": {},
   "outputs": [],
   "source": [
    "def sort_rules(rules: Tuple[Rule], valid_tickets: Tuple[Tuple[int]], verbose: bool = False) -> Tuple[Rule]:\n",
    "    rule_dict = {rule.name: rule for rule in rules}\n",
    "    sorted_rules = {idx: None for idx, _ in enumerate(rules)}\n",
    "    while rule_dict:\n",
    "        for idx, nums in enumerate(zip(*valid_tickets)):\n",
    "            if sorted_rules[idx] is not None:\n",
    "                continue\n",
    "            matches = [rule for rule in rule_dict.values() if all(rule.check(n) for n in nums)]\n",
    "            if len(matches) == 1:\n",
    "                sorted_rules[idx] = rule_dict.pop(matches[0].name)\n",
    "                if verbose:\n",
    "                    print(f\"Found rule {sorted_rules[idx].name} for idx {idx}.\")\n",
    "    return sorted_rules"
   ]
  },
  {
   "cell_type": "code",
   "execution_count": 126,
   "metadata": {},
   "outputs": [],
   "source": [
    "def product(iterable):\n",
    "    return reduce(lambda a, b: a * b, iterable, 1)"
   ]
  },
  {
   "cell_type": "code",
   "execution_count": 131,
   "metadata": {},
   "outputs": [],
   "source": [
    "def aoc_16_2(inp=inp):\n",
    "    rules, my_ticket, other_tickets = parse_input(inp)\n",
    "    assert check_ticket(my_ticket, rules), \"My ticket is not valid!\"\n",
    "    valid_other_tickets = tuple(ticket for ticket in other_tickets\n",
    "                                if check_ticket(ticket, rules))\n",
    "    sorted_rules = sort_rules(rules, valid_other_tickets, verbose=True)\n",
    "    dep_values = (my_ticket[idx]\n",
    "                  for idx, rule in sorted_rules.items()\n",
    "                  if rule.name.startswith(\"departure\"))\n",
    "    return product(dep_values)"
   ]
  },
  {
   "cell_type": "code",
   "execution_count": 132,
   "metadata": {},
   "outputs": [
    {
     "name": "stdout",
     "output_type": "stream",
     "text": [
      "Found rule route for idx 13.\n",
      "Found rule seat for idx 3.\n",
      "Found rule type for idx 9.\n",
      "Found rule arrival track for idx 5.\n",
      "Found rule zone for idx 14.\n",
      "Found rule arrival location for idx 1.\n",
      "Found rule row for idx 8.\n",
      "Found rule train for idx 0.\n",
      "Found rule departure station for idx 17.\n",
      "Found rule departure platform for idx 15.\n",
      "Found rule departure track for idx 2.\n",
      "Found rule departure location for idx 19.\n",
      "Found rule departure date for idx 6.\n",
      "Found rule departure time for idx 16.\n",
      "Found rule class for idx 4.\n",
      "Found rule price for idx 18.\n",
      "Found rule wagon for idx 12.\n",
      "Found rule arrival station for idx 7.\n",
      "Found rule duration for idx 10.\n",
      "Found rule arrival platform for idx 11.\n"
     ]
    },
    {
     "data": {
      "text/plain": [
       "650080463519"
      ]
     },
     "execution_count": 132,
     "metadata": {},
     "output_type": "execute_result"
    }
   ],
   "source": [
    "aoc_16_2()"
   ]
  }
 ],
 "metadata": {
  "kernelspec": {
   "display_name": "Python 3",
   "language": "python",
   "name": "python3"
  },
  "language_info": {
   "codemirror_mode": {
    "name": "ipython",
    "version": 3
   },
   "file_extension": ".py",
   "mimetype": "text/x-python",
   "name": "python",
   "nbconvert_exporter": "python",
   "pygments_lexer": "ipython3",
   "version": "3.7.6"
  },
  "toc-autonumbering": false,
  "toc-showmarkdowntxt": false
 },
 "nbformat": 4,
 "nbformat_minor": 4
}
