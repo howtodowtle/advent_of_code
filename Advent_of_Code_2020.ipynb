{
 "cells": [
  {
   "cell_type": "markdown",
   "metadata": {},
   "source": [
    "# Setup"
   ]
  },
  {
   "cell_type": "code",
   "execution_count": 88,
   "metadata": {},
   "outputs": [
    {
     "name": "stdout",
     "output_type": "stream",
     "text": [
      "[NbConvertApp] Converting notebook Advent_of_Code_2020.ipynb to python\n",
      "[NbConvertApp] Writing 8635 bytes to Advent_of_Code_2020.py\n"
     ]
    }
   ],
   "source": [
    "! jupyter nbconvert --to python Advent_of_Code_2020.ipynb"
   ]
  },
  {
   "cell_type": "code",
   "execution_count": 2,
   "metadata": {},
   "outputs": [],
   "source": [
    "! mkdir -p inputs"
   ]
  },
  {
   "cell_type": "code",
   "execution_count": 3,
   "metadata": {},
   "outputs": [],
   "source": [
    "def put_away_input(inp, day):\n",
    "    with open(f\"inputs/inp_day_{day}.txt\", \"w\") as f:\n",
    "        f.write(inp)"
   ]
  },
  {
   "cell_type": "code",
   "execution_count": 4,
   "metadata": {},
   "outputs": [],
   "source": [
    "def read_input(day):\n",
    "    with open(f\"inputs/inp_day_{day}.txt\", \"r\") as f:\n",
    "        inp = f.read()\n",
    "    return inp"
   ]
  },
  {
   "cell_type": "markdown",
   "metadata": {},
   "source": [
    "# 1"
   ]
  },
  {
   "cell_type": "code",
   "execution_count": 5,
   "metadata": {},
   "outputs": [],
   "source": [
    "day = 1\n",
    "#put_away_input(inp, day)\n",
    "inp = read_input(day)"
   ]
  },
  {
   "cell_type": "markdown",
   "metadata": {},
   "source": [
    "## 1.1"
   ]
  },
  {
   "cell_type": "code",
   "execution_count": 6,
   "metadata": {},
   "outputs": [],
   "source": [
    "import itertools as it"
   ]
  },
  {
   "cell_type": "code",
   "execution_count": 7,
   "metadata": {},
   "outputs": [],
   "source": [
    "def aoc_1a(inp=inp, sum_is=2020):\n",
    "    list_of_numbers = [int(n) for n in inp.splitlines()]\n",
    "    check = lambda x, y: x + y == sum_is\n",
    "    for pair in it.permutations(list_of_numbers, 2):\n",
    "        if check(*pair):\n",
    "            print(*pair)\n",
    "            return pair[0] * pair[1]\n",
    "    print(\"No combination found!\")\n",
    "    return None"
   ]
  },
  {
   "cell_type": "code",
   "execution_count": 8,
   "metadata": {},
   "outputs": [
    {
     "name": "stdout",
     "output_type": "stream",
     "text": [
      "456 1564\n"
     ]
    },
    {
     "data": {
      "text/plain": [
       "713184"
      ]
     },
     "execution_count": 8,
     "metadata": {},
     "output_type": "execute_result"
    }
   ],
   "source": [
    "aoc_1a()"
   ]
  },
  {
   "cell_type": "markdown",
   "metadata": {},
   "source": [
    "## 1.2"
   ]
  },
  {
   "cell_type": "code",
   "execution_count": 9,
   "metadata": {},
   "outputs": [],
   "source": [
    "def multiply_nums(nums):\n",
    "    product = 1\n",
    "    for num in nums:\n",
    "        product *= num\n",
    "    return product"
   ]
  },
  {
   "cell_type": "code",
   "execution_count": 10,
   "metadata": {},
   "outputs": [],
   "source": [
    "def aoc_1b(inp=inp, n_numbers=3, sum_is=2020):\n",
    "    list_of_numbers = [int(n) for n in inp.splitlines()]\n",
    "    check = lambda nums: sum(nums) == sum_is\n",
    "    for nums in it.permutations(list_of_numbers, n_numbers):\n",
    "        if check(nums):\n",
    "            print(*nums)\n",
    "            return multiply_nums(nums)\n",
    "    print(\"No combination found!\")\n",
    "    return None"
   ]
  },
  {
   "cell_type": "code",
   "execution_count": 11,
   "metadata": {},
   "outputs": [
    {
     "name": "stdout",
     "output_type": "stream",
     "text": [
      "764 857 399\n"
     ]
    },
    {
     "data": {
      "text/plain": [
       "261244452"
      ]
     },
     "execution_count": 11,
     "metadata": {},
     "output_type": "execute_result"
    }
   ],
   "source": [
    "aoc_1b()"
   ]
  },
  {
   "cell_type": "markdown",
   "metadata": {},
   "source": [
    "# 2"
   ]
  },
  {
   "cell_type": "code",
   "execution_count": 12,
   "metadata": {},
   "outputs": [],
   "source": [
    "day = 2\n",
    "#put_away_input(inp, day)\n",
    "inp = read_input(day)"
   ]
  },
  {
   "cell_type": "markdown",
   "metadata": {},
   "source": [
    "## 2.1"
   ]
  },
  {
   "cell_type": "code",
   "execution_count": 13,
   "metadata": {},
   "outputs": [],
   "source": [
    "import re"
   ]
  },
  {
   "cell_type": "code",
   "execution_count": 14,
   "metadata": {},
   "outputs": [],
   "source": [
    "def parse_line(line):\n",
    "    min_ = int(line.split(\"-\")[0])\n",
    "    max_ = int(re.findall(r\"\\d+-(\\d+) \\w: \\w+\", line)[0])\n",
    "    letter = re.findall(r\"\\d+-\\d+ (\\w): \\w+\", line)[0]\n",
    "    passwd = re.findall(r\"\\d+-\\d+ \\w: (\\w+)\", line)[0]\n",
    "    return min_, max_, letter, passwd"
   ]
  },
  {
   "cell_type": "code",
   "execution_count": 15,
   "metadata": {},
   "outputs": [],
   "source": [
    "def check_line(line):\n",
    "    min_, max_, letter, passwd = parse_line(line)\n",
    "    this_many = passwd.count(letter)\n",
    "    return min_ <= this_many <= max_"
   ]
  },
  {
   "cell_type": "code",
   "execution_count": 16,
   "metadata": {},
   "outputs": [],
   "source": [
    "def aoc2a(inp=inp):\n",
    "    lines = inp.splitlines()\n",
    "    return sum(check_line(line) for line in lines)"
   ]
  },
  {
   "cell_type": "code",
   "execution_count": 17,
   "metadata": {},
   "outputs": [
    {
     "data": {
      "text/plain": [
       "439"
      ]
     },
     "execution_count": 17,
     "metadata": {},
     "output_type": "execute_result"
    }
   ],
   "source": [
    "aoc2a()"
   ]
  },
  {
   "cell_type": "markdown",
   "metadata": {},
   "source": [
    "## 2.2"
   ]
  },
  {
   "cell_type": "code",
   "execution_count": 18,
   "metadata": {},
   "outputs": [],
   "source": [
    "def check_line_2(line):\n",
    "    pos1, pos2, letter, passwd = parse_line(line)\n",
    "    lp1, lp2 = (passwd[pos1 - 1] == letter), (passwd[pos2 - 1] == letter)\n",
    "    return (lp1 or lp2) and not (lp1 and lp2)"
   ]
  },
  {
   "cell_type": "code",
   "execution_count": 19,
   "metadata": {},
   "outputs": [],
   "source": [
    "def aoc2b(inp=inp):\n",
    "    lines = inp.splitlines()\n",
    "    return sum(check_line_2(line) for line in lines)"
   ]
  },
  {
   "cell_type": "code",
   "execution_count": 20,
   "metadata": {},
   "outputs": [
    {
     "data": {
      "text/plain": [
       "584"
      ]
     },
     "execution_count": 20,
     "metadata": {},
     "output_type": "execute_result"
    }
   ],
   "source": [
    "aoc2b()"
   ]
  },
  {
   "cell_type": "markdown",
   "metadata": {},
   "source": [
    "# 3"
   ]
  },
  {
   "cell_type": "code",
   "execution_count": 32,
   "metadata": {},
   "outputs": [],
   "source": [
    "day = 3\n",
    "#put_away_input(inp, day)\n",
    "inp = read_input(day)"
   ]
  },
  {
   "cell_type": "markdown",
   "metadata": {},
   "source": [
    "## 3.1"
   ]
  },
  {
   "cell_type": "code",
   "execution_count": 33,
   "metadata": {},
   "outputs": [],
   "source": [
    "import itertools as it"
   ]
  },
  {
   "cell_type": "code",
   "execution_count": 34,
   "metadata": {},
   "outputs": [],
   "source": [
    "def aoc_3_1(inp=inp, debug=False):\n",
    "    lines = (it.cycle(l) for l in inp.splitlines())\n",
    "    path, idx = [], 0\n",
    "    for line in lines:\n",
    "        if debug:\n",
    "            print(f\"Index: {idx}\")\n",
    "        [next(line) for _ in range(idx)]  # consume rows\n",
    "        path.append(next(line))\n",
    "        idx += 3\n",
    "    return path.count(\"#\")"
   ]
  },
  {
   "cell_type": "code",
   "execution_count": 35,
   "metadata": {},
   "outputs": [
    {
     "data": {
      "text/plain": [
       "200"
      ]
     },
     "execution_count": 35,
     "metadata": {},
     "output_type": "execute_result"
    }
   ],
   "source": [
    "aoc_3_1()"
   ]
  },
  {
   "cell_type": "markdown",
   "metadata": {},
   "source": [
    "## 3.2"
   ]
  },
  {
   "cell_type": "code",
   "execution_count": 36,
   "metadata": {
    "jupyter": {
     "source_hidden": true
    }
   },
   "outputs": [],
   "source": [
    "test_inp = \"\"\"..##.......\n",
    "#...#...#..\n",
    ".#....#..#.\n",
    "..#.#...#.#\n",
    ".#...##..#.\n",
    "..#.##.....\n",
    ".#.#.#....#\n",
    ".#........#\n",
    "#.##...#...\n",
    "#...##....#\n",
    ".#..#...#.#\"\"\""
   ]
  },
  {
   "cell_type": "code",
   "execution_count": 37,
   "metadata": {},
   "outputs": [],
   "source": [
    "def aoc_3_2_helper(right=3, down=1, inp=inp, debug=False):\n",
    "    lines = (it.cycle(l) for l in inp.splitlines())\n",
    "    path, idx = [], 0\n",
    "    while True:\n",
    "        try:\n",
    "            line = next(lines)\n",
    "            [next(line) for _ in range(idx)]  # consume rows\n",
    "            path.append(next(line))\n",
    "            idx += right\n",
    "            [next(lines) for _ in range(down - 1)]  # consume cols\n",
    "        except StopIteration:\n",
    "            break\n",
    "    return path.count(\"#\")"
   ]
  },
  {
   "cell_type": "code",
   "execution_count": 38,
   "metadata": {},
   "outputs": [],
   "source": [
    "def aoc_3_2(rights=(1, 3, 5, 7, 1), downs=(1, 1, 1, 1, 2), inp=inp, debug=False):\n",
    "    assert len(rights) == len(downs), \"not the same number of downs & rights!\"\n",
    "    product = 1\n",
    "    for r, d in zip(rights, downs):\n",
    "        trees = aoc_3_2_helper(right=r, down=d, inp=inp)\n",
    "        if debug:\n",
    "            print(f\"Right {r}, down {d}: {trees:3}.\")\n",
    "        product *= trees\n",
    "    return product"
   ]
  },
  {
   "cell_type": "code",
   "execution_count": 39,
   "metadata": {},
   "outputs": [
    {
     "name": "stdout",
     "output_type": "stream",
     "text": [
      "Right 1, down 1:   2.\n",
      "Right 3, down 1:   7.\n",
      "Right 5, down 1:   3.\n",
      "Right 7, down 1:   4.\n",
      "Right 1, down 2:   2.\n"
     ]
    },
    {
     "data": {
      "text/plain": [
       "336"
      ]
     },
     "execution_count": 39,
     "metadata": {},
     "output_type": "execute_result"
    }
   ],
   "source": [
    "aoc_3_2(inp=test_inp, debug=True)"
   ]
  },
  {
   "cell_type": "code",
   "execution_count": 40,
   "metadata": {},
   "outputs": [
    {
     "name": "stdout",
     "output_type": "stream",
     "text": [
      "Right 1, down 1:  66.\n",
      "Right 3, down 1: 200.\n",
      "Right 5, down 1:  76.\n",
      "Right 7, down 1:  81.\n",
      "Right 1, down 2:  46.\n"
     ]
    },
    {
     "data": {
      "text/plain": [
       "3737923200"
      ]
     },
     "execution_count": 40,
     "metadata": {},
     "output_type": "execute_result"
    }
   ],
   "source": [
    "aoc_3_2(inp=inp, debug=True)"
   ]
  },
  {
   "cell_type": "markdown",
   "metadata": {},
   "source": [
    "# 4"
   ]
  },
  {
   "cell_type": "code",
   "execution_count": 41,
   "metadata": {},
   "outputs": [],
   "source": [
    "day = 4\n",
    "#put_away_input(inp, day)\n",
    "inp = read_input(day)"
   ]
  },
  {
   "cell_type": "markdown",
   "metadata": {},
   "source": [
    "## 4.1"
   ]
  },
  {
   "cell_type": "code",
   "execution_count": 42,
   "metadata": {},
   "outputs": [],
   "source": [
    "test_inp = \"\"\"ecl:gry pid:860033327 eyr:2020 hcl:#fffffd\n",
    "byr:1937 iyr:2017 cid:147 hgt:183cm\n",
    "\n",
    "iyr:2013 ecl:amb cid:350 eyr:2023 pid:028048884\n",
    "hcl:#cfa07d byr:1929\n",
    "\n",
    "hcl:#ae17e1 iyr:2013\n",
    "eyr:2024\n",
    "ecl:brn pid:760753108 byr:1931\n",
    "hgt:179cm\n",
    "\n",
    "hcl:#cfa07d eyr:2025 pid:166559648\n",
    "iyr:2011 ecl:brn hgt:59in\"\"\""
   ]
  },
  {
   "cell_type": "code",
   "execution_count": 43,
   "metadata": {},
   "outputs": [],
   "source": [
    "KEYS = set((\"byr\", \"iyr\", \"eyr\", \"hgt\", \"hcl\", \"ecl\", \"pid\", \"cid\"))"
   ]
  },
  {
   "cell_type": "code",
   "execution_count": 44,
   "metadata": {},
   "outputs": [],
   "source": [
    "OPT_KEYS = set((\"cid\",))"
   ]
  },
  {
   "cell_type": "code",
   "execution_count": 45,
   "metadata": {},
   "outputs": [],
   "source": [
    "REQ_KEYS = KEYS.difference(OPT_KEYS)"
   ]
  },
  {
   "cell_type": "code",
   "execution_count": 46,
   "metadata": {},
   "outputs": [
    {
     "data": {
      "text/plain": [
       "({'byr', 'cid', 'ecl', 'eyr', 'hcl', 'hgt', 'iyr', 'pid'},\n",
       " {'cid'},\n",
       " {'byr', 'ecl', 'eyr', 'hcl', 'hgt', 'iyr', 'pid'})"
      ]
     },
     "execution_count": 46,
     "metadata": {},
     "output_type": "execute_result"
    }
   ],
   "source": [
    "KEYS, OPT_KEYS, REQ_KEYS"
   ]
  },
  {
   "cell_type": "code",
   "execution_count": 47,
   "metadata": {},
   "outputs": [],
   "source": [
    "def split_inp(inp=inp):\n",
    "    yield from inp.split(\"\\n\\n\")"
   ]
  },
  {
   "cell_type": "code",
   "execution_count": 48,
   "metadata": {},
   "outputs": [],
   "source": [
    "def check_passport(pp):\n",
    "    return all([f\"{k}:\" in pp for k in REQ_KEYS])"
   ]
  },
  {
   "cell_type": "code",
   "execution_count": 49,
   "metadata": {},
   "outputs": [],
   "source": [
    "def aoc_4_1(inp=inp):\n",
    "    return sum(check_passport(pp) for pp in split_inp(inp))"
   ]
  },
  {
   "cell_type": "code",
   "execution_count": 50,
   "metadata": {},
   "outputs": [
    {
     "data": {
      "text/plain": [
       "182"
      ]
     },
     "execution_count": 50,
     "metadata": {},
     "output_type": "execute_result"
    }
   ],
   "source": [
    "aoc_4_1()"
   ]
  },
  {
   "cell_type": "markdown",
   "metadata": {},
   "source": [
    "## 4.2"
   ]
  },
  {
   "cell_type": "code",
   "execution_count": 51,
   "metadata": {},
   "outputs": [],
   "source": [
    "from functools import partial"
   ]
  },
  {
   "cell_type": "code",
   "execution_count": 52,
   "metadata": {},
   "outputs": [],
   "source": [
    "import re"
   ]
  },
  {
   "cell_type": "code",
   "execution_count": 53,
   "metadata": {},
   "outputs": [],
   "source": [
    "REQ_KEYS = (\"byr\", \"ecl\", \"eyr\", \"hcl\", \"hgt\", \"iyr\", \"pid\")"
   ]
  },
  {
   "cell_type": "code",
   "execution_count": 54,
   "metadata": {},
   "outputs": [],
   "source": [
    "ECLS = (\"amb\", \"blu\", \"brn\", \"gry\", \"grn\", \"hzl\", \"oth\")"
   ]
  },
  {
   "cell_type": "code",
   "execution_count": 55,
   "metadata": {},
   "outputs": [],
   "source": [
    "def year_check(y, miny, maxy, digits=4):\n",
    "    try:\n",
    "        return len(y) == digits and miny <= int(y) <= maxy\n",
    "    except:\n",
    "        return False"
   ]
  },
  {
   "cell_type": "code",
   "execution_count": 56,
   "metadata": {},
   "outputs": [],
   "source": [
    "def check_height(hgt):\n",
    "    if len(hgt) > 5 or len(hgt) < 4:\n",
    "        return False\n",
    "    val, unit = hgt[:-2], hgt[-2:]\n",
    "    if unit not in (\"cm\", \"in\"):\n",
    "        return False\n",
    "    try:\n",
    "        val = int(val)\n",
    "    except:\n",
    "        return False\n",
    "    if unit == \"cm\":\n",
    "        return 150 <= val <= 193\n",
    "    else:\n",
    "        return 59 <= val <= 76"
   ]
  },
  {
   "cell_type": "code",
   "execution_count": 57,
   "metadata": {},
   "outputs": [],
   "source": [
    "RULES = {\n",
    "    \"byr\": partial(year_check, miny=1920, maxy=2002),\n",
    "    \"iyr\": partial(year_check, miny=2010, maxy=2020),\n",
    "    \"eyr\": partial(year_check, miny=2020, maxy=2030),\n",
    "    \"hgt\": check_height,\n",
    "    \"hcl\": lambda hcl: re.fullmatch(r\"#[\\da-f]{6}\", hcl) is not None,\n",
    "    \"ecl\": lambda ecl: ecl in ECLS,\n",
    "    \"pid\": lambda pid: re.fullmatch(r\"\\d{9}\", pid) is not None,\n",
    "}"
   ]
  },
  {
   "cell_type": "code",
   "execution_count": 58,
   "metadata": {},
   "outputs": [],
   "source": [
    "def parse_passport(pp):\n",
    "    pp += \" \"  # append whitespace so regex is easy\n",
    "    pp_dict = {key: re.findall(fr\"{key}:(.*?)\\s\", pp)[0]\n",
    "               for key in REQ_KEYS}\n",
    "    return pp_dict"
   ]
  },
  {
   "cell_type": "code",
   "execution_count": 59,
   "metadata": {},
   "outputs": [],
   "source": [
    "def check_passport_2(pp):\n",
    "    if check_passport(pp) is False:\n",
    "        return False\n",
    "    fields = parse_passport(pp)\n",
    "    assert set(RULES.keys()) == set(fields.keys()), \"fields and rules don't match!\"\n",
    "    return all(RULES[field](value) for field, value in fields.items())"
   ]
  },
  {
   "cell_type": "code",
   "execution_count": 60,
   "metadata": {},
   "outputs": [],
   "source": [
    "def aoc_4_2(inp=inp):\n",
    "    return sum(check_passport_2(pp) for pp in split_inp(inp))"
   ]
  },
  {
   "cell_type": "code",
   "execution_count": 61,
   "metadata": {},
   "outputs": [
    {
     "data": {
      "text/plain": [
       "109"
      ]
     },
     "execution_count": 61,
     "metadata": {},
     "output_type": "execute_result"
    }
   ],
   "source": [
    "aoc_4_2()"
   ]
  },
  {
   "cell_type": "markdown",
   "metadata": {
    "jupyter": {
     "outputs_hidden": true
    }
   },
   "source": [
    "# 5"
   ]
  },
  {
   "cell_type": "code",
   "execution_count": 62,
   "metadata": {},
   "outputs": [],
   "source": [
    "day = 5\n",
    "#put_away_input(inp, day)\n",
    "inp = read_input(day)"
   ]
  },
  {
   "cell_type": "markdown",
   "metadata": {},
   "source": [
    "# 5.1"
   ]
  },
  {
   "cell_type": "markdown",
   "metadata": {},
   "source": [
    "```\n",
    "BFFFBBFRRR: row 70, column 7, seat ID 567.\n",
    "FFFBBBFRRR: row 14, column 7, seat ID 119.\n",
    "BBFFBBFRLL: row 102, column 4, seat ID 820.\n",
    "```"
   ]
  },
  {
   "cell_type": "code",
   "execution_count": 63,
   "metadata": {},
   "outputs": [],
   "source": [
    "test_inp = \"\"\"BFFFBBFRRR\n",
    "FFFBBBFRRR\n",
    "BBFFBBFRLL\"\"\""
   ]
  },
  {
   "cell_type": "code",
   "execution_count": 64,
   "metadata": {},
   "outputs": [],
   "source": [
    "def split_line(line: str):\n",
    "    row_b, col_b = line[:-3], line[-3:]\n",
    "    return row_b, col_b"
   ]
  },
  {
   "cell_type": "code",
   "execution_count": 65,
   "metadata": {},
   "outputs": [],
   "source": [
    "def map_to_bin(s, map_0=\"L\", map_1=\"R\"):\n",
    "    remapped = s.replace(map_0, \"0\").replace(map_1, \"1\")\n",
    "    return int(remapped, 2)"
   ]
  },
  {
   "cell_type": "code",
   "execution_count": 66,
   "metadata": {},
   "outputs": [],
   "source": [
    "def calc_seat_num(line):\n",
    "    row_b, col_b = split_line(line)\n",
    "    row, col = map_to_bin(row_b, \"F\", \"B\"), map_to_bin(col_b)\n",
    "    return row * 8 + col"
   ]
  },
  {
   "cell_type": "code",
   "execution_count": 67,
   "metadata": {},
   "outputs": [],
   "source": [
    "def aoc_5_1(inp=inp):\n",
    "    return max(calc_seat_num(line) for line in inp.splitlines())"
   ]
  },
  {
   "cell_type": "code",
   "execution_count": 68,
   "metadata": {},
   "outputs": [
    {
     "data": {
      "text/plain": [
       "928"
      ]
     },
     "execution_count": 68,
     "metadata": {},
     "output_type": "execute_result"
    }
   ],
   "source": [
    "aoc_5_1()"
   ]
  },
  {
   "cell_type": "markdown",
   "metadata": {},
   "source": [
    "## 5.2"
   ]
  },
  {
   "cell_type": "code",
   "execution_count": 69,
   "metadata": {},
   "outputs": [],
   "source": [
    "def all_seats(inp):\n",
    "    return (calc_seat_num(line) for line in inp.splitlines())"
   ]
  },
  {
   "cell_type": "code",
   "execution_count": 70,
   "metadata": {},
   "outputs": [],
   "source": [
    "def aoc_5_2(inp=inp):\n",
    "    seat_list = list(all_seats(inp))\n",
    "    min_seat, max_seat = min(seat_list), max(seat_list)\n",
    "    my_seat = [seat for seat in range(min_seat, max_seat + 1) if seat not in seat_list][0]\n",
    "    return my_seat"
   ]
  },
  {
   "cell_type": "code",
   "execution_count": 71,
   "metadata": {},
   "outputs": [
    {
     "data": {
      "text/plain": [
       "610"
      ]
     },
     "execution_count": 71,
     "metadata": {},
     "output_type": "execute_result"
    }
   ],
   "source": [
    "aoc_5_2()"
   ]
  },
  {
   "cell_type": "markdown",
   "metadata": {},
   "source": [
    "# 6"
   ]
  },
  {
   "cell_type": "code",
   "execution_count": 78,
   "metadata": {},
   "outputs": [],
   "source": [
    "day = 6\n",
    "#put_away_input(inp, day)\n",
    "inp = read_input(day)"
   ]
  },
  {
   "cell_type": "markdown",
   "metadata": {},
   "source": [
    "## 6.1"
   ]
  },
  {
   "cell_type": "code",
   "execution_count": 79,
   "metadata": {},
   "outputs": [],
   "source": [
    "from string import ascii_lowercase as letters"
   ]
  },
  {
   "cell_type": "code",
   "execution_count": 80,
   "metadata": {},
   "outputs": [
    {
     "data": {
      "text/plain": [
       "'abcdefghijklmnopqrstuvwxyz'"
      ]
     },
     "execution_count": 80,
     "metadata": {},
     "output_type": "execute_result"
    }
   ],
   "source": [
    "letters"
   ]
  },
  {
   "cell_type": "code",
   "execution_count": 81,
   "metadata": {},
   "outputs": [],
   "source": [
    "def split_inp(inp=inp):\n",
    "    yield from inp.split(\"\\n\\n\")"
   ]
  },
  {
   "cell_type": "code",
   "execution_count": 82,
   "metadata": {},
   "outputs": [],
   "source": [
    "def aoc_6_1(inp=inp):\n",
    "    return sum(ltr in grp \n",
    "               for ltr in letters\n",
    "               for grp in split_inp(inp))"
   ]
  },
  {
   "cell_type": "code",
   "execution_count": 83,
   "metadata": {},
   "outputs": [
    {
     "data": {
      "text/plain": [
       "6335"
      ]
     },
     "execution_count": 83,
     "metadata": {},
     "output_type": "execute_result"
    }
   ],
   "source": [
    "aoc_6_1()"
   ]
  },
  {
   "cell_type": "markdown",
   "metadata": {},
   "source": [
    "## 6.2"
   ]
  },
  {
   "cell_type": "code",
   "execution_count": 84,
   "metadata": {},
   "outputs": [],
   "source": [
    "def split_group(grp):\n",
    "    return grp.splitlines()"
   ]
  },
  {
   "cell_type": "code",
   "execution_count": 85,
   "metadata": {},
   "outputs": [],
   "source": [
    "def calc_group(grp):\n",
    "    return sum(all([letter in person for person in split_group(grp)]) \n",
    "               for letter in letters)"
   ]
  },
  {
   "cell_type": "code",
   "execution_count": 86,
   "metadata": {},
   "outputs": [],
   "source": [
    "def aoc_6_2(inp=inp):\n",
    "    return sum(calc_group(grp) for grp in split_inp(inp))"
   ]
  },
  {
   "cell_type": "code",
   "execution_count": 87,
   "metadata": {},
   "outputs": [
    {
     "data": {
      "text/plain": [
       "3392"
      ]
     },
     "execution_count": 87,
     "metadata": {},
     "output_type": "execute_result"
    }
   ],
   "source": [
    "aoc_6_2()"
   ]
  }
 ],
 "metadata": {
  "kernelspec": {
   "display_name": "Python 3",
   "language": "python",
   "name": "python3"
  },
  "language_info": {
   "codemirror_mode": {
    "name": "ipython",
    "version": 3
   },
   "file_extension": ".py",
   "mimetype": "text/x-python",
   "name": "python",
   "nbconvert_exporter": "python",
   "pygments_lexer": "ipython3",
   "version": "3.7.6"
  },
  "toc-autonumbering": false
 },
 "nbformat": 4,
 "nbformat_minor": 4
}
