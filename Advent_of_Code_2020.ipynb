{
 "cells": [
  {
   "cell_type": "markdown",
   "metadata": {
    "Collapsed": "false"
   },
   "source": [
    "# Setup"
   ]
  },
  {
   "cell_type": "code",
   "execution_count": 215,
   "metadata": {
    "Collapsed": "false"
   },
   "outputs": [
    {
     "name": "stdout",
     "output_type": "stream",
     "text": [
      "[NbConvertApp] Converting notebook Advent_of_Code_2020.ipynb to python\n",
      "[NbConvertApp] Writing 18311 bytes to Advent_of_Code_2020.py\n"
     ]
    }
   ],
   "source": [
    "! jupyter nbconvert --to python Advent_of_Code_2020.ipynb"
   ]
  },
  {
   "cell_type": "code",
   "execution_count": 2,
   "metadata": {
    "Collapsed": "false"
   },
   "outputs": [],
   "source": [
    "! mkdir -p inputs"
   ]
  },
  {
   "cell_type": "code",
   "execution_count": 3,
   "metadata": {
    "Collapsed": "false"
   },
   "outputs": [],
   "source": [
    "def put_away_input(inp, day, overwrite=False):\n",
    "    import os\n",
    "    filename = f\"inputs/inp_day_{day}.txt\"\n",
    "    if os.path.exists(filename):\n",
    "        print(f\"{filename} exists. Overwrite? (y/n)\")\n",
    "        overwrite = input() == \"y\"\n",
    "        if not overwrite:\n",
    "            print(\"Not overwriting existing file.\")            \n",
    "            return\n",
    "    print(f\"Writing {filename}.\")\n",
    "    with open(filename, \"w\") as f:\n",
    "        f.write(inp)"
   ]
  },
  {
   "cell_type": "code",
   "execution_count": 4,
   "metadata": {
    "Collapsed": "false"
   },
   "outputs": [],
   "source": [
    "def read_input(day):\n",
    "    with open(f\"inputs/inp_day_{day}.txt\", \"r\") as f:\n",
    "        inp = f.read()\n",
    "    return inp"
   ]
  },
  {
   "cell_type": "markdown",
   "metadata": {
    "Collapsed": "false"
   },
   "source": [
    "# 1"
   ]
  },
  {
   "cell_type": "code",
   "execution_count": 5,
   "metadata": {
    "Collapsed": "false"
   },
   "outputs": [],
   "source": [
    "day = 1\n",
    "#put_away_input(inp, day)\n",
    "inp = read_input(day)"
   ]
  },
  {
   "cell_type": "markdown",
   "metadata": {
    "Collapsed": "false"
   },
   "source": [
    "## 1.1"
   ]
  },
  {
   "cell_type": "code",
   "execution_count": 6,
   "metadata": {
    "Collapsed": "false"
   },
   "outputs": [],
   "source": [
    "import itertools as it"
   ]
  },
  {
   "cell_type": "code",
   "execution_count": 7,
   "metadata": {
    "Collapsed": "false"
   },
   "outputs": [],
   "source": [
    "def aoc_1_1(inp=inp, sum_is=2020):\n",
    "    list_of_numbers = [int(n) for n in inp.splitlines()]\n",
    "    check = lambda x, y: x + y == sum_is\n",
    "    for pair in it.permutations(list_of_numbers, 2):\n",
    "        if check(*pair):\n",
    "            print(*pair)\n",
    "            return pair[0] * pair[1]\n",
    "    print(\"No combination found!\")\n",
    "    return None"
   ]
  },
  {
   "cell_type": "code",
   "execution_count": 8,
   "metadata": {
    "Collapsed": "false"
   },
   "outputs": [
    {
     "name": "stdout",
     "output_type": "stream",
     "text": [
      "456 1564\n"
     ]
    },
    {
     "data": {
      "text/plain": [
       "713184"
      ]
     },
     "execution_count": 8,
     "metadata": {},
     "output_type": "execute_result"
    }
   ],
   "source": [
    "aoc_1_1()"
   ]
  },
  {
   "cell_type": "markdown",
   "metadata": {
    "Collapsed": "false"
   },
   "source": [
    "## 1.2"
   ]
  },
  {
   "cell_type": "code",
   "execution_count": 9,
   "metadata": {
    "Collapsed": "false"
   },
   "outputs": [],
   "source": [
    "def multiply_nums(nums):\n",
    "    product = 1\n",
    "    for num in nums:\n",
    "        product *= num\n",
    "    return product"
   ]
  },
  {
   "cell_type": "code",
   "execution_count": 10,
   "metadata": {
    "Collapsed": "false"
   },
   "outputs": [],
   "source": [
    "def aoc_1_2(inp=inp, n_numbers=3, sum_is=2020):\n",
    "    list_of_numbers = [int(n) for n in inp.splitlines()]\n",
    "    check = lambda nums: sum(nums) == sum_is\n",
    "    for nums in it.permutations(list_of_numbers, n_numbers):\n",
    "        if check(nums):\n",
    "            print(*nums)\n",
    "            return multiply_nums(nums)\n",
    "    print(\"No combination found!\")\n",
    "    return None"
   ]
  },
  {
   "cell_type": "code",
   "execution_count": 11,
   "metadata": {
    "Collapsed": "false"
   },
   "outputs": [
    {
     "name": "stdout",
     "output_type": "stream",
     "text": [
      "764 857 399\n"
     ]
    },
    {
     "data": {
      "text/plain": [
       "261244452"
      ]
     },
     "execution_count": 11,
     "metadata": {},
     "output_type": "execute_result"
    }
   ],
   "source": [
    "aoc_1_2()"
   ]
  },
  {
   "cell_type": "markdown",
   "metadata": {
    "Collapsed": "false"
   },
   "source": [
    "# 2"
   ]
  },
  {
   "cell_type": "code",
   "execution_count": 12,
   "metadata": {
    "Collapsed": "false"
   },
   "outputs": [],
   "source": [
    "day = 2\n",
    "#put_away_input(inp, day)\n",
    "inp = read_input(day)"
   ]
  },
  {
   "cell_type": "markdown",
   "metadata": {
    "Collapsed": "false"
   },
   "source": [
    "## 2.1"
   ]
  },
  {
   "cell_type": "code",
   "execution_count": 13,
   "metadata": {
    "Collapsed": "false"
   },
   "outputs": [],
   "source": [
    "import re"
   ]
  },
  {
   "cell_type": "code",
   "execution_count": 14,
   "metadata": {
    "Collapsed": "false"
   },
   "outputs": [],
   "source": [
    "def parse_line(line):\n",
    "    min_ = int(line.split(\"-\")[0])\n",
    "    max_ = int(re.findall(r\"\\d+-(\\d+) \\w: \\w+\", line)[0])\n",
    "    letter = re.findall(r\"\\d+-\\d+ (\\w): \\w+\", line)[0]\n",
    "    passwd = re.findall(r\"\\d+-\\d+ \\w: (\\w+)\", line)[0]\n",
    "    return min_, max_, letter, passwd"
   ]
  },
  {
   "cell_type": "code",
   "execution_count": 15,
   "metadata": {
    "Collapsed": "false"
   },
   "outputs": [],
   "source": [
    "def check_line(line):\n",
    "    min_, max_, letter, passwd = parse_line(line)\n",
    "    this_many = passwd.count(letter)\n",
    "    return min_ <= this_many <= max_"
   ]
  },
  {
   "cell_type": "code",
   "execution_count": 16,
   "metadata": {
    "Collapsed": "false"
   },
   "outputs": [],
   "source": [
    "def aoc_2_1(inp=inp):\n",
    "    lines = inp.splitlines()\n",
    "    return sum(check_line(line) for line in lines)"
   ]
  },
  {
   "cell_type": "code",
   "execution_count": 17,
   "metadata": {
    "Collapsed": "false"
   },
   "outputs": [
    {
     "data": {
      "text/plain": [
       "439"
      ]
     },
     "execution_count": 17,
     "metadata": {},
     "output_type": "execute_result"
    }
   ],
   "source": [
    "aoc_2_1()"
   ]
  },
  {
   "cell_type": "markdown",
   "metadata": {
    "Collapsed": "false"
   },
   "source": [
    "## 2.2"
   ]
  },
  {
   "cell_type": "code",
   "execution_count": 18,
   "metadata": {
    "Collapsed": "false"
   },
   "outputs": [],
   "source": [
    "def check_line_2(line):\n",
    "    pos1, pos2, letter, passwd = parse_line(line)\n",
    "    lp1, lp2 = (passwd[pos1 - 1] == letter), (passwd[pos2 - 1] == letter)\n",
    "    return (lp1 or lp2) and not (lp1 and lp2)"
   ]
  },
  {
   "cell_type": "code",
   "execution_count": 19,
   "metadata": {
    "Collapsed": "false"
   },
   "outputs": [],
   "source": [
    "def aoc_2_2(inp=inp):\n",
    "    lines = inp.splitlines()\n",
    "    return sum(check_line_2(line) for line in lines)"
   ]
  },
  {
   "cell_type": "code",
   "execution_count": 20,
   "metadata": {
    "Collapsed": "false"
   },
   "outputs": [
    {
     "data": {
      "text/plain": [
       "584"
      ]
     },
     "execution_count": 20,
     "metadata": {},
     "output_type": "execute_result"
    }
   ],
   "source": [
    "aoc_2_2()"
   ]
  },
  {
   "cell_type": "markdown",
   "metadata": {
    "Collapsed": "false"
   },
   "source": [
    "# 3"
   ]
  },
  {
   "cell_type": "code",
   "execution_count": 21,
   "metadata": {
    "Collapsed": "false"
   },
   "outputs": [],
   "source": [
    "day = 3\n",
    "#put_away_input(inp, day)\n",
    "inp = read_input(day)"
   ]
  },
  {
   "cell_type": "markdown",
   "metadata": {
    "Collapsed": "false"
   },
   "source": [
    "## 3.1"
   ]
  },
  {
   "cell_type": "code",
   "execution_count": 22,
   "metadata": {
    "Collapsed": "false"
   },
   "outputs": [],
   "source": [
    "import itertools as it"
   ]
  },
  {
   "cell_type": "code",
   "execution_count": 23,
   "metadata": {
    "Collapsed": "false"
   },
   "outputs": [],
   "source": [
    "def aoc_3_1(inp=inp, debug=False):\n",
    "    lines = (it.cycle(l) for l in inp.splitlines())\n",
    "    path, idx = [], 0\n",
    "    for line in lines:\n",
    "        if debug:\n",
    "            print(f\"Index: {idx}\")\n",
    "        [next(line) for _ in range(idx)]  # consume rows\n",
    "        path.append(next(line))\n",
    "        idx += 3\n",
    "    return path.count(\"#\")"
   ]
  },
  {
   "cell_type": "code",
   "execution_count": 24,
   "metadata": {
    "Collapsed": "false"
   },
   "outputs": [
    {
     "data": {
      "text/plain": [
       "200"
      ]
     },
     "execution_count": 24,
     "metadata": {},
     "output_type": "execute_result"
    }
   ],
   "source": [
    "aoc_3_1()"
   ]
  },
  {
   "cell_type": "markdown",
   "metadata": {
    "Collapsed": "false"
   },
   "source": [
    "## 3.2"
   ]
  },
  {
   "cell_type": "code",
   "execution_count": 25,
   "metadata": {
    "Collapsed": "false",
    "jupyter": {
     "source_hidden": true
    }
   },
   "outputs": [],
   "source": [
    "test_inp = \"\"\"..##.......\n",
    "#...#...#..\n",
    ".#....#..#.\n",
    "..#.#...#.#\n",
    ".#...##..#.\n",
    "..#.##.....\n",
    ".#.#.#....#\n",
    ".#........#\n",
    "#.##...#...\n",
    "#...##....#\n",
    ".#..#...#.#\"\"\""
   ]
  },
  {
   "cell_type": "code",
   "execution_count": 26,
   "metadata": {
    "Collapsed": "false"
   },
   "outputs": [],
   "source": [
    "def aoc_3_2_helper(right=3, down=1, inp=inp, debug=False):\n",
    "    lines = (it.cycle(l) for l in inp.splitlines())\n",
    "    path, idx = [], 0\n",
    "    while True:\n",
    "        try:\n",
    "            line = next(lines)\n",
    "            [next(line) for _ in range(idx)]  # consume rows\n",
    "            path.append(next(line))\n",
    "            idx += right\n",
    "            [next(lines) for _ in range(down - 1)]  # consume cols\n",
    "        except StopIteration:\n",
    "            break\n",
    "    return path.count(\"#\")"
   ]
  },
  {
   "cell_type": "code",
   "execution_count": 27,
   "metadata": {
    "Collapsed": "false"
   },
   "outputs": [],
   "source": [
    "def aoc_3_2(rights=(1, 3, 5, 7, 1), downs=(1, 1, 1, 1, 2), inp=inp, debug=False):\n",
    "    assert len(rights) == len(downs), \"not the same number of downs & rights!\"\n",
    "    product = 1\n",
    "    for r, d in zip(rights, downs):\n",
    "        trees = aoc_3_2_helper(right=r, down=d, inp=inp)\n",
    "        if debug:\n",
    "            print(f\"Right {r}, down {d}: {trees:3}.\")\n",
    "        product *= trees\n",
    "    return product"
   ]
  },
  {
   "cell_type": "code",
   "execution_count": 28,
   "metadata": {
    "Collapsed": "false"
   },
   "outputs": [
    {
     "name": "stdout",
     "output_type": "stream",
     "text": [
      "Right 1, down 1:   2.\n",
      "Right 3, down 1:   7.\n",
      "Right 5, down 1:   3.\n",
      "Right 7, down 1:   4.\n",
      "Right 1, down 2:   2.\n"
     ]
    },
    {
     "data": {
      "text/plain": [
       "336"
      ]
     },
     "execution_count": 28,
     "metadata": {},
     "output_type": "execute_result"
    }
   ],
   "source": [
    "aoc_3_2(inp=test_inp, debug=True)"
   ]
  },
  {
   "cell_type": "code",
   "execution_count": 29,
   "metadata": {
    "Collapsed": "false"
   },
   "outputs": [
    {
     "name": "stdout",
     "output_type": "stream",
     "text": [
      "Right 1, down 1:  66.\n",
      "Right 3, down 1: 200.\n",
      "Right 5, down 1:  76.\n",
      "Right 7, down 1:  81.\n",
      "Right 1, down 2:  46.\n"
     ]
    },
    {
     "data": {
      "text/plain": [
       "3737923200"
      ]
     },
     "execution_count": 29,
     "metadata": {},
     "output_type": "execute_result"
    }
   ],
   "source": [
    "aoc_3_2(inp=inp, debug=True)"
   ]
  },
  {
   "cell_type": "markdown",
   "metadata": {
    "Collapsed": "false"
   },
   "source": [
    "# 4"
   ]
  },
  {
   "cell_type": "code",
   "execution_count": 30,
   "metadata": {
    "Collapsed": "false"
   },
   "outputs": [],
   "source": [
    "day = 4\n",
    "#put_away_input(inp, day)\n",
    "inp = read_input(day)"
   ]
  },
  {
   "cell_type": "markdown",
   "metadata": {
    "Collapsed": "false"
   },
   "source": [
    "## 4.1"
   ]
  },
  {
   "cell_type": "code",
   "execution_count": 31,
   "metadata": {
    "Collapsed": "false"
   },
   "outputs": [],
   "source": [
    "test_inp = \"\"\"ecl:gry pid:860033327 eyr:2020 hcl:#fffffd\n",
    "byr:1937 iyr:2017 cid:147 hgt:183cm\n",
    "\n",
    "iyr:2013 ecl:amb cid:350 eyr:2023 pid:028048884\n",
    "hcl:#cfa07d byr:1929\n",
    "\n",
    "hcl:#ae17e1 iyr:2013\n",
    "eyr:2024\n",
    "ecl:brn pid:760753108 byr:1931\n",
    "hgt:179cm\n",
    "\n",
    "hcl:#cfa07d eyr:2025 pid:166559648\n",
    "iyr:2011 ecl:brn hgt:59in\"\"\""
   ]
  },
  {
   "cell_type": "code",
   "execution_count": 32,
   "metadata": {
    "Collapsed": "false"
   },
   "outputs": [],
   "source": [
    "KEYS = set((\"byr\", \"iyr\", \"eyr\", \"hgt\", \"hcl\", \"ecl\", \"pid\", \"cid\"))"
   ]
  },
  {
   "cell_type": "code",
   "execution_count": 33,
   "metadata": {
    "Collapsed": "false"
   },
   "outputs": [],
   "source": [
    "OPT_KEYS = set((\"cid\",))"
   ]
  },
  {
   "cell_type": "code",
   "execution_count": 34,
   "metadata": {
    "Collapsed": "false"
   },
   "outputs": [],
   "source": [
    "REQ_KEYS = KEYS.difference(OPT_KEYS)"
   ]
  },
  {
   "cell_type": "code",
   "execution_count": 35,
   "metadata": {
    "Collapsed": "false"
   },
   "outputs": [
    {
     "data": {
      "text/plain": [
       "({'byr', 'cid', 'ecl', 'eyr', 'hcl', 'hgt', 'iyr', 'pid'},\n",
       " {'cid'},\n",
       " {'byr', 'ecl', 'eyr', 'hcl', 'hgt', 'iyr', 'pid'})"
      ]
     },
     "execution_count": 35,
     "metadata": {},
     "output_type": "execute_result"
    }
   ],
   "source": [
    "KEYS, OPT_KEYS, REQ_KEYS"
   ]
  },
  {
   "cell_type": "code",
   "execution_count": 36,
   "metadata": {
    "Collapsed": "false"
   },
   "outputs": [],
   "source": [
    "def split_inp(inp=inp):\n",
    "    yield from inp.split(\"\\n\\n\")"
   ]
  },
  {
   "cell_type": "code",
   "execution_count": 37,
   "metadata": {
    "Collapsed": "false"
   },
   "outputs": [],
   "source": [
    "def check_passport(pp):\n",
    "    return all([f\"{k}:\" in pp for k in REQ_KEYS])"
   ]
  },
  {
   "cell_type": "code",
   "execution_count": 38,
   "metadata": {
    "Collapsed": "false"
   },
   "outputs": [],
   "source": [
    "def aoc_4_1(inp=inp):\n",
    "    return sum(check_passport(pp) for pp in split_inp(inp))"
   ]
  },
  {
   "cell_type": "code",
   "execution_count": 39,
   "metadata": {
    "Collapsed": "false"
   },
   "outputs": [
    {
     "data": {
      "text/plain": [
       "182"
      ]
     },
     "execution_count": 39,
     "metadata": {},
     "output_type": "execute_result"
    }
   ],
   "source": [
    "aoc_4_1()"
   ]
  },
  {
   "cell_type": "markdown",
   "metadata": {
    "Collapsed": "false"
   },
   "source": [
    "## 4.2"
   ]
  },
  {
   "cell_type": "code",
   "execution_count": 40,
   "metadata": {
    "Collapsed": "false"
   },
   "outputs": [],
   "source": [
    "from functools import partial"
   ]
  },
  {
   "cell_type": "code",
   "execution_count": 41,
   "metadata": {
    "Collapsed": "false"
   },
   "outputs": [],
   "source": [
    "import re"
   ]
  },
  {
   "cell_type": "code",
   "execution_count": 42,
   "metadata": {
    "Collapsed": "false"
   },
   "outputs": [],
   "source": [
    "REQ_KEYS = (\"byr\", \"ecl\", \"eyr\", \"hcl\", \"hgt\", \"iyr\", \"pid\")"
   ]
  },
  {
   "cell_type": "code",
   "execution_count": 43,
   "metadata": {
    "Collapsed": "false"
   },
   "outputs": [],
   "source": [
    "ECLS = (\"amb\", \"blu\", \"brn\", \"gry\", \"grn\", \"hzl\", \"oth\")"
   ]
  },
  {
   "cell_type": "code",
   "execution_count": 44,
   "metadata": {
    "Collapsed": "false"
   },
   "outputs": [],
   "source": [
    "def year_check(y, miny, maxy, digits=4):\n",
    "    try:\n",
    "        return len(y) == digits and miny <= int(y) <= maxy\n",
    "    except:\n",
    "        return False"
   ]
  },
  {
   "cell_type": "code",
   "execution_count": 45,
   "metadata": {
    "Collapsed": "false"
   },
   "outputs": [],
   "source": [
    "def check_height(hgt):\n",
    "    if len(hgt) > 5 or len(hgt) < 4:\n",
    "        return False\n",
    "    val, unit = hgt[:-2], hgt[-2:]\n",
    "    if unit not in (\"cm\", \"in\"):\n",
    "        return False\n",
    "    try:\n",
    "        val = int(val)\n",
    "    except:\n",
    "        return False\n",
    "    if unit == \"cm\":\n",
    "        return 150 <= val <= 193\n",
    "    else:\n",
    "        return 59 <= val <= 76"
   ]
  },
  {
   "cell_type": "code",
   "execution_count": 46,
   "metadata": {
    "Collapsed": "false"
   },
   "outputs": [],
   "source": [
    "RULES = {\n",
    "    \"byr\": partial(year_check, miny=1920, maxy=2002),\n",
    "    \"iyr\": partial(year_check, miny=2010, maxy=2020),\n",
    "    \"eyr\": partial(year_check, miny=2020, maxy=2030),\n",
    "    \"hgt\": check_height,\n",
    "    \"hcl\": lambda hcl: re.fullmatch(r\"#[\\da-f]{6}\", hcl) is not None,\n",
    "    \"ecl\": lambda ecl: ecl in ECLS,\n",
    "    \"pid\": lambda pid: re.fullmatch(r\"\\d{9}\", pid) is not None,\n",
    "}"
   ]
  },
  {
   "cell_type": "code",
   "execution_count": 47,
   "metadata": {
    "Collapsed": "false"
   },
   "outputs": [],
   "source": [
    "def parse_passport(pp):\n",
    "    pp += \" \"  # append whitespace so regex is easy\n",
    "    pp_dict = {key: re.findall(fr\"{key}:(.*?)\\s\", pp)[0]\n",
    "               for key in REQ_KEYS}\n",
    "    return pp_dict"
   ]
  },
  {
   "cell_type": "code",
   "execution_count": 48,
   "metadata": {
    "Collapsed": "false"
   },
   "outputs": [],
   "source": [
    "def check_passport_2(pp):\n",
    "    if check_passport(pp) is False:\n",
    "        return False\n",
    "    fields = parse_passport(pp)\n",
    "    assert set(RULES.keys()) == set(fields.keys()), \"fields and rules don't match!\"\n",
    "    return all(RULES[field](value) for field, value in fields.items())"
   ]
  },
  {
   "cell_type": "code",
   "execution_count": 49,
   "metadata": {
    "Collapsed": "false"
   },
   "outputs": [],
   "source": [
    "def aoc_4_2(inp=inp):\n",
    "    return sum(check_passport_2(pp) for pp in split_inp(inp))"
   ]
  },
  {
   "cell_type": "code",
   "execution_count": 50,
   "metadata": {
    "Collapsed": "false"
   },
   "outputs": [
    {
     "data": {
      "text/plain": [
       "109"
      ]
     },
     "execution_count": 50,
     "metadata": {},
     "output_type": "execute_result"
    }
   ],
   "source": [
    "aoc_4_2()"
   ]
  },
  {
   "cell_type": "markdown",
   "metadata": {
    "Collapsed": "false",
    "jupyter": {
     "outputs_hidden": true
    }
   },
   "source": [
    "# 5"
   ]
  },
  {
   "cell_type": "code",
   "execution_count": 51,
   "metadata": {
    "Collapsed": "false"
   },
   "outputs": [],
   "source": [
    "day = 5\n",
    "#put_away_input(inp, day)\n",
    "inp = read_input(day)"
   ]
  },
  {
   "cell_type": "markdown",
   "metadata": {
    "Collapsed": "false"
   },
   "source": [
    "# 5.1"
   ]
  },
  {
   "cell_type": "markdown",
   "metadata": {
    "Collapsed": "false"
   },
   "source": [
    "```\n",
    "BFFFBBFRRR: row 70, column 7, seat ID 567.\n",
    "FFFBBBFRRR: row 14, column 7, seat ID 119.\n",
    "BBFFBBFRLL: row 102, column 4, seat ID 820.\n",
    "```"
   ]
  },
  {
   "cell_type": "code",
   "execution_count": 52,
   "metadata": {
    "Collapsed": "false"
   },
   "outputs": [],
   "source": [
    "test_inp = \"\"\"BFFFBBFRRR\n",
    "FFFBBBFRRR\n",
    "BBFFBBFRLL\"\"\""
   ]
  },
  {
   "cell_type": "code",
   "execution_count": 53,
   "metadata": {
    "Collapsed": "false"
   },
   "outputs": [],
   "source": [
    "def split_line(line: str):\n",
    "    row_b, col_b = line[:-3], line[-3:]\n",
    "    return row_b, col_b"
   ]
  },
  {
   "cell_type": "code",
   "execution_count": 54,
   "metadata": {
    "Collapsed": "false"
   },
   "outputs": [],
   "source": [
    "def map_to_bin(s, map_0=\"L\", map_1=\"R\"):\n",
    "    remapped = s.replace(map_0, \"0\").replace(map_1, \"1\")\n",
    "    return int(remapped, 2)"
   ]
  },
  {
   "cell_type": "code",
   "execution_count": 55,
   "metadata": {
    "Collapsed": "false"
   },
   "outputs": [],
   "source": [
    "def calc_seat_num(line):\n",
    "    row_b, col_b = split_line(line)\n",
    "    row, col = map_to_bin(row_b, \"F\", \"B\"), map_to_bin(col_b)\n",
    "    return row * 8 + col"
   ]
  },
  {
   "cell_type": "code",
   "execution_count": 56,
   "metadata": {
    "Collapsed": "false"
   },
   "outputs": [],
   "source": [
    "def aoc_5_1(inp=inp):\n",
    "    return max(calc_seat_num(line) for line in inp.splitlines())"
   ]
  },
  {
   "cell_type": "code",
   "execution_count": 57,
   "metadata": {
    "Collapsed": "false"
   },
   "outputs": [
    {
     "data": {
      "text/plain": [
       "928"
      ]
     },
     "execution_count": 57,
     "metadata": {},
     "output_type": "execute_result"
    }
   ],
   "source": [
    "aoc_5_1()"
   ]
  },
  {
   "cell_type": "markdown",
   "metadata": {
    "Collapsed": "false"
   },
   "source": [
    "## 5.2"
   ]
  },
  {
   "cell_type": "code",
   "execution_count": 58,
   "metadata": {
    "Collapsed": "false"
   },
   "outputs": [],
   "source": [
    "def all_seats(inp):\n",
    "    return (calc_seat_num(line) for line in inp.splitlines())"
   ]
  },
  {
   "cell_type": "code",
   "execution_count": 59,
   "metadata": {
    "Collapsed": "false"
   },
   "outputs": [],
   "source": [
    "def aoc_5_2(inp=inp):\n",
    "    seat_list = list(all_seats(inp))\n",
    "    min_seat, max_seat = min(seat_list), max(seat_list)\n",
    "    my_seat = [seat for seat in range(min_seat, max_seat + 1) if seat not in seat_list][0]\n",
    "    return my_seat"
   ]
  },
  {
   "cell_type": "code",
   "execution_count": 60,
   "metadata": {
    "Collapsed": "false"
   },
   "outputs": [
    {
     "data": {
      "text/plain": [
       "610"
      ]
     },
     "execution_count": 60,
     "metadata": {},
     "output_type": "execute_result"
    }
   ],
   "source": [
    "aoc_5_2()"
   ]
  },
  {
   "cell_type": "markdown",
   "metadata": {
    "Collapsed": "false"
   },
   "source": [
    "# 6"
   ]
  },
  {
   "cell_type": "code",
   "execution_count": 61,
   "metadata": {
    "Collapsed": "false"
   },
   "outputs": [],
   "source": [
    "day = 6\n",
    "#put_away_input(inp, day)\n",
    "inp = read_input(day)"
   ]
  },
  {
   "cell_type": "markdown",
   "metadata": {
    "Collapsed": "false"
   },
   "source": [
    "## 6.1"
   ]
  },
  {
   "cell_type": "code",
   "execution_count": 62,
   "metadata": {
    "Collapsed": "false"
   },
   "outputs": [],
   "source": [
    "from string import ascii_lowercase as letters"
   ]
  },
  {
   "cell_type": "code",
   "execution_count": 63,
   "metadata": {
    "Collapsed": "false"
   },
   "outputs": [
    {
     "data": {
      "text/plain": [
       "'abcdefghijklmnopqrstuvwxyz'"
      ]
     },
     "execution_count": 63,
     "metadata": {},
     "output_type": "execute_result"
    }
   ],
   "source": [
    "letters"
   ]
  },
  {
   "cell_type": "code",
   "execution_count": 64,
   "metadata": {
    "Collapsed": "false"
   },
   "outputs": [],
   "source": [
    "def split_inp(inp=inp):\n",
    "    yield from inp.split(\"\\n\\n\")"
   ]
  },
  {
   "cell_type": "code",
   "execution_count": 65,
   "metadata": {
    "Collapsed": "false"
   },
   "outputs": [],
   "source": [
    "def aoc_6_1(inp=inp):\n",
    "    return sum(ltr in grp \n",
    "               for ltr in letters\n",
    "               for grp in split_inp(inp))"
   ]
  },
  {
   "cell_type": "code",
   "execution_count": 66,
   "metadata": {
    "Collapsed": "false"
   },
   "outputs": [
    {
     "data": {
      "text/plain": [
       "6335"
      ]
     },
     "execution_count": 66,
     "metadata": {},
     "output_type": "execute_result"
    }
   ],
   "source": [
    "aoc_6_1()"
   ]
  },
  {
   "cell_type": "markdown",
   "metadata": {
    "Collapsed": "false"
   },
   "source": [
    "## 6.2"
   ]
  },
  {
   "cell_type": "code",
   "execution_count": 67,
   "metadata": {
    "Collapsed": "false"
   },
   "outputs": [],
   "source": [
    "def split_group(grp):\n",
    "    return grp.splitlines()"
   ]
  },
  {
   "cell_type": "code",
   "execution_count": 68,
   "metadata": {
    "Collapsed": "false"
   },
   "outputs": [],
   "source": [
    "def calc_group(grp):\n",
    "    return sum(all([letter in person for person in split_group(grp)]) \n",
    "               for letter in letters)"
   ]
  },
  {
   "cell_type": "code",
   "execution_count": 69,
   "metadata": {
    "Collapsed": "false"
   },
   "outputs": [],
   "source": [
    "def aoc_6_2(inp=inp):\n",
    "    return sum(calc_group(grp) for grp in split_inp(inp))"
   ]
  },
  {
   "cell_type": "code",
   "execution_count": 70,
   "metadata": {
    "Collapsed": "false"
   },
   "outputs": [
    {
     "data": {
      "text/plain": [
       "3392"
      ]
     },
     "execution_count": 70,
     "metadata": {},
     "output_type": "execute_result"
    }
   ],
   "source": [
    "aoc_6_2()"
   ]
  },
  {
   "cell_type": "markdown",
   "metadata": {
    "Collapsed": "false"
   },
   "source": [
    "# 7"
   ]
  },
  {
   "cell_type": "code",
   "execution_count": 71,
   "metadata": {
    "Collapsed": "false"
   },
   "outputs": [],
   "source": [
    "day = 7\n",
    "# put_away_input(inp, day)\n",
    "inp = read_input(day)"
   ]
  },
  {
   "cell_type": "markdown",
   "metadata": {
    "Collapsed": "false"
   },
   "source": [
    "## 7.1"
   ]
  },
  {
   "cell_type": "code",
   "execution_count": 72,
   "metadata": {
    "Collapsed": "false"
   },
   "outputs": [],
   "source": [
    "test_inp_1 = \"\"\"light red bags contain 1 bright white bag, 2 muted yellow bags.\n",
    "dark orange bags contain 3 bright white bags, 4 muted yellow bags.\n",
    "bright white bags contain 1 shiny gold bag.\n",
    "muted yellow bags contain 2 shiny gold bags, 9 faded blue bags.\n",
    "shiny gold bags contain 1 dark olive bag, 2 vibrant plum bags.\n",
    "dark olive bags contain 3 faded blue bags, 4 dotted black bags.\n",
    "vibrant plum bags contain 5 faded blue bags, 6 dotted black bags.\n",
    "faded blue bags contain no other bags.\n",
    "dotted black bags contain no other bags.\"\"\""
   ]
  },
  {
   "cell_type": "code",
   "execution_count": 73,
   "metadata": {
    "Collapsed": "false"
   },
   "outputs": [],
   "source": [
    "import re"
   ]
  },
  {
   "cell_type": "code",
   "execution_count": 74,
   "metadata": {
    "Collapsed": "false"
   },
   "outputs": [],
   "source": [
    "COL = \"shiny gold\""
   ]
  },
  {
   "cell_type": "code",
   "execution_count": 75,
   "metadata": {
    "Collapsed": "false"
   },
   "outputs": [],
   "source": [
    "def parse_inside_bags(inside_bags):\n",
    "    inside_bag_tuples = re.findall(r\"(\\d+) (.+?) bag\", inside_bags)\n",
    "    return {color: int(n) for n, color in inside_bag_tuples}"
   ]
  },
  {
   "cell_type": "code",
   "execution_count": 76,
   "metadata": {
    "Collapsed": "false"
   },
   "outputs": [],
   "source": [
    "def parse_line(line: str):\n",
    "    \"\"\"in: line (str),\n",
    "    out: outside bag (str), potential inside bags (dict {str: int})\"\"\"\n",
    "    outside_bag, inside_bags = line.split(\" bags contain \")\n",
    "    inside_dict = parse_inside_bags(inside_bags)\n",
    "    return outside_bag, inside_dict"
   ]
  },
  {
   "cell_type": "code",
   "execution_count": 77,
   "metadata": {
    "Collapsed": "false"
   },
   "outputs": [],
   "source": [
    "def parse_all_lines(inp, verbose=False):\n",
    "    all_lines = [parse_line(line) for line in inp.splitlines()]\n",
    "    outside, inside = zip(*all_lines)\n",
    "    colors = set(color for color in outside)\n",
    "    for inside_dict in inside:\n",
    "        colors |= set([color for color in inside_dict])\n",
    "    if verbose: print(f\"Found {len(colors)} unique colors.\")\n",
    "    return colors, outside, inside"
   ]
  },
  {
   "cell_type": "code",
   "execution_count": 78,
   "metadata": {
    "Collapsed": "false"
   },
   "outputs": [],
   "source": [
    "def create_parent_dict(colors, outside, inside):\n",
    "    parent_dict = {color: set() for color in colors}\n",
    "    for out_col, in_cols in zip(outside, inside):\n",
    "        for in_col in in_cols:\n",
    "            parent_dict[in_col].add(out_col)\n",
    "    return parent_dict"
   ]
  },
  {
   "cell_type": "code",
   "execution_count": 79,
   "metadata": {
    "Collapsed": "false"
   },
   "outputs": [],
   "source": [
    "def aoc_7_1(inp=inp):\n",
    "    global COL\n",
    "    parent_dict = create_parent_dict(*parse_all_lines(inp))\n",
    "    can_be_inside = set(parent_dict[COL])\n",
    "    print(f\"{COL} can be directly in {can_be_inside}...\")\n",
    "    checked = set()\n",
    "    while can_be_inside:\n",
    "        to_check = can_be_inside.pop()\n",
    "        if to_check in checked:\n",
    "            continue\n",
    "        can_be_inside |= set(parent_dict[to_check])\n",
    "        checked.add(to_check)\n",
    "    print(f\"... and indirectly in {len(checked)} bag styles.\")\n",
    "    return len(checked)"
   ]
  },
  {
   "cell_type": "code",
   "execution_count": 80,
   "metadata": {
    "Collapsed": "false"
   },
   "outputs": [
    {
     "name": "stdout",
     "output_type": "stream",
     "text": [
      "shiny gold can be directly in {'bright white', 'muted yellow'}...\n",
      "... and indirectly in 4 bag styles.\n"
     ]
    },
    {
     "data": {
      "text/plain": [
       "4"
      ]
     },
     "execution_count": 80,
     "metadata": {},
     "output_type": "execute_result"
    }
   ],
   "source": [
    "aoc_7_1(test_inp_1)"
   ]
  },
  {
   "cell_type": "code",
   "execution_count": 81,
   "metadata": {
    "Collapsed": "false"
   },
   "outputs": [
    {
     "name": "stdout",
     "output_type": "stream",
     "text": [
      "shiny gold can be directly in {'dim red', 'clear plum', 'clear red', 'bright chartreuse', 'clear indigo', 'muted gray', 'dark gold', 'bright red', 'striped olive', 'plaid plum'}...\n",
      "... and indirectly in 372 bag styles.\n"
     ]
    },
    {
     "data": {
      "text/plain": [
       "372"
      ]
     },
     "execution_count": 81,
     "metadata": {},
     "output_type": "execute_result"
    }
   ],
   "source": [
    "aoc_7_1()"
   ]
  },
  {
   "cell_type": "markdown",
   "metadata": {
    "Collapsed": "false"
   },
   "source": [
    "## 7.2"
   ]
  },
  {
   "cell_type": "code",
   "execution_count": 82,
   "metadata": {
    "Collapsed": "false"
   },
   "outputs": [],
   "source": [
    "test_inp_2 = \"\"\"shiny gold bags contain 2 dark red bags.\n",
    "dark red bags contain 2 dark orange bags.\n",
    "dark orange bags contain 2 dark yellow bags.\n",
    "dark yellow bags contain 2 dark green bags.\n",
    "dark green bags contain 2 dark blue bags.\n",
    "dark blue bags contain 2 dark violet bags.\n",
    "dark violet bags contain no other bags.\"\"\""
   ]
  },
  {
   "cell_type": "code",
   "execution_count": 83,
   "metadata": {
    "Collapsed": "false"
   },
   "outputs": [],
   "source": [
    "def aoc_7_2(inp=inp, verbose=False):\n",
    "    global COL\n",
    "    colors, outside, inside = parse_all_lines(inp)\n",
    "    out_in = dict(zip(outside, inside))\n",
    "    \n",
    "    def get_number(color, num, out_in=out_in, verbose=False):\n",
    "        contents = out_in.get(color)\n",
    "        if verbose: print(f\"We have {num} {color} bags.\")\n",
    "        if contents:\n",
    "            if verbose: print(f\"{color:20} is in out_in, it's contents are:\\n{contents}.\")\n",
    "            bags_inside = num + sum([num * get_number(inside_col, inside_num) \n",
    "                                     for inside_col, inside_num in contents.items()])\n",
    "            if verbose: print(f\"# bags inside {color}: {bags_inside}.\")\n",
    "            return bags_inside\n",
    "        if verbose: print(f\"Empty.\")\n",
    "        return num\n",
    "    \n",
    "    return get_number(COL, 1) - 1  # subtract shiny gold bag itself"
   ]
  },
  {
   "cell_type": "code",
   "execution_count": 84,
   "metadata": {
    "Collapsed": "false"
   },
   "outputs": [],
   "source": [
    "assert aoc_7_2(test_inp_1) == 32"
   ]
  },
  {
   "cell_type": "code",
   "execution_count": 85,
   "metadata": {
    "Collapsed": "false"
   },
   "outputs": [],
   "source": [
    "assert aoc_7_2(test_inp_2) == 126"
   ]
  },
  {
   "cell_type": "code",
   "execution_count": 86,
   "metadata": {
    "Collapsed": "false"
   },
   "outputs": [
    {
     "data": {
      "text/plain": [
       "8015"
      ]
     },
     "execution_count": 86,
     "metadata": {},
     "output_type": "execute_result"
    }
   ],
   "source": [
    "aoc_7_2()"
   ]
  },
  {
   "cell_type": "markdown",
   "metadata": {
    "Collapsed": "false"
   },
   "source": [
    "# 8"
   ]
  },
  {
   "cell_type": "code",
   "execution_count": 87,
   "metadata": {
    "Collapsed": "false"
   },
   "outputs": [],
   "source": [
    "day = 8\n",
    "# put_away_input(inp, day)\n",
    "inp = read_input(day)"
   ]
  },
  {
   "cell_type": "markdown",
   "metadata": {
    "Collapsed": "false"
   },
   "source": [
    "## 8.1"
   ]
  },
  {
   "cell_type": "code",
   "execution_count": 88,
   "metadata": {
    "Collapsed": "false"
   },
   "outputs": [],
   "source": [
    "test_inp = \"\"\"nop +0\n",
    "acc +1\n",
    "jmp +4\n",
    "acc +3\n",
    "jmp -3\n",
    "acc -99\n",
    "acc +1\n",
    "jmp -4\n",
    "acc +6\"\"\""
   ]
  },
  {
   "cell_type": "code",
   "execution_count": 89,
   "metadata": {
    "Collapsed": "false"
   },
   "outputs": [],
   "source": [
    "def split_instruction(inst):\n",
    "    op = inst[:3]\n",
    "    val = int(inst.split(\" \")[-1])\n",
    "    return op, val"
   ]
  },
  {
   "cell_type": "code",
   "execution_count": 90,
   "metadata": {
    "Collapsed": "false"
   },
   "outputs": [],
   "source": [
    "def read_code(inp):\n",
    "    return tuple(split_instruction(inst)\n",
    "                 for inst in inp.splitlines())"
   ]
  },
  {
   "cell_type": "code",
   "execution_count": 91,
   "metadata": {
    "Collapsed": "false"
   },
   "outputs": [],
   "source": [
    "def aoc_8_1(inp=inp, verbose=False):\n",
    "\n",
    "    code = read_code(inp)\n",
    "    visited = set()\n",
    "    acc, idx = 0, 0\n",
    "\n",
    "    while True:\n",
    "        if idx in visited:\n",
    "            return acc\n",
    "        visited.add(idx)\n",
    "        op, val = code[idx]\n",
    "        acc += val if op == \"acc\" else 0\n",
    "        idx += val if op == \"jmp\" else 1\n",
    "        if verbose:\n",
    "            print(f\"[{op:} {val:2}] - accumulator now at {acc}, jumping to idx {idx}.\")"
   ]
  },
  {
   "cell_type": "code",
   "execution_count": 92,
   "metadata": {
    "Collapsed": "false"
   },
   "outputs": [
    {
     "name": "stdout",
     "output_type": "stream",
     "text": [
      "[nop  0] - accumulator now at 0, jumping to idx 1.\n",
      "[acc  1] - accumulator now at 1, jumping to idx 2.\n",
      "[jmp  4] - accumulator now at 1, jumping to idx 6.\n",
      "[acc  1] - accumulator now at 2, jumping to idx 7.\n",
      "[jmp -4] - accumulator now at 2, jumping to idx 3.\n",
      "[acc  3] - accumulator now at 5, jumping to idx 4.\n",
      "[jmp -3] - accumulator now at 5, jumping to idx 1.\n"
     ]
    },
    {
     "data": {
      "text/plain": [
       "5"
      ]
     },
     "execution_count": 92,
     "metadata": {},
     "output_type": "execute_result"
    }
   ],
   "source": [
    "aoc_8_1(test_inp, verbose=True)"
   ]
  },
  {
   "cell_type": "code",
   "execution_count": 93,
   "metadata": {
    "Collapsed": "false"
   },
   "outputs": [],
   "source": [
    "assert aoc_8_1(test_inp) == 5"
   ]
  },
  {
   "cell_type": "code",
   "execution_count": 94,
   "metadata": {
    "Collapsed": "false"
   },
   "outputs": [
    {
     "data": {
      "text/plain": [
       "1727"
      ]
     },
     "execution_count": 94,
     "metadata": {},
     "output_type": "execute_result"
    }
   ],
   "source": [
    "aoc_8_1()"
   ]
  },
  {
   "cell_type": "markdown",
   "metadata": {
    "Collapsed": "false"
   },
   "source": [
    "## 8.2"
   ]
  },
  {
   "cell_type": "code",
   "execution_count": 95,
   "metadata": {
    "Collapsed": "false"
   },
   "outputs": [],
   "source": [
    "def split_instruction(inst, immutable=True):\n",
    "    op = inst[:3]\n",
    "    val = int(inst.split(\" \")[-1])\n",
    "    iter_func = tuple if immutable else list\n",
    "    return iter_func((op, val))"
   ]
  },
  {
   "cell_type": "code",
   "execution_count": 96,
   "metadata": {
    "Collapsed": "false"
   },
   "outputs": [],
   "source": [
    "def read_code(inp, immutable=True):\n",
    "    iter_func = tuple if immutable else list\n",
    "    return iter_func(split_instruction(inst, immutable)\n",
    "                     for inst in inp.splitlines())"
   ]
  },
  {
   "cell_type": "code",
   "execution_count": 97,
   "metadata": {
    "Collapsed": "false"
   },
   "outputs": [],
   "source": [
    "def is_finite(code):\n",
    "\n",
    "    visited = set()\n",
    "    acc, idx = 0, 0\n",
    "\n",
    "    while True:\n",
    "        if idx in visited:\n",
    "            return False, acc\n",
    "        if idx >= len(code):\n",
    "            return True, acc\n",
    "        visited.add(idx)\n",
    "        op, val = code[idx]\n",
    "        acc += val if op == \"acc\" else 0\n",
    "        idx += val if op == \"jmp\" else 1"
   ]
  },
  {
   "cell_type": "code",
   "execution_count": 98,
   "metadata": {
    "Collapsed": "false"
   },
   "outputs": [],
   "source": [
    "from copy import deepcopy"
   ]
  },
  {
   "cell_type": "code",
   "execution_count": 99,
   "metadata": {
    "Collapsed": "false"
   },
   "outputs": [],
   "source": [
    "def aoc_8_2(inp=inp):\n",
    "\n",
    "    og_code = read_code(inp, immutable=False)\n",
    "    for idx, (op, val) in enumerate(og_code):\n",
    "        if op == \"acc\":\n",
    "            continue\n",
    "        new_code = deepcopy(og_code)\n",
    "        new_code[idx][0] = \"jmp\" if op == \"nop\" else \"nop\"\n",
    "        finite, acc = is_finite(new_code)\n",
    "        if finite:\n",
    "            return acc"
   ]
  },
  {
   "cell_type": "code",
   "execution_count": 100,
   "metadata": {
    "Collapsed": "false"
   },
   "outputs": [
    {
     "data": {
      "text/plain": [
       "8"
      ]
     },
     "execution_count": 100,
     "metadata": {},
     "output_type": "execute_result"
    }
   ],
   "source": [
    "aoc_8_2(test_inp)"
   ]
  },
  {
   "cell_type": "code",
   "execution_count": 101,
   "metadata": {
    "Collapsed": "false"
   },
   "outputs": [
    {
     "data": {
      "text/plain": [
       "552"
      ]
     },
     "execution_count": 101,
     "metadata": {},
     "output_type": "execute_result"
    }
   ],
   "source": [
    "aoc_8_2()"
   ]
  },
  {
   "cell_type": "markdown",
   "metadata": {
    "Collapsed": "false"
   },
   "source": [
    "# 9"
   ]
  },
  {
   "cell_type": "code",
   "execution_count": 102,
   "metadata": {
    "Collapsed": "false"
   },
   "outputs": [],
   "source": [
    "day = 9\n",
    "# put_away_input(inp, day)\n",
    "inp = read_input(day)"
   ]
  },
  {
   "cell_type": "markdown",
   "metadata": {
    "Collapsed": "false"
   },
   "source": [
    "## 9.1"
   ]
  },
  {
   "cell_type": "code",
   "execution_count": 103,
   "metadata": {
    "Collapsed": "false"
   },
   "outputs": [],
   "source": [
    "test_inp = \"\"\"35\n",
    "20\n",
    "15\n",
    "25\n",
    "47\n",
    "40\n",
    "62\n",
    "55\n",
    "65\n",
    "95\n",
    "102\n",
    "117\n",
    "150\n",
    "182\n",
    "127\n",
    "219\n",
    "299\n",
    "277\n",
    "309\n",
    "576\"\"\""
   ]
  },
  {
   "cell_type": "code",
   "execution_count": 104,
   "metadata": {
    "Collapsed": "false"
   },
   "outputs": [],
   "source": [
    "import itertools as it"
   ]
  },
  {
   "cell_type": "code",
   "execution_count": 105,
   "metadata": {
    "Collapsed": "false"
   },
   "outputs": [],
   "source": [
    "def is_valid(n, previous_nums):\n",
    "    for nums in it.permutations(previous_nums, 2):\n",
    "        if sum(nums) == n:\n",
    "            return True\n",
    "    return False"
   ]
  },
  {
   "cell_type": "code",
   "execution_count": 106,
   "metadata": {
    "Collapsed": "false"
   },
   "outputs": [],
   "source": [
    "def aoc_9_1(inp=inp, preamble_len=25, verbose=False):\n",
    "    nums = tuple(int(n) for n in inp.splitlines())\n",
    "    if verbose:\n",
    "        print(nums)\n",
    "    for idx, n in enumerate(nums[preamble_len:]):\n",
    "        previous_nums = nums[idx : idx + preamble_len]\n",
    "        if verbose:\n",
    "            print(f\"n={n}. Checking from idx {idx} to idx {idx + preamble_len}: {previous_nums}.\")\n",
    "        if not is_valid(n, previous_nums):\n",
    "            return n"
   ]
  },
  {
   "cell_type": "code",
   "execution_count": 107,
   "metadata": {
    "Collapsed": "false"
   },
   "outputs": [
    {
     "name": "stdout",
     "output_type": "stream",
     "text": [
      "(35, 20, 15, 25, 47, 40, 62, 55, 65, 95, 102, 117, 150, 182, 127, 219, 299, 277, 309, 576)\n",
      "n=40. Checking from idx 0 to idx 5: (35, 20, 15, 25, 47).\n",
      "n=62. Checking from idx 1 to idx 6: (20, 15, 25, 47, 40).\n",
      "n=55. Checking from idx 2 to idx 7: (15, 25, 47, 40, 62).\n",
      "n=65. Checking from idx 3 to idx 8: (25, 47, 40, 62, 55).\n",
      "n=95. Checking from idx 4 to idx 9: (47, 40, 62, 55, 65).\n",
      "n=102. Checking from idx 5 to idx 10: (40, 62, 55, 65, 95).\n",
      "n=117. Checking from idx 6 to idx 11: (62, 55, 65, 95, 102).\n",
      "n=150. Checking from idx 7 to idx 12: (55, 65, 95, 102, 117).\n",
      "n=182. Checking from idx 8 to idx 13: (65, 95, 102, 117, 150).\n",
      "n=127. Checking from idx 9 to idx 14: (95, 102, 117, 150, 182).\n"
     ]
    },
    {
     "data": {
      "text/plain": [
       "127"
      ]
     },
     "execution_count": 107,
     "metadata": {},
     "output_type": "execute_result"
    }
   ],
   "source": [
    "aoc_9_1(test_inp, 5, verbose=True)"
   ]
  },
  {
   "cell_type": "code",
   "execution_count": 108,
   "metadata": {
    "Collapsed": "false"
   },
   "outputs": [
    {
     "data": {
      "text/plain": [
       "21806024"
      ]
     },
     "execution_count": 108,
     "metadata": {},
     "output_type": "execute_result"
    }
   ],
   "source": [
    "aoc_9_1()"
   ]
  },
  {
   "cell_type": "markdown",
   "metadata": {
    "Collapsed": "false"
   },
   "source": [
    "## 9.2"
   ]
  },
  {
   "cell_type": "code",
   "execution_count": 109,
   "metadata": {
    "Collapsed": "false"
   },
   "outputs": [],
   "source": [
    "NUM = aoc_9_1()"
   ]
  },
  {
   "cell_type": "code",
   "execution_count": 110,
   "metadata": {
    "Collapsed": "false"
   },
   "outputs": [],
   "source": [
    "TEST_NUM = aoc_9_1(test_inp, 5)"
   ]
  },
  {
   "cell_type": "code",
   "execution_count": 111,
   "metadata": {
    "Collapsed": "false"
   },
   "outputs": [],
   "source": [
    "def find_contiguous_nums(nums, invalid_num, verbose=False):\n",
    "    for start_idx, _ in enumerate(nums):\n",
    "        iter_nums = iter(nums[start_idx:])\n",
    "        cont_nums = []\n",
    "        try:\n",
    "            while sum(cont_nums) < invalid_num:\n",
    "                cont_nums.append(next(iter_nums))\n",
    "                if verbose:\n",
    "                    print(cont_nums, sum(cont_nums))\n",
    "                if sum(cont_nums) == invalid_num:\n",
    "                    return cont_nums\n",
    "        except StopIteration:\n",
    "            continue\n",
    "    return None"
   ]
  },
  {
   "cell_type": "code",
   "execution_count": 112,
   "metadata": {
    "Collapsed": "false"
   },
   "outputs": [],
   "source": [
    "def aoc_9_2(inp=inp, invalid_num=NUM, verbose=False):\n",
    "    nums = tuple(int(n) for n in inp.splitlines())\n",
    "    contiguous_nums = find_contiguous_nums(nums, invalid_num, verbose)\n",
    "    return min(contiguous_nums) + max(contiguous_nums)"
   ]
  },
  {
   "cell_type": "code",
   "execution_count": 113,
   "metadata": {
    "Collapsed": "false"
   },
   "outputs": [
    {
     "name": "stdout",
     "output_type": "stream",
     "text": [
      "[35] 35\n",
      "[35, 20] 55\n",
      "[35, 20, 15] 70\n",
      "[35, 20, 15, 25] 95\n",
      "[35, 20, 15, 25, 47] 142\n",
      "[20] 20\n",
      "[20, 15] 35\n",
      "[20, 15, 25] 60\n",
      "[20, 15, 25, 47] 107\n",
      "[20, 15, 25, 47, 40] 147\n",
      "[15] 15\n",
      "[15, 25] 40\n",
      "[15, 25, 47] 87\n",
      "[15, 25, 47, 40] 127\n"
     ]
    },
    {
     "data": {
      "text/plain": [
       "62"
      ]
     },
     "execution_count": 113,
     "metadata": {},
     "output_type": "execute_result"
    }
   ],
   "source": [
    "aoc_9_2(test_inp, TEST_NUM, True)"
   ]
  },
  {
   "cell_type": "code",
   "execution_count": 114,
   "metadata": {
    "Collapsed": "false"
   },
   "outputs": [
    {
     "data": {
      "text/plain": [
       "2986195"
      ]
     },
     "execution_count": 114,
     "metadata": {},
     "output_type": "execute_result"
    }
   ],
   "source": [
    "aoc_9_2()"
   ]
  },
  {
   "cell_type": "markdown",
   "metadata": {
    "Collapsed": "false"
   },
   "source": [
    "# 10"
   ]
  },
  {
   "cell_type": "code",
   "execution_count": 173,
   "metadata": {
    "Collapsed": "false"
   },
   "outputs": [],
   "source": [
    "day = 10\n",
    "# put_away_input(inp, day)\n",
    "inp = read_input(day)"
   ]
  },
  {
   "cell_type": "markdown",
   "metadata": {
    "Collapsed": "false"
   },
   "source": [
    "## 10.1"
   ]
  },
  {
   "cell_type": "code",
   "execution_count": 115,
   "metadata": {
    "Collapsed": "false"
   },
   "outputs": [],
   "source": [
    "test_inp_1 = \"\"\"16\n",
    "10\n",
    "15\n",
    "5\n",
    "1\n",
    "11\n",
    "7\n",
    "19\n",
    "6\n",
    "12\n",
    "4\"\"\""
   ]
  },
  {
   "cell_type": "code",
   "execution_count": 116,
   "metadata": {
    "Collapsed": "false"
   },
   "outputs": [],
   "source": [
    "test_inp_2 = \"\"\"28\n",
    "33\n",
    "18\n",
    "42\n",
    "31\n",
    "14\n",
    "46\n",
    "20\n",
    "48\n",
    "47\n",
    "24\n",
    "23\n",
    "49\n",
    "45\n",
    "19\n",
    "38\n",
    "39\n",
    "11\n",
    "1\n",
    "32\n",
    "25\n",
    "35\n",
    "8\n",
    "17\n",
    "7\n",
    "9\n",
    "4\n",
    "2\n",
    "34\n",
    "10\n",
    "3\"\"\""
   ]
  },
  {
   "cell_type": "code",
   "execution_count": 186,
   "metadata": {
    "Collapsed": "false"
   },
   "outputs": [],
   "source": [
    "def get_adapters(inp):\n",
    "    return sorted([int(a) for a in inp.splitlines()])"
   ]
  },
  {
   "cell_type": "code",
   "execution_count": 187,
   "metadata": {
    "Collapsed": "false"
   },
   "outputs": [],
   "source": [
    "def extend_adapters(adp):\n",
    "    return [0] + adp + [adp[-1] + 3]"
   ]
  },
  {
   "cell_type": "code",
   "execution_count": 188,
   "metadata": {
    "Collapsed": "false"
   },
   "outputs": [],
   "source": [
    "def get_diffs(adp, diff=1):\n",
    "    ext = extend_adapters(adp)\n",
    "    return sum(1 for idx, a1 in enumerate(ext[:-1])\n",
    "               if ext[idx+1] - a1 == diff)"
   ]
  },
  {
   "cell_type": "code",
   "execution_count": 189,
   "metadata": {
    "Collapsed": "false"
   },
   "outputs": [],
   "source": [
    "def aoc_10_1(inp=inp):\n",
    "    adp = get_adapters(inp)\n",
    "    return get_diffs(adp, 1) * get_diffs(adp, 3)"
   ]
  },
  {
   "cell_type": "code",
   "execution_count": 190,
   "metadata": {
    "Collapsed": "false"
   },
   "outputs": [
    {
     "data": {
      "text/plain": [
       "3000"
      ]
     },
     "execution_count": 190,
     "metadata": {},
     "output_type": "execute_result"
    }
   ],
   "source": [
    "aoc_10_1()"
   ]
  },
  {
   "cell_type": "markdown",
   "metadata": {
    "Collapsed": "false"
   },
   "source": [
    "## 10.2"
   ]
  },
  {
   "cell_type": "markdown",
   "metadata": {
    "Collapsed": "false"
   },
   "source": [
    "- Count which adapters can be skipped.\n",
    "- Multiply these with each other.\n",
    "- Sometimes multiple adapters can be skipped, not sure if special case (I think so)."
   ]
  },
  {
   "cell_type": "code",
   "execution_count": 261,
   "metadata": {
    "Collapsed": "false"
   },
   "outputs": [],
   "source": [
    "def can_be_skipped(idx, ext):\n",
    "    assert 0 < idx < len(ext) - 1\n",
    "    return ext[idx+1] - ext[idx-1] <= 3"
   ]
  },
  {
   "cell_type": "code",
   "execution_count": 262,
   "metadata": {
    "Collapsed": "false"
   },
   "outputs": [],
   "source": [
    "def pair_can_be_skipped(idx, ext):\n",
    "    assert 0 < idx < len(ext) - 2\n",
    "    return ext[idx+2] - ext[idx-1] <= 3"
   ]
  },
  {
   "cell_type": "code",
   "execution_count": 288,
   "metadata": {
    "Collapsed": "false"
   },
   "outputs": [],
   "source": [
    "adp = get_adapters(test_inp_1)"
   ]
  },
  {
   "cell_type": "code",
   "execution_count": 289,
   "metadata": {
    "Collapsed": "false"
   },
   "outputs": [],
   "source": [
    "ext = extend_adapters(adp)"
   ]
  },
  {
   "cell_type": "code",
   "execution_count": 290,
   "metadata": {
    "Collapsed": "false"
   },
   "outputs": [
    {
     "data": {
      "text/plain": [
       "13"
      ]
     },
     "execution_count": 290,
     "metadata": {},
     "output_type": "execute_result"
    }
   ],
   "source": [
    "len(ext)"
   ]
  },
  {
   "cell_type": "code",
   "execution_count": 291,
   "metadata": {
    "Collapsed": "false"
   },
   "outputs": [
    {
     "name": "stdout",
     "output_type": "stream",
     "text": [
      "1 False False\n",
      "4 False False\n",
      "5 True True\n",
      "6 True False\n",
      "7 False False\n",
      "10 False False\n",
      "11 True False\n",
      "12 False False\n",
      "15 False False\n",
      "16 False False\n",
      "19 False\n"
     ]
    }
   ],
   "source": [
    "for idx, num in enumerate(ext):\n",
    "    if 0 < idx < len(ext) - 1:\n",
    "        cbs = can_be_skipped(idx, ext)\n",
    "        if idx != len(ext) - 2:\n",
    "            pcbs = pair_can_be_skipped(idx, ext)\n",
    "            print(num, cbs, pcbs)\n",
    "        else:\n",
    "            print(num, cbs)"
   ]
  },
  {
   "cell_type": "code",
   "execution_count": 273,
   "metadata": {
    "Collapsed": "false"
   },
   "outputs": [
    {
     "data": {
      "text/plain": [
       "(3, 1)"
      ]
     },
     "execution_count": 273,
     "metadata": {},
     "output_type": "execute_result"
    }
   ],
   "source": [
    "ctr, pctr = 0, 0\n",
    "for idx, num in enumerate(ext):\n",
    "    if 0 < idx < len(ext) - 1:\n",
    "        ctr += can_be_skipped(idx, ext)\n",
    "    if 0 < idx < len(ext) - 2:\n",
    "        pctr += pair_can_be_skipped(idx, ext)\n",
    "ctr, pctr"
   ]
  },
  {
   "cell_type": "code",
   "execution_count": 274,
   "metadata": {
    "Collapsed": "false"
   },
   "outputs": [],
   "source": [
    "adp = get_adapters(test_inp_2)"
   ]
  },
  {
   "cell_type": "code",
   "execution_count": 275,
   "metadata": {
    "Collapsed": "false"
   },
   "outputs": [],
   "source": [
    "ext = extend_adapters(adp)"
   ]
  },
  {
   "cell_type": "code",
   "execution_count": 276,
   "metadata": {
    "Collapsed": "false"
   },
   "outputs": [
    {
     "data": {
      "text/plain": [
       "33"
      ]
     },
     "execution_count": 276,
     "metadata": {},
     "output_type": "execute_result"
    }
   ],
   "source": [
    "len(ext)"
   ]
  },
  {
   "cell_type": "code",
   "execution_count": 277,
   "metadata": {
    "Collapsed": "false"
   },
   "outputs": [
    {
     "data": {
      "text/plain": [
       "(15, 9)"
      ]
     },
     "execution_count": 277,
     "metadata": {},
     "output_type": "execute_result"
    }
   ],
   "source": [
    "ctr, pctr = 0, 0\n",
    "for idx, num in enumerate(ext):\n",
    "    if 0 < idx < len(ext) - 1:\n",
    "        ctr += can_be_skipped(idx, ext)\n",
    "    if 0 < idx < len(ext) - 2:\n",
    "        pctr += pair_can_be_skipped(idx, ext)\n",
    "ctr, pctr"
   ]
  },
  {
   "cell_type": "code",
   "execution_count": null,
   "metadata": {
    "Collapsed": "false"
   },
   "outputs": [],
   "source": [
    "assert aoc_10_2(test_inp_1) == 8"
   ]
  },
  {
   "cell_type": "code",
   "execution_count": null,
   "metadata": {
    "Collapsed": "false"
   },
   "outputs": [],
   "source": [
    "assert aoc_10_2(test_inp_2) == 19_208"
   ]
  }
 ],
 "metadata": {
  "kernelspec": {
   "display_name": "Python 3",
   "language": "python",
   "name": "python3"
  },
  "language_info": {
   "codemirror_mode": {
    "name": "ipython",
    "version": 3
   },
   "file_extension": ".py",
   "mimetype": "text/x-python",
   "name": "python",
   "nbconvert_exporter": "python",
   "pygments_lexer": "ipython3",
   "version": "3.6.9"
  },
  "toc-autonumbering": false,
  "toc-showmarkdowntxt": false
 },
 "nbformat": 4,
 "nbformat_minor": 4
}
